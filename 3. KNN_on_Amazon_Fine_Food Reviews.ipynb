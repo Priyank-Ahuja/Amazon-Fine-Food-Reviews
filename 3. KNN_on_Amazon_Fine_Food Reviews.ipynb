{
  "nbformat": 4,
  "nbformat_minor": 0,
  "metadata": {
    "colab": {
      "name": "KNN on Amazon Fine Food Reviews.ipynb",
      "version": "0.3.2",
      "provenance": [],
      "collapsed_sections": []
    },
    "kernelspec": {
      "name": "python3",
      "display_name": "Python 3"
    },
    "accelerator": "GPU"
  },
  "cells": [
    {
      "metadata": {
        "id": "v1JOM1B_qIUU",
        "colab_type": "text"
      },
      "cell_type": "markdown",
      "source": [
        "#Perfoming K-Nearest Neighbours on Amazon Fine Food Reviews\n",
        "\n",
        "Data Source: https://www.kaggle.com/snap/amazon-fine-food-reviews \n",
        "\n",
        "The Amazon Fine Food Reviews dataset consists of reviews of fine foods from Amazon.\n",
        "\n",
        "Number of reviews : 568,454\n",
        "\n",
        "Number of products : 74,258\n",
        "\n",
        "Timespan : Oct 1999 - Oct 2012\n",
        "\n",
        "Number of Attributes/Columns in data : 10\n",
        "\n",
        "###Attribute Information:\n",
        "\n",
        "1. Id\n",
        "2. ProductId - unique identifier for the product\n",
        "3. UserId - unqiue identifier for the user\n",
        "4. ProfileName\n",
        "5. HelpfulnessNumerator - number of users who found the review helpful\n",
        "6. HelpfulnessDenominator - number of users who indicated whether they found the review helpful or not\n",
        "7. Score - rating between 1 and 5\n",
        "8. Time - timestamp for the review\n",
        "9. Summary - brief summary of the review\n",
        "10. Text - text of the review\n",
        "\n",
        "###Objective:\n",
        "\n",
        "Given a review, determine whether the review is positive (rating of 4 or 5) or negative (rating of 1 or 2)."
      ]
    },
    {
      "metadata": {
        "id": "0kiBEh1is_3B",
        "colab_type": "text"
      },
      "cell_type": "markdown",
      "source": [
        "##1. Reading Data\n",
        "\n",
        "###1.1. Loading Data\n",
        "\n",
        "The dataset is available in two forms\n",
        "\n",
        "1. csv file\n",
        "2. SQLite Database\n",
        "\n",
        "In order to load the data, We have used the SQLITE dataset as it is easier to query the data and visualise the data efficiently. \n",
        "Here as we only want to get the global sentiment of the recommendations (positive or negative), we will purposefully ignore all Scores equal to 3. If the score is above 3, then the recommendation wil be set to \"positive\". Otherwise, it will be set to \"negative\"."
      ]
    },
    {
      "metadata": {
        "id": "PTjHLV0UHSsC",
        "colab_type": "code",
        "colab": {}
      },
      "cell_type": "code",
      "source": [
        "%matplotlib inline\n",
        "import warnings\n",
        "warnings.filterwarnings(\"ignore\")\n",
        "\n",
        "\n",
        "import sqlite3\n",
        "import pandas as pd\n",
        "import numpy as np\n",
        "import nltk\n",
        "import string\n",
        "import matplotlib.pyplot as plt\n",
        "import seaborn as sns\n",
        "from sklearn.feature_extraction.text import TfidfTransformer\n",
        "from sklearn.feature_extraction.text import TfidfVectorizer\n",
        "\n",
        "from sklearn.feature_extraction.text import CountVectorizer\n",
        "from sklearn.metrics import confusion_matrix\n",
        "from sklearn import metrics\n",
        "from sklearn.metrics import roc_curve, auc\n",
        "from nltk.stem.porter import PorterStemmer\n",
        "import sklearn\n",
        "import re\n",
        "# Tutorial about Python regular expressions: https://pymotw.com/2/re/\n",
        "import string\n",
        "from nltk.corpus import stopwords\n",
        "from nltk.stem import PorterStemmer\n",
        "from nltk.stem.wordnet import WordNetLemmatizer\n",
        "\n",
        "from gensim.models import Word2Vec\n",
        "from gensim.models import KeyedVectors\n",
        "import pickle\n",
        "\n",
        "from tqdm import tqdm\n",
        "import os\n",
        "\n",
        "from sklearn.model_selection import train_test_split\n",
        "from sklearn.neighbors import KNeighborsClassifier\n",
        "from sklearn.metrics import accuracy_score\n",
        "from sklearn.model_selection import cross_val_score\n",
        "from collections import Counter\n",
        "from sklearn.model_selection import cross_validate"
      ],
      "execution_count": 0,
      "outputs": []
    },
    {
      "metadata": {
        "id": "hPRNODr9e_TZ",
        "colab_type": "code",
        "outputId": "146d0e5c-4c71-46bb-b0ae-f50aa5cc64bd",
        "colab": {
          "base_uri": "https://localhost:8080/",
          "height": 122
        }
      },
      "cell_type": "code",
      "source": [
        "# Load the Drive helper and mount\n",
        "from google.colab import drive\n",
        "\n",
        "# This will prompt for authorization.\n",
        "drive.mount('/content/drive')"
      ],
      "execution_count": 3,
      "outputs": [
        {
          "output_type": "stream",
          "text": [
            "Go to this URL in a browser: https://accounts.google.com/o/oauth2/auth?client_id=947318989803-6bn6qk8qdgf4n4g3pfee6491hc0brc4i.apps.googleusercontent.com&redirect_uri=urn%3Aietf%3Awg%3Aoauth%3A2.0%3Aoob&scope=email%20https%3A%2F%2Fwww.googleapis.com%2Fauth%2Fdocs.test%20https%3A%2F%2Fwww.googleapis.com%2Fauth%2Fdrive%20https%3A%2F%2Fwww.googleapis.com%2Fauth%2Fdrive.photos.readonly%20https%3A%2F%2Fwww.googleapis.com%2Fauth%2Fpeopleapi.readonly&response_type=code\n",
            "\n",
            "Enter your authorization code:\n",
            "··········\n",
            "Mounted at /content/drive\n"
          ],
          "name": "stdout"
        }
      ]
    },
    {
      "metadata": {
        "id": "cabZdW32fOqi",
        "colab_type": "code",
        "outputId": "8c2429a6-5ca4-4bf4-fd30-a997436a16ec",
        "colab": {
          "base_uri": "https://localhost:8080/",
          "height": 34
        }
      },
      "cell_type": "code",
      "source": [
        "#lists the content of your google drive\n",
        "!ls \"/content/drive/My Drive/datasets/amazon fine food\"\n"
      ],
      "execution_count": 4,
      "outputs": [
        {
          "output_type": "stream",
          "text": [
            "database.sqlite\n"
          ],
          "name": "stdout"
        }
      ]
    },
    {
      "metadata": {
        "id": "OtO1I4yoILKO",
        "colab_type": "code",
        "outputId": "ec7311b8-090e-476e-b881-9af154740e85",
        "colab": {
          "base_uri": "https://localhost:8080/",
          "height": 244
        }
      },
      "cell_type": "code",
      "source": [
        "# using SQLite Table to read data.\n",
        "con = sqlite3.connect('/content/drive/My Drive/datasets/amazon fine food/database.sqlite') \n",
        "\n",
        "# filtering only positive and negative reviews i.e. not taking into consideration those reviews with Score=3\n",
        "# for this analysis we are only taking 50000 data points considering our computing power\n",
        "\n",
        "filtered_data = pd.read_sql_query(\"\"\" SELECT * FROM Reviews WHERE Score != 3 LIMIT 50000\"\"\", con) \n",
        "\n",
        "# Give reviews with Score>3 a positive rating(1), and reviews with a score<3 a negative rating(0).\n",
        "def partition(x):\n",
        "    if x < 3:\n",
        "        return 0\n",
        "    return 1\n",
        "\n",
        "#changing reviews with score less than 3 to be positive and vice-versa\n",
        "actualScore = filtered_data['Score']\n",
        "positiveNegative = actualScore.map(partition) \n",
        "filtered_data['Score'] = positiveNegative\n",
        "print(\"Number of data points in our data\", filtered_data.shape)\n",
        "filtered_data.head(3)"
      ],
      "execution_count": 5,
      "outputs": [
        {
          "output_type": "stream",
          "text": [
            "Number of data points in our data (50000, 10)\n"
          ],
          "name": "stdout"
        },
        {
          "output_type": "execute_result",
          "data": {
            "text/html": [
              "<div>\n",
              "<style scoped>\n",
              "    .dataframe tbody tr th:only-of-type {\n",
              "        vertical-align: middle;\n",
              "    }\n",
              "\n",
              "    .dataframe tbody tr th {\n",
              "        vertical-align: top;\n",
              "    }\n",
              "\n",
              "    .dataframe thead th {\n",
              "        text-align: right;\n",
              "    }\n",
              "</style>\n",
              "<table border=\"1\" class=\"dataframe\">\n",
              "  <thead>\n",
              "    <tr style=\"text-align: right;\">\n",
              "      <th></th>\n",
              "      <th>Id</th>\n",
              "      <th>ProductId</th>\n",
              "      <th>UserId</th>\n",
              "      <th>ProfileName</th>\n",
              "      <th>HelpfulnessNumerator</th>\n",
              "      <th>HelpfulnessDenominator</th>\n",
              "      <th>Score</th>\n",
              "      <th>Time</th>\n",
              "      <th>Summary</th>\n",
              "      <th>Text</th>\n",
              "    </tr>\n",
              "  </thead>\n",
              "  <tbody>\n",
              "    <tr>\n",
              "      <th>0</th>\n",
              "      <td>1</td>\n",
              "      <td>B001E4KFG0</td>\n",
              "      <td>A3SGXH7AUHU8GW</td>\n",
              "      <td>delmartian</td>\n",
              "      <td>1</td>\n",
              "      <td>1</td>\n",
              "      <td>1</td>\n",
              "      <td>1303862400</td>\n",
              "      <td>Good Quality Dog Food</td>\n",
              "      <td>I have bought several of the Vitality canned d...</td>\n",
              "    </tr>\n",
              "    <tr>\n",
              "      <th>1</th>\n",
              "      <td>2</td>\n",
              "      <td>B00813GRG4</td>\n",
              "      <td>A1D87F6ZCVE5NK</td>\n",
              "      <td>dll pa</td>\n",
              "      <td>0</td>\n",
              "      <td>0</td>\n",
              "      <td>0</td>\n",
              "      <td>1346976000</td>\n",
              "      <td>Not as Advertised</td>\n",
              "      <td>Product arrived labeled as Jumbo Salted Peanut...</td>\n",
              "    </tr>\n",
              "    <tr>\n",
              "      <th>2</th>\n",
              "      <td>3</td>\n",
              "      <td>B000LQOCH0</td>\n",
              "      <td>ABXLMWJIXXAIN</td>\n",
              "      <td>Natalia Corres \"Natalia Corres\"</td>\n",
              "      <td>1</td>\n",
              "      <td>1</td>\n",
              "      <td>1</td>\n",
              "      <td>1219017600</td>\n",
              "      <td>\"Delight\" says it all</td>\n",
              "      <td>This is a confection that has been around a fe...</td>\n",
              "    </tr>\n",
              "  </tbody>\n",
              "</table>\n",
              "</div>"
            ],
            "text/plain": [
              "   Id   ProductId          UserId                      ProfileName  \\\n",
              "0   1  B001E4KFG0  A3SGXH7AUHU8GW                       delmartian   \n",
              "1   2  B00813GRG4  A1D87F6ZCVE5NK                           dll pa   \n",
              "2   3  B000LQOCH0   ABXLMWJIXXAIN  Natalia Corres \"Natalia Corres\"   \n",
              "\n",
              "   HelpfulnessNumerator  HelpfulnessDenominator  Score        Time  \\\n",
              "0                     1                       1      1  1303862400   \n",
              "1                     0                       0      0  1346976000   \n",
              "2                     1                       1      1  1219017600   \n",
              "\n",
              "                 Summary                                               Text  \n",
              "0  Good Quality Dog Food  I have bought several of the Vitality canned d...  \n",
              "1      Not as Advertised  Product arrived labeled as Jumbo Salted Peanut...  \n",
              "2  \"Delight\" says it all  This is a confection that has been around a fe...  "
            ]
          },
          "metadata": {
            "tags": []
          },
          "execution_count": 5
        }
      ]
    },
    {
      "metadata": {
        "id": "7pThHv1XIMA1",
        "colab_type": "code",
        "colab": {}
      },
      "cell_type": "code",
      "source": [
        "display = pd.read_sql_query(\"\"\"\n",
        "SELECT UserId, ProductId, ProfileName, Time, Score, Text, COUNT(*)\n",
        "FROM Reviews\n",
        "GROUP BY UserId\n",
        "HAVING COUNT(*)>1\n",
        "\"\"\", con)"
      ],
      "execution_count": 0,
      "outputs": []
    },
    {
      "metadata": {
        "id": "GVaSLwVnirO0",
        "colab_type": "code",
        "outputId": "8137bd8e-39b7-498d-ae2a-5f6c92217845",
        "colab": {
          "base_uri": "https://localhost:8080/",
          "height": 221
        }
      },
      "cell_type": "code",
      "source": [
        "print(display.shape)\n",
        "display.head()"
      ],
      "execution_count": 7,
      "outputs": [
        {
          "output_type": "stream",
          "text": [
            "(80668, 7)\n"
          ],
          "name": "stdout"
        },
        {
          "output_type": "execute_result",
          "data": {
            "text/html": [
              "<div>\n",
              "<style scoped>\n",
              "    .dataframe tbody tr th:only-of-type {\n",
              "        vertical-align: middle;\n",
              "    }\n",
              "\n",
              "    .dataframe tbody tr th {\n",
              "        vertical-align: top;\n",
              "    }\n",
              "\n",
              "    .dataframe thead th {\n",
              "        text-align: right;\n",
              "    }\n",
              "</style>\n",
              "<table border=\"1\" class=\"dataframe\">\n",
              "  <thead>\n",
              "    <tr style=\"text-align: right;\">\n",
              "      <th></th>\n",
              "      <th>UserId</th>\n",
              "      <th>ProductId</th>\n",
              "      <th>ProfileName</th>\n",
              "      <th>Time</th>\n",
              "      <th>Score</th>\n",
              "      <th>Text</th>\n",
              "      <th>COUNT(*)</th>\n",
              "    </tr>\n",
              "  </thead>\n",
              "  <tbody>\n",
              "    <tr>\n",
              "      <th>0</th>\n",
              "      <td>#oc-R115TNMSPFT9I7</td>\n",
              "      <td>B007Y59HVM</td>\n",
              "      <td>Breyton</td>\n",
              "      <td>1331510400</td>\n",
              "      <td>2</td>\n",
              "      <td>Overall its just OK when considering the price...</td>\n",
              "      <td>2</td>\n",
              "    </tr>\n",
              "    <tr>\n",
              "      <th>1</th>\n",
              "      <td>#oc-R11D9D7SHXIJB9</td>\n",
              "      <td>B005HG9ET0</td>\n",
              "      <td>Louis E. Emory \"hoppy\"</td>\n",
              "      <td>1342396800</td>\n",
              "      <td>5</td>\n",
              "      <td>My wife has recurring extreme muscle spasms, u...</td>\n",
              "      <td>3</td>\n",
              "    </tr>\n",
              "    <tr>\n",
              "      <th>2</th>\n",
              "      <td>#oc-R11DNU2NBKQ23Z</td>\n",
              "      <td>B007Y59HVM</td>\n",
              "      <td>Kim Cieszykowski</td>\n",
              "      <td>1348531200</td>\n",
              "      <td>1</td>\n",
              "      <td>This coffee is horrible and unfortunately not ...</td>\n",
              "      <td>2</td>\n",
              "    </tr>\n",
              "    <tr>\n",
              "      <th>3</th>\n",
              "      <td>#oc-R11O5J5ZVQE25C</td>\n",
              "      <td>B005HG9ET0</td>\n",
              "      <td>Penguin Chick</td>\n",
              "      <td>1346889600</td>\n",
              "      <td>5</td>\n",
              "      <td>This will be the bottle that you grab from the...</td>\n",
              "      <td>3</td>\n",
              "    </tr>\n",
              "    <tr>\n",
              "      <th>4</th>\n",
              "      <td>#oc-R12KPBODL2B5ZD</td>\n",
              "      <td>B007OSBE1U</td>\n",
              "      <td>Christopher P. Presta</td>\n",
              "      <td>1348617600</td>\n",
              "      <td>1</td>\n",
              "      <td>I didnt like this coffee. Instead of telling y...</td>\n",
              "      <td>2</td>\n",
              "    </tr>\n",
              "  </tbody>\n",
              "</table>\n",
              "</div>"
            ],
            "text/plain": [
              "               UserId   ProductId             ProfileName        Time  Score  \\\n",
              "0  #oc-R115TNMSPFT9I7  B007Y59HVM                 Breyton  1331510400      2   \n",
              "1  #oc-R11D9D7SHXIJB9  B005HG9ET0  Louis E. Emory \"hoppy\"  1342396800      5   \n",
              "2  #oc-R11DNU2NBKQ23Z  B007Y59HVM        Kim Cieszykowski  1348531200      1   \n",
              "3  #oc-R11O5J5ZVQE25C  B005HG9ET0           Penguin Chick  1346889600      5   \n",
              "4  #oc-R12KPBODL2B5ZD  B007OSBE1U   Christopher P. Presta  1348617600      1   \n",
              "\n",
              "                                                Text  COUNT(*)  \n",
              "0  Overall its just OK when considering the price...         2  \n",
              "1  My wife has recurring extreme muscle spasms, u...         3  \n",
              "2  This coffee is horrible and unfortunately not ...         2  \n",
              "3  This will be the bottle that you grab from the...         3  \n",
              "4  I didnt like this coffee. Instead of telling y...         2  "
            ]
          },
          "metadata": {
            "tags": []
          },
          "execution_count": 7
        }
      ]
    },
    {
      "metadata": {
        "id": "E1CpG9dDiuMc",
        "colab_type": "code",
        "outputId": "2d8c20f0-e524-4b0a-c7cf-eb98124e37e0",
        "colab": {
          "base_uri": "https://localhost:8080/",
          "height": 80
        }
      },
      "cell_type": "code",
      "source": [
        "display[display['UserId']=='AZY10LLTJ71NX']"
      ],
      "execution_count": 8,
      "outputs": [
        {
          "output_type": "execute_result",
          "data": {
            "text/html": [
              "<div>\n",
              "<style scoped>\n",
              "    .dataframe tbody tr th:only-of-type {\n",
              "        vertical-align: middle;\n",
              "    }\n",
              "\n",
              "    .dataframe tbody tr th {\n",
              "        vertical-align: top;\n",
              "    }\n",
              "\n",
              "    .dataframe thead th {\n",
              "        text-align: right;\n",
              "    }\n",
              "</style>\n",
              "<table border=\"1\" class=\"dataframe\">\n",
              "  <thead>\n",
              "    <tr style=\"text-align: right;\">\n",
              "      <th></th>\n",
              "      <th>UserId</th>\n",
              "      <th>ProductId</th>\n",
              "      <th>ProfileName</th>\n",
              "      <th>Time</th>\n",
              "      <th>Score</th>\n",
              "      <th>Text</th>\n",
              "      <th>COUNT(*)</th>\n",
              "    </tr>\n",
              "  </thead>\n",
              "  <tbody>\n",
              "    <tr>\n",
              "      <th>80638</th>\n",
              "      <td>AZY10LLTJ71NX</td>\n",
              "      <td>B006P7E5ZI</td>\n",
              "      <td>undertheshrine \"undertheshrine\"</td>\n",
              "      <td>1334707200</td>\n",
              "      <td>5</td>\n",
              "      <td>I was recommended to try green tea extract to ...</td>\n",
              "      <td>5</td>\n",
              "    </tr>\n",
              "  </tbody>\n",
              "</table>\n",
              "</div>"
            ],
            "text/plain": [
              "              UserId   ProductId                      ProfileName        Time  \\\n",
              "80638  AZY10LLTJ71NX  B006P7E5ZI  undertheshrine \"undertheshrine\"  1334707200   \n",
              "\n",
              "       Score                                               Text  COUNT(*)  \n",
              "80638      5  I was recommended to try green tea extract to ...         5  "
            ]
          },
          "metadata": {
            "tags": []
          },
          "execution_count": 8
        }
      ]
    },
    {
      "metadata": {
        "id": "OjAKv3Xliwmr",
        "colab_type": "code",
        "outputId": "86a52cc3-512f-4575-ec87-545bfdf2fab5",
        "colab": {
          "base_uri": "https://localhost:8080/",
          "height": 34
        }
      },
      "cell_type": "code",
      "source": [
        "display['COUNT(*)'].sum()"
      ],
      "execution_count": 9,
      "outputs": [
        {
          "output_type": "execute_result",
          "data": {
            "text/plain": [
              "393063"
            ]
          },
          "metadata": {
            "tags": []
          },
          "execution_count": 9
        }
      ]
    },
    {
      "metadata": {
        "id": "-syLPHFlvr4c",
        "colab_type": "text"
      },
      "cell_type": "markdown",
      "source": [
        "##2. Exploratory Data Analysis\n",
        "\n",
        "###2.1. Data Cleaning: Deduplication\n",
        "\n",
        "It is observed (as shown in the table below) that the reviews data had many duplicate entries. Hence it was necessary to remove duplicates in order to get unbiased results for the analysis of the data. Following is an example:"
      ]
    },
    {
      "metadata": {
        "id": "bp3rQ5J8iyv7",
        "colab_type": "code",
        "outputId": "1d9e8a80-757d-4096-fdad-f67bed893dc9",
        "colab": {
          "base_uri": "https://localhost:8080/",
          "height": 374
        }
      },
      "cell_type": "code",
      "source": [
        "display= pd.read_sql_query(\"\"\"\n",
        "SELECT *\n",
        "FROM Reviews\n",
        "WHERE Score != 3 AND UserId=\"AR5J8UI46CURR\"\n",
        "ORDER BY ProductID\n",
        "\"\"\", con)\n",
        "display.head()"
      ],
      "execution_count": 10,
      "outputs": [
        {
          "output_type": "execute_result",
          "data": {
            "text/html": [
              "<div>\n",
              "<style scoped>\n",
              "    .dataframe tbody tr th:only-of-type {\n",
              "        vertical-align: middle;\n",
              "    }\n",
              "\n",
              "    .dataframe tbody tr th {\n",
              "        vertical-align: top;\n",
              "    }\n",
              "\n",
              "    .dataframe thead th {\n",
              "        text-align: right;\n",
              "    }\n",
              "</style>\n",
              "<table border=\"1\" class=\"dataframe\">\n",
              "  <thead>\n",
              "    <tr style=\"text-align: right;\">\n",
              "      <th></th>\n",
              "      <th>Id</th>\n",
              "      <th>ProductId</th>\n",
              "      <th>UserId</th>\n",
              "      <th>ProfileName</th>\n",
              "      <th>HelpfulnessNumerator</th>\n",
              "      <th>HelpfulnessDenominator</th>\n",
              "      <th>Score</th>\n",
              "      <th>Time</th>\n",
              "      <th>Summary</th>\n",
              "      <th>Text</th>\n",
              "    </tr>\n",
              "  </thead>\n",
              "  <tbody>\n",
              "    <tr>\n",
              "      <th>0</th>\n",
              "      <td>78445</td>\n",
              "      <td>B000HDL1RQ</td>\n",
              "      <td>AR5J8UI46CURR</td>\n",
              "      <td>Geetha Krishnan</td>\n",
              "      <td>2</td>\n",
              "      <td>2</td>\n",
              "      <td>5</td>\n",
              "      <td>1199577600</td>\n",
              "      <td>LOACKER QUADRATINI VANILLA WAFERS</td>\n",
              "      <td>DELICIOUS WAFERS. I FIND THAT EUROPEAN WAFERS ...</td>\n",
              "    </tr>\n",
              "    <tr>\n",
              "      <th>1</th>\n",
              "      <td>138317</td>\n",
              "      <td>B000HDOPYC</td>\n",
              "      <td>AR5J8UI46CURR</td>\n",
              "      <td>Geetha Krishnan</td>\n",
              "      <td>2</td>\n",
              "      <td>2</td>\n",
              "      <td>5</td>\n",
              "      <td>1199577600</td>\n",
              "      <td>LOACKER QUADRATINI VANILLA WAFERS</td>\n",
              "      <td>DELICIOUS WAFERS. I FIND THAT EUROPEAN WAFERS ...</td>\n",
              "    </tr>\n",
              "    <tr>\n",
              "      <th>2</th>\n",
              "      <td>138277</td>\n",
              "      <td>B000HDOPYM</td>\n",
              "      <td>AR5J8UI46CURR</td>\n",
              "      <td>Geetha Krishnan</td>\n",
              "      <td>2</td>\n",
              "      <td>2</td>\n",
              "      <td>5</td>\n",
              "      <td>1199577600</td>\n",
              "      <td>LOACKER QUADRATINI VANILLA WAFERS</td>\n",
              "      <td>DELICIOUS WAFERS. I FIND THAT EUROPEAN WAFERS ...</td>\n",
              "    </tr>\n",
              "    <tr>\n",
              "      <th>3</th>\n",
              "      <td>73791</td>\n",
              "      <td>B000HDOPZG</td>\n",
              "      <td>AR5J8UI46CURR</td>\n",
              "      <td>Geetha Krishnan</td>\n",
              "      <td>2</td>\n",
              "      <td>2</td>\n",
              "      <td>5</td>\n",
              "      <td>1199577600</td>\n",
              "      <td>LOACKER QUADRATINI VANILLA WAFERS</td>\n",
              "      <td>DELICIOUS WAFERS. I FIND THAT EUROPEAN WAFERS ...</td>\n",
              "    </tr>\n",
              "    <tr>\n",
              "      <th>4</th>\n",
              "      <td>155049</td>\n",
              "      <td>B000PAQ75C</td>\n",
              "      <td>AR5J8UI46CURR</td>\n",
              "      <td>Geetha Krishnan</td>\n",
              "      <td>2</td>\n",
              "      <td>2</td>\n",
              "      <td>5</td>\n",
              "      <td>1199577600</td>\n",
              "      <td>LOACKER QUADRATINI VANILLA WAFERS</td>\n",
              "      <td>DELICIOUS WAFERS. I FIND THAT EUROPEAN WAFERS ...</td>\n",
              "    </tr>\n",
              "  </tbody>\n",
              "</table>\n",
              "</div>"
            ],
            "text/plain": [
              "       Id   ProductId         UserId      ProfileName  HelpfulnessNumerator  \\\n",
              "0   78445  B000HDL1RQ  AR5J8UI46CURR  Geetha Krishnan                     2   \n",
              "1  138317  B000HDOPYC  AR5J8UI46CURR  Geetha Krishnan                     2   \n",
              "2  138277  B000HDOPYM  AR5J8UI46CURR  Geetha Krishnan                     2   \n",
              "3   73791  B000HDOPZG  AR5J8UI46CURR  Geetha Krishnan                     2   \n",
              "4  155049  B000PAQ75C  AR5J8UI46CURR  Geetha Krishnan                     2   \n",
              "\n",
              "   HelpfulnessDenominator  Score        Time  \\\n",
              "0                       2      5  1199577600   \n",
              "1                       2      5  1199577600   \n",
              "2                       2      5  1199577600   \n",
              "3                       2      5  1199577600   \n",
              "4                       2      5  1199577600   \n",
              "\n",
              "                             Summary  \\\n",
              "0  LOACKER QUADRATINI VANILLA WAFERS   \n",
              "1  LOACKER QUADRATINI VANILLA WAFERS   \n",
              "2  LOACKER QUADRATINI VANILLA WAFERS   \n",
              "3  LOACKER QUADRATINI VANILLA WAFERS   \n",
              "4  LOACKER QUADRATINI VANILLA WAFERS   \n",
              "\n",
              "                                                Text  \n",
              "0  DELICIOUS WAFERS. I FIND THAT EUROPEAN WAFERS ...  \n",
              "1  DELICIOUS WAFERS. I FIND THAT EUROPEAN WAFERS ...  \n",
              "2  DELICIOUS WAFERS. I FIND THAT EUROPEAN WAFERS ...  \n",
              "3  DELICIOUS WAFERS. I FIND THAT EUROPEAN WAFERS ...  \n",
              "4  DELICIOUS WAFERS. I FIND THAT EUROPEAN WAFERS ...  "
            ]
          },
          "metadata": {
            "tags": []
          },
          "execution_count": 10
        }
      ]
    },
    {
      "metadata": {
        "id": "VuVp9ioswJFn",
        "colab_type": "text"
      },
      "cell_type": "markdown",
      "source": [
        "As it can be seen above that same user has multiple reviews with same values for HelpfulnessNumerator, HelpfulnessDenominator, Score, Time, Summary and Text and on doing analysis it was found that \n",
        "\n",
        "ProductId=B000HDOPZG was Loacker Quadratini Vanilla Wafer Cookies, 8.82-Ounce Packages (Pack of 8)\n",
        "\n",
        "ProductId=B000HDL1RQ was Loacker Quadratini Lemon Wafer Cookies, 8.82-Ounce Packages (Pack of 8) and so on\n",
        "\n",
        "It was inferred after analysis that reviews with same parameters other than ProductId belonged to the same product just having different flavour or quantity. Hence in order to reduce redundancy it was decided to eliminate the rows having same parameters.\n",
        "\n",
        "The method used for the same was that we first sort the data according to ProductId and then just keep the first similar product review and delelte the others. for eg. in the above just the review for ProductId=B000HDL1RQ remains. This method ensures that there is only one representative for each product and deduplication without sorting would lead to possibility of different representatives still existing for the same product."
      ]
    },
    {
      "metadata": {
        "id": "2gLn_JtqjWpp",
        "colab_type": "code",
        "colab": {}
      },
      "cell_type": "code",
      "source": [
        "#Sorting data according to ProductId in ascending order\n",
        "sorted_data=filtered_data.sort_values('ProductId', axis=0, ascending=True, inplace=False, kind='quicksort', na_position='last')"
      ],
      "execution_count": 0,
      "outputs": []
    },
    {
      "metadata": {
        "id": "ejPPDAkejakN",
        "colab_type": "code",
        "outputId": "c130f008-2143-4d06-8a4d-2954143f99a6",
        "colab": {
          "base_uri": "https://localhost:8080/",
          "height": 34
        }
      },
      "cell_type": "code",
      "source": [
        "#Deduplication of entries\n",
        "final=sorted_data.drop_duplicates(subset={\"UserId\",\"ProfileName\",\"Time\",\"Text\"}, keep='first', inplace=False)\n",
        "final.shape"
      ],
      "execution_count": 12,
      "outputs": [
        {
          "output_type": "execute_result",
          "data": {
            "text/plain": [
              "(46072, 10)"
            ]
          },
          "metadata": {
            "tags": []
          },
          "execution_count": 12
        }
      ]
    },
    {
      "metadata": {
        "id": "TPFIJfVXjczI",
        "colab_type": "code",
        "outputId": "98756d2e-91e8-41ed-cdd8-82cb1c9b9bad",
        "colab": {
          "base_uri": "https://localhost:8080/",
          "height": 34
        }
      },
      "cell_type": "code",
      "source": [
        "#Checking to see how much % of data still remains\n",
        "(final['Id'].size*1.0)/(filtered_data['Id'].size*1.0)*100"
      ],
      "execution_count": 13,
      "outputs": [
        {
          "output_type": "execute_result",
          "data": {
            "text/plain": [
              "92.144"
            ]
          },
          "metadata": {
            "tags": []
          },
          "execution_count": 13
        }
      ]
    },
    {
      "metadata": {
        "id": "xfPm2efUwrVY",
        "colab_type": "text"
      },
      "cell_type": "markdown",
      "source": [
        "###Observation:-\n",
        "It was also seen that in two rows given below the value of HelpfulnessNumerator is greater than HelpfulnessDenominator which is not practically possible hence these two rows too are removed from calcualtions"
      ]
    },
    {
      "metadata": {
        "id": "2G_Z7mPJjfcs",
        "colab_type": "code",
        "outputId": "33fdfaa6-8cfb-4fe8-dcf5-a53ce6cadb5d",
        "colab": {
          "base_uri": "https://localhost:8080/",
          "height": 179
        }
      },
      "cell_type": "code",
      "source": [
        "display= pd.read_sql_query(\"\"\"\n",
        "SELECT *\n",
        "FROM Reviews\n",
        "WHERE Score != 3 AND Id=44737 OR Id=64422\n",
        "ORDER BY ProductID\n",
        "\"\"\", con)\n",
        "\n",
        "display.head()"
      ],
      "execution_count": 14,
      "outputs": [
        {
          "output_type": "execute_result",
          "data": {
            "text/html": [
              "<div>\n",
              "<style scoped>\n",
              "    .dataframe tbody tr th:only-of-type {\n",
              "        vertical-align: middle;\n",
              "    }\n",
              "\n",
              "    .dataframe tbody tr th {\n",
              "        vertical-align: top;\n",
              "    }\n",
              "\n",
              "    .dataframe thead th {\n",
              "        text-align: right;\n",
              "    }\n",
              "</style>\n",
              "<table border=\"1\" class=\"dataframe\">\n",
              "  <thead>\n",
              "    <tr style=\"text-align: right;\">\n",
              "      <th></th>\n",
              "      <th>Id</th>\n",
              "      <th>ProductId</th>\n",
              "      <th>UserId</th>\n",
              "      <th>ProfileName</th>\n",
              "      <th>HelpfulnessNumerator</th>\n",
              "      <th>HelpfulnessDenominator</th>\n",
              "      <th>Score</th>\n",
              "      <th>Time</th>\n",
              "      <th>Summary</th>\n",
              "      <th>Text</th>\n",
              "    </tr>\n",
              "  </thead>\n",
              "  <tbody>\n",
              "    <tr>\n",
              "      <th>0</th>\n",
              "      <td>64422</td>\n",
              "      <td>B000MIDROQ</td>\n",
              "      <td>A161DK06JJMCYF</td>\n",
              "      <td>J. E. Stephens \"Jeanne\"</td>\n",
              "      <td>3</td>\n",
              "      <td>1</td>\n",
              "      <td>5</td>\n",
              "      <td>1224892800</td>\n",
              "      <td>Bought This for My Son at College</td>\n",
              "      <td>My son loves spaghetti so I didn't hesitate or...</td>\n",
              "    </tr>\n",
              "    <tr>\n",
              "      <th>1</th>\n",
              "      <td>44737</td>\n",
              "      <td>B001EQ55RW</td>\n",
              "      <td>A2V0I904FH7ABY</td>\n",
              "      <td>Ram</td>\n",
              "      <td>3</td>\n",
              "      <td>2</td>\n",
              "      <td>4</td>\n",
              "      <td>1212883200</td>\n",
              "      <td>Pure cocoa taste with crunchy almonds inside</td>\n",
              "      <td>It was almost a 'love at first bite' - the per...</td>\n",
              "    </tr>\n",
              "  </tbody>\n",
              "</table>\n",
              "</div>"
            ],
            "text/plain": [
              "      Id   ProductId          UserId              ProfileName  \\\n",
              "0  64422  B000MIDROQ  A161DK06JJMCYF  J. E. Stephens \"Jeanne\"   \n",
              "1  44737  B001EQ55RW  A2V0I904FH7ABY                      Ram   \n",
              "\n",
              "   HelpfulnessNumerator  HelpfulnessDenominator  Score        Time  \\\n",
              "0                     3                       1      5  1224892800   \n",
              "1                     3                       2      4  1212883200   \n",
              "\n",
              "                                        Summary  \\\n",
              "0             Bought This for My Son at College   \n",
              "1  Pure cocoa taste with crunchy almonds inside   \n",
              "\n",
              "                                                Text  \n",
              "0  My son loves spaghetti so I didn't hesitate or...  \n",
              "1  It was almost a 'love at first bite' - the per...  "
            ]
          },
          "metadata": {
            "tags": []
          },
          "execution_count": 14
        }
      ]
    },
    {
      "metadata": {
        "id": "JzzbzRA5jiGP",
        "colab_type": "code",
        "colab": {}
      },
      "cell_type": "code",
      "source": [
        "final=final[final.HelpfulnessNumerator<=final.HelpfulnessDenominator]"
      ],
      "execution_count": 0,
      "outputs": []
    },
    {
      "metadata": {
        "id": "WHMfYUM0j2N7",
        "colab_type": "code",
        "outputId": "721bba69-1093-4eb8-91f4-8dfe1a7f94c8",
        "colab": {
          "base_uri": "https://localhost:8080/",
          "height": 85
        }
      },
      "cell_type": "code",
      "source": [
        "#Before starting the next phase of preprocessing lets see the number of entries left\n",
        "print(final.shape)\n",
        "\n",
        "#How many positive and negative reviews are present in our dataset?\n",
        "final['Score'].value_counts()"
      ],
      "execution_count": 16,
      "outputs": [
        {
          "output_type": "stream",
          "text": [
            "(46071, 10)\n"
          ],
          "name": "stdout"
        },
        {
          "output_type": "execute_result",
          "data": {
            "text/plain": [
              "1    38479\n",
              "0     7592\n",
              "Name: Score, dtype: int64"
            ]
          },
          "metadata": {
            "tags": []
          },
          "execution_count": 16
        }
      ]
    },
    {
      "metadata": {
        "id": "LAMgFCCdw1b1",
        "colab_type": "text"
      },
      "cell_type": "markdown",
      "source": [
        "##3. Preprocessing \n",
        "\n",
        "###3.1. Preprocessing Review Text\n",
        "\n",
        "Now that we have finished deduplication our data requires some preprocessing before we go on further with analysis and making the prediction model.\n",
        "\n",
        "Hence in the Preprocessing phase we do the following in the order below:-\n",
        "\n",
        "1. Begin by removing the html tags\n",
        "2. Remove any punctuations or limited set of special characters like , or . or # etc.\n",
        "3. Check if the word is made up of english letters and is not alpha-numeric\n",
        "4. Check to see if the length of the word is greater than 2 (as it was researched that there is no adjective in 2-letters)\n",
        "5. Convert the word to lowercase\n",
        "6. Remove Stopwords\n",
        "7. Finally Snowball Stemming the word (it was obsereved to be better than Porter Stemming)\n",
        "\n",
        "After which we collect the words used to describe positive and negative reviews"
      ]
    },
    {
      "metadata": {
        "id": "T1h-G6m5j6qA",
        "colab_type": "code",
        "outputId": "3c1fb6d7-751a-4fd7-cccf-3a2f1b0989c3",
        "colab": {
          "base_uri": "https://localhost:8080/",
          "height": 71
        }
      },
      "cell_type": "code",
      "source": [
        "# find sentences containing HTML tags\n",
        "import re\n",
        "i=0;\n",
        "for sent in final['Text'].values:\n",
        "    if (len(re.findall('<.*?>', sent))):\n",
        "        print(i)\n",
        "        print(sent)\n",
        "        break;\n",
        "    i += 1;"
      ],
      "execution_count": 17,
      "outputs": [
        {
          "output_type": "stream",
          "text": [
            "2\n",
            "Why is this $[...] when the same product is available for $[...] here?<br />http://www.amazon.com/VICTOR-FLY-MAGNET-BAIT-REFILL/dp/B00004RBDY<br /><br />The Victor M380 and M502 traps are unreal, of course -- total fly genocide. Pretty stinky, but only right nearby.\n"
          ],
          "name": "stdout"
        }
      ]
    },
    {
      "metadata": {
        "id": "UnBswAqdlzC9",
        "colab_type": "code",
        "colab": {}
      },
      "cell_type": "code",
      "source": [
        "nltk.download(\"stopwords\")"
      ],
      "execution_count": 0,
      "outputs": []
    },
    {
      "metadata": {
        "id": "q_wwxXmokCmb",
        "colab_type": "code",
        "outputId": "a522c3d7-4210-4656-97e8-187007a0cb5e",
        "colab": {
          "base_uri": "https://localhost:8080/",
          "height": 54
        }
      },
      "cell_type": "code",
      "source": [
        "stop = set(stopwords.words('english')) #set of stopwords\n",
        "sno = nltk.stem.SnowballStemmer('english') #initialising the snowball stemmer\n",
        "\n",
        "def cleanhtml(sentence): #function to clean the word of any html-tags\n",
        "    cleanr = re.compile('<.*?>')\n",
        "    cleantext = re.sub(cleanr, ' ', sentence)\n",
        "    return cleantext\n",
        "def cleanpunc(sentence): #function to clean the word of any punctuation or special characters\n",
        "    cleaned = re.sub(r'[?|!|\\'|\"|#]',r'',sentence)\n",
        "    cleaned = re.sub(r'[.|,|)|(|\\|/]',r' ',cleaned)\n",
        "    return  cleaned\n",
        "print(stop)\n"
      ],
      "execution_count": 20,
      "outputs": [
        {
          "output_type": "stream",
          "text": [
            "{'y', 'its', 'other', 's', 'm', 'does', 'than', 'on', 'they', 'you', \"shan't\", 'again', 'no', \"weren't\", 'we', 'this', 'as', 'i', 'are', 'haven', 'about', 'there', 'at', \"should've\", 'wasn', 'during', 'themselves', \"aren't\", 'an', 'mustn', \"couldn't\", 'through', 've', 'out', 'being', 'ours', 'd', \"you're\", 'my', \"she's\", \"haven't\", 'for', 'too', 'same', 'who', 'itself', 'doing', 'nor', 'once', 'don', 'our', 'do', 'why', 'those', 'the', \"you've\", 'yourself', 'ain', 'over', 'wouldn', 'few', 'above', 'didn', 'any', 'theirs', 'having', 'is', 'how', \"wouldn't\", 'weren', 'he', 'after', 'what', \"hadn't\", 'which', 'aren', 'his', 'so', 'herself', 'myself', 'were', 'when', \"didn't\", 'hasn', \"won't\", 'them', \"that'll\", 'of', 'doesn', \"isn't\", 'and', 'before', 'was', \"hasn't\", 'or', 'himself', 'to', 'will', 'been', 'needn', 'very', 'hers', 'yours', 'o', 'these', 'while', 'by', 'between', 'all', 'ourselves', 'into', 'against', 'where', 'most', 'here', 'mightn', \"mustn't\", 'whom', \"wasn't\", 'below', 'in', 'yourselves', 'not', 'just', 'both', 'that', \"doesn't\", 'with', 'only', 'me', 'off', 'down', 'had', 'their', 'hadn', 'your', 'such', 'if', 'up', 'some', 'now', 'a', 't', 'shan', 'because', \"mightn't\", 'll', 'but', 'until', \"needn't\", 'should', 'then', 'own', \"you'll\", 'under', 'have', 'from', 'more', 'each', 'be', 'did', 'him', \"don't\", 're', 'isn', 'it', \"shouldn't\", 'couldn', 'shouldn', 'am', 'ma', 'further', 'she', \"it's\", 'has', 'can', \"you'd\", 'her', 'won'}\n"
          ],
          "name": "stdout"
        }
      ]
    },
    {
      "metadata": {
        "id": "MYPVFdj1kI2K",
        "colab_type": "code",
        "outputId": "ce943932-c85c-4479-9487-0db2a0d9776e",
        "colab": {
          "base_uri": "https://localhost:8080/",
          "height": 34
        }
      },
      "cell_type": "code",
      "source": [
        "# Combining all the above stundents \n",
        "from tqdm import tqdm\n",
        "\n",
        "i=0\n",
        "str1=' '\n",
        "final_string=[]\n",
        "all_positive_words=[] # store words from +ve reviews here\n",
        "all_negative_words=[] # store words from -ve reviews here.\n",
        "s=''\n",
        "for sent in tqdm(final['Text'].values):\n",
        "    filtered_sentence=[]\n",
        "    #print(sent);\n",
        "    sent=cleanhtml(sent) # remove HTMl tags\n",
        "    for w in sent.split():\n",
        "        for cleaned_words in cleanpunc(w).split():\n",
        "            if((cleaned_words.isalpha()) & (len(cleaned_words)>2)):    \n",
        "                if(cleaned_words.lower() not in stop):\n",
        "                    s=(sno.stem(cleaned_words.lower())).encode('utf8')\n",
        "                    filtered_sentence.append(s)\n",
        "                    if (final['Score'].values)[i] == 'positive': \n",
        "                        all_positive_words.append(s) #list of all words used to describe positive reviews\n",
        "                    if(final['Score'].values)[i] == 'negative':\n",
        "                        all_negative_words.append(s) #list of all words used to describe negative reviews reviews\n",
        "                else:\n",
        "                    continue\n",
        "            else:\n",
        "                continue \n",
        "    #print(filtered_sentence)\n",
        "    str1 = b\" \".join(filtered_sentence) #final string of cleaned words\n",
        "    #print(\"***********************************************************************\")\n",
        "    \n",
        "    final_string.append(str1)\n",
        "    i+=1"
      ],
      "execution_count": 21,
      "outputs": [
        {
          "output_type": "stream",
          "text": [
            "100%|██████████| 46071/46071 [01:10<00:00, 651.24it/s]\n"
          ],
          "name": "stderr"
        }
      ]
    },
    {
      "metadata": {
        "id": "k7XFf1tjmDsk",
        "colab_type": "code",
        "colab": {}
      },
      "cell_type": "code",
      "source": [
        "#after data suplication and preprocessing we are adding the CleanedText as a new attribute of our dataset\n",
        "final['CleanedText']=final_string\n",
        "final['CleanedText']=final['CleanedText'].str.decode(\"utf-8\")"
      ],
      "execution_count": 0,
      "outputs": []
    },
    {
      "metadata": {
        "id": "u6G6HshpmSOU",
        "colab_type": "code",
        "outputId": "9ffe568c-53db-4fcc-f12b-9946630b3da3",
        "colab": {
          "base_uri": "https://localhost:8080/",
          "height": 34
        }
      },
      "cell_type": "code",
      "source": [
        "final.shape"
      ],
      "execution_count": 23,
      "outputs": [
        {
          "output_type": "execute_result",
          "data": {
            "text/plain": [
              "(46071, 11)"
            ]
          },
          "metadata": {
            "tags": []
          },
          "execution_count": 23
        }
      ]
    },
    {
      "metadata": {
        "id": "ab6gcTYbmakk",
        "colab_type": "code",
        "colab": {}
      },
      "cell_type": "code",
      "source": [
        "#sorting the dataset by time so that we can later perform time-based splitting of the dataset into train and test\n",
        "final = final.sort_values(by=['Time'], axis=0) \n",
        "score = final['Score'].values\n",
        "text = final['CleanedText'].values"
      ],
      "execution_count": 0,
      "outputs": []
    },
    {
      "metadata": {
        "id": "IvVXu7TMmdcE",
        "colab_type": "code",
        "colab": {}
      },
      "cell_type": "code",
      "source": [
        "#splitting the dataset into train, test and cross validate \n",
        "x_train, x_test, y_train, y_test = train_test_split(text, score, test_size=0.3, shuffle=False)\n",
        "x_train, x_cv, y_train, y_cv = train_test_split(x_train, y_train, test_size=0.3, shuffle=False)"
      ],
      "execution_count": 0,
      "outputs": []
    },
    {
      "metadata": {
        "id": "omg27TsgmglI",
        "colab_type": "code",
        "outputId": "ea6edbb4-fc42-4129-8821-266d5295188c",
        "colab": {
          "base_uri": "https://localhost:8080/",
          "height": 68
        }
      },
      "cell_type": "code",
      "source": [
        "print(x_train.shape, y_train.shape)\n",
        "print(x_test.shape, y_test.shape)\n",
        "print(x_cv.shape, y_cv.shape)"
      ],
      "execution_count": 26,
      "outputs": [
        {
          "output_type": "stream",
          "text": [
            "(22574,) (22574,)\n",
            "(13822,) (13822,)\n",
            "(9675,) (9675,)\n"
          ],
          "name": "stdout"
        }
      ]
    },
    {
      "metadata": {
        "id": "Cqn_izpqmj6W",
        "colab_type": "code",
        "outputId": "fcea17f4-b91b-40ca-fdcb-f223cda9f234",
        "colab": {
          "base_uri": "https://localhost:8080/",
          "height": 51
        }
      },
      "cell_type": "code",
      "source": [
        "print(\"Number of positive(1) and negative(0) datapoints in our train dataset\")\n",
        "unique, counts = np.unique(y_train, return_counts=True)\n",
        "dict(zip(unique, counts))"
      ],
      "execution_count": 28,
      "outputs": [
        {
          "output_type": "stream",
          "text": [
            "Number of positive(1) and negative(0) datapoints in our train dataset\n"
          ],
          "name": "stdout"
        },
        {
          "output_type": "execute_result",
          "data": {
            "text/plain": [
              "{0: 3339, 1: 19235}"
            ]
          },
          "metadata": {
            "tags": []
          },
          "execution_count": 28
        }
      ]
    },
    {
      "metadata": {
        "id": "gLVck-ERmphZ",
        "colab_type": "code",
        "outputId": "165e25a4-547f-46d3-eb41-04c376117308",
        "colab": {
          "base_uri": "https://localhost:8080/",
          "height": 34
        }
      },
      "cell_type": "code",
      "source": [
        "printf(\"Number of positive(1) and negative(0) datapoints in our test dataset\")\n",
        "unique, counts = np.unique(y_test, return_counts=True)\n",
        "dict(zip(unique, counts))"
      ],
      "execution_count": 0,
      "outputs": [
        {
          "output_type": "execute_result",
          "data": {
            "text/plain": [
              "{0: 2529, 1: 11293}"
            ]
          },
          "metadata": {
            "tags": []
          },
          "execution_count": 29
        }
      ]
    },
    {
      "metadata": {
        "id": "vyx3jE1rmqNz",
        "colab_type": "code",
        "outputId": "469774f7-4c39-466b-f88a-43e13de216cc",
        "colab": {
          "base_uri": "https://localhost:8080/",
          "height": 34
        }
      },
      "cell_type": "code",
      "source": [
        "printf(\"Number of positive(1) and negative(0) datapoints in our cross validate dataset\")\n",
        "unique, counts = np.unique(y_cv, return_counts=True)\n",
        "dict(zip(unique, counts))"
      ],
      "execution_count": 0,
      "outputs": [
        {
          "output_type": "execute_result",
          "data": {
            "text/plain": [
              "{0: 1724, 1: 7951}"
            ]
          },
          "metadata": {
            "tags": []
          },
          "execution_count": 30
        }
      ]
    },
    {
      "metadata": {
        "id": "OudC0aaezXor",
        "colab_type": "text"
      },
      "cell_type": "markdown",
      "source": [
        "##4. KNN Brute Force"
      ]
    },
    {
      "metadata": {
        "id": "uP8xg_TOfTiE",
        "colab_type": "text"
      },
      "cell_type": "markdown",
      "source": [
        "###4.1.  KNN brute force on Bag Of Words (BOW) "
      ]
    },
    {
      "metadata": {
        "id": "nA-ZJaG3mwQv",
        "colab_type": "code",
        "outputId": "6c8b63c5-1328-426a-9f0e-dbe3b9f9dbbd",
        "colab": {
          "base_uri": "https://localhost:8080/",
          "height": 34
        }
      },
      "cell_type": "code",
      "source": [
        "#coveting text to vectors using BOW \n",
        "#will be coverting train, test and cross validate datasets seperately to overcome data leakage problem\n",
        "\n",
        "count_vect = CountVectorizer() #in scikit-learn\n",
        "\n",
        "#converting train data to vectors using BOW\n",
        "bow_x_train = count_vect.fit_transform(x_train) \n",
        "bow_x_train.shape"
      ],
      "execution_count": 0,
      "outputs": [
        {
          "output_type": "execute_result",
          "data": {
            "text/plain": [
              "(22574, 18111)"
            ]
          },
          "metadata": {
            "tags": []
          },
          "execution_count": 33
        }
      ]
    },
    {
      "metadata": {
        "id": "tAKfUiBMnA4K",
        "colab_type": "code",
        "outputId": "ffe9087f-de58-4cb0-a8aa-d0abc8aecf64",
        "colab": {
          "base_uri": "https://localhost:8080/",
          "height": 34
        }
      },
      "cell_type": "code",
      "source": [
        "#converting test data to vectors using BOW\n",
        "bow_x_test = count_vect.transform(x_test)\n",
        "bow_x_test.shape"
      ],
      "execution_count": 0,
      "outputs": [
        {
          "output_type": "execute_result",
          "data": {
            "text/plain": [
              "(13822, 18111)"
            ]
          },
          "metadata": {
            "tags": []
          },
          "execution_count": 34
        }
      ]
    },
    {
      "metadata": {
        "id": "R_x-Gh6qnHmb",
        "colab_type": "code",
        "outputId": "190b2384-1905-4e0a-a443-f5a3e346bedd",
        "colab": {
          "base_uri": "https://localhost:8080/",
          "height": 34
        }
      },
      "cell_type": "code",
      "source": [
        "#converting cross validate data to vectors using BOW\n",
        "bow_x_cv = count_vect.transform(x_cv)\n",
        "bow_x_cv.shape"
      ],
      "execution_count": 0,
      "outputs": [
        {
          "output_type": "execute_result",
          "data": {
            "text/plain": [
              "(9675, 18111)"
            ]
          },
          "metadata": {
            "tags": []
          },
          "execution_count": 35
        }
      ]
    },
    {
      "metadata": {
        "id": "HKmVUZb-nJRz",
        "colab_type": "code",
        "outputId": "30098d90-5779-498c-bc6b-e2e64b728988",
        "colab": {
          "base_uri": "https://localhost:8080/",
          "height": 34
        }
      },
      "cell_type": "code",
      "source": [
        "klist = list(range(1,30,2))\n",
        "klist"
      ],
      "execution_count": 0,
      "outputs": [
        {
          "output_type": "execute_result",
          "data": {
            "text/plain": [
              "[1, 3, 5, 7, 9, 11, 13, 15, 17, 19, 21, 23, 25, 27, 29]"
            ]
          },
          "metadata": {
            "tags": []
          },
          "execution_count": 47
        }
      ]
    },
    {
      "metadata": {
        "id": "l08bTQvgqDus",
        "colab_type": "code",
        "outputId": "a6779e77-1692-4ded-f52e-8a0b11103f48",
        "colab": {
          "base_uri": "https://localhost:8080/",
          "height": 318
        }
      },
      "cell_type": "code",
      "source": [
        "cv_scores = [] #list to keep cross validate score\n",
        "for k in tqdm(klist):\n",
        "    knn = KNeighborsClassifier(n_neighbors=k, n_jobs=-1)\n",
        "    scores = cross_val_score(knn, bow_x_train, y_train, cv=10, scoring='accuracy', n_jobs=-1) #cv = 10 to perform 10 fold cross validation \n",
        "    cv_scores.append(scores.mean())\n",
        "\n",
        "#calculating Mssclassification error    \n",
        "error = [1 - x for x in cv_scores]\n",
        "\n",
        "#determing optimal k with least missclassification error value\n",
        "optimal_k = klist[error.index(min(error))]\n",
        "print(optimal_k)\n",
        "\n",
        "#graph between missclassification error and hyperparameter values \n",
        "plt.plot(klist, error)\n",
        "xy = (optimal_k, min(error))\n",
        "plt.annotate('(%s, %s)' % xy, xy = xy, textcoords='data')\n",
        "plt.xlabel(\"Number of neighbours 'k'\")\n",
        "plt.ylabel(\"Misclassification Error\")\n",
        "plt.show()\n"
      ],
      "execution_count": 0,
      "outputs": [
        {
          "output_type": "stream",
          "text": [
            "100%|██████████| 15/15 [04:13<00:00, 17.36s/it]\n"
          ],
          "name": "stderr"
        },
        {
          "output_type": "stream",
          "text": [
            "9\n"
          ],
          "name": "stdout"
        },
        {
          "output_type": "display_data",
          "data": {
            "image/png": "[encoded data removed]",
            "text/plain": [
              "<Figure size 432x288 with 1 Axes>"
            ]
          },
          "metadata": {
            "tags": []
          }
        }
      ]
    },
    {
      "metadata": {
        "id": "LkPiQCG1u2Wu",
        "colab_type": "code",
        "outputId": "3cff6e4e-d75c-4677-809c-c519780f2d2a",
        "colab": {
          "base_uri": "https://localhost:8080/",
          "height": 238
        }
      },
      "cell_type": "code",
      "source": [
        "#applying KNN on the optimal K calculated (9)\n",
        "\n",
        "#initiate model\n",
        "neigh = KNeighborsClassifier(n_neighbors= optimal_k)\n",
        "\n",
        "#fit model\n",
        "neigh.fit(bow_x_train, y_train)\n",
        "\n",
        "#predicting values for test data\n",
        "y_test_pred =  neigh.predict(bow_x_test)\n",
        "\n",
        "#calculating accuracy of model\n",
        "train_acc = neigh.score(bow_x_train, y_train) #train accuracy\n",
        "train_error = 1 - train_acc #train error\n",
        "test_acc = accuracy_score(y_test, y_test_pred) #test accuracy\n",
        "test_error = 1 - test_acc #test error\n",
        "\n",
        "print(\"_\" * 101)\n",
        "print(\"Training Accuracy: \", train_acc)\n",
        "print(\"Train Error: \", train_error)\n",
        "print(\"Test Accuracy: \", test_acc)\n",
        "print(\"Test Error: \", test_error)\n",
        "print(\"_\" * 101)\n",
        "\n",
        "print(\"=\"*100)\n",
        "\n",
        "#evaluating confusion matrix for train and test\n",
        "from sklearn.metrics import confusion_matrix\n",
        "print(\"Train confusion matrix\")\n",
        "print(confusion_matrix(y_train, neigh.predict(bow_x_train)))\n",
        "print(\"Test confusion matrix\")\n",
        "print(confusion_matrix(y_test, neigh.predict(bow_x_test)))"
      ],
      "execution_count": 0,
      "outputs": [
        {
          "output_type": "stream",
          "text": [
            "_____________________________________________________________________________________________________\n",
            "Training Accuracy:  0.8673252414281917\n",
            "Train Error:  0.13267475857180833\n",
            "Test Accuracy:  0.8215164230936188\n",
            "Test Error:  0.17848357690638117\n",
            "_____________________________________________________________________________________________________\n",
            "====================================================================================================\n",
            "Train confusion matrix\n",
            "[[  421  2918]\n",
            " [   77 19158]]\n",
            "Test confusion matrix\n",
            "[[  138  2391]\n",
            " [   76 11217]]\n"
          ],
          "name": "stdout"
        }
      ]
    },
    {
      "metadata": {
        "id": "MT6CXfuVd2N9",
        "colab_type": "text"
      },
      "cell_type": "markdown",
      "source": [
        "####Observation :\n",
        "1. Optimal Hyperparaneter = 9 \n",
        "2. Training Accuracy = 86.73252414281917 %\n",
        "3. Test Accuracy = 82.15164230936188 %"
      ]
    },
    {
      "metadata": {
        "id": "MhKcEBiDQp0W",
        "colab_type": "text"
      },
      "cell_type": "markdown",
      "source": [
        "### 4.2 KNN brute force on TF-IDF"
      ]
    },
    {
      "metadata": {
        "id": "dqwZLvojfN-N",
        "colab_type": "code",
        "outputId": "ff120430-9109-4d1b-9445-370e87e4ab86",
        "colab": {
          "base_uri": "https://localhost:8080/",
          "height": 34
        }
      },
      "cell_type": "code",
      "source": [
        "#coveting text to vectors using tf-idf \n",
        "\n",
        "tf_idf_vect = TfidfVectorizer(ngram_range=(1,2))\n",
        "\n",
        "#converting train data to vectors using tf-idf\n",
        "tf_idf_x_train = tf_idf_vect.fit_transform(x_train)\n",
        "tf_idf_x_train.shape"
      ],
      "execution_count": 0,
      "outputs": [
        {
          "output_type": "execute_result",
          "data": {
            "text/plain": [
              "(22574, 424349)"
            ]
          },
          "metadata": {
            "tags": []
          },
          "execution_count": 70
        }
      ]
    },
    {
      "metadata": {
        "id": "Zf4zfb5_fviU",
        "colab_type": "code",
        "outputId": "4c929cd7-f08a-43cf-88ca-babb3d146a74",
        "colab": {
          "base_uri": "https://localhost:8080/",
          "height": 34
        }
      },
      "cell_type": "code",
      "source": [
        "#converting test data to vectors using tf-idf\n",
        "tf_idf_x_test = tf_idf_vect.transform(x_test)\n",
        "tf_idf_x_test.shape"
      ],
      "execution_count": 0,
      "outputs": [
        {
          "output_type": "execute_result",
          "data": {
            "text/plain": [
              "(13822, 424349)"
            ]
          },
          "metadata": {
            "tags": []
          },
          "execution_count": 45
        }
      ]
    },
    {
      "metadata": {
        "id": "BS3qXbI-gNhQ",
        "colab_type": "code",
        "outputId": "d15e0e11-89ea-4ade-8d37-c35587d9d3ae",
        "colab": {
          "base_uri": "https://localhost:8080/",
          "height": 34
        }
      },
      "cell_type": "code",
      "source": [
        "#converting cross validate data to vectors using tf-idf\n",
        "tf_idf_x_cv = tf_idf_vect.transform(x_cv)\n",
        "tf_idf_x_cv.shape"
      ],
      "execution_count": 0,
      "outputs": [
        {
          "output_type": "execute_result",
          "data": {
            "text/plain": [
              "(9675, 424349)"
            ]
          },
          "metadata": {
            "tags": []
          },
          "execution_count": 46
        }
      ]
    },
    {
      "metadata": {
        "id": "dhq14rQugbV6",
        "colab_type": "code",
        "outputId": "15a15fa8-c11c-4377-bac1-4c2c6cf9f8bf",
        "colab": {
          "base_uri": "https://localhost:8080/",
          "height": 313
        }
      },
      "cell_type": "code",
      "source": [
        "cv_scores = [] #list to keep cross validate score\n",
        "for k in tqdm(klist):\n",
        "    knn = KNeighborsClassifier(n_neighbors=k, n_jobs=-1)\n",
        "    scores = cross_val_score(knn, tf_idf_x_train, y_train, cv=10, scoring='accuracy', n_jobs=-1)\n",
        "    cv_scores.append(scores.mean())\n",
        "\n",
        "#calculating Mssclassification error    \n",
        "error = [1 - x for x in cv_scores]\n",
        "\n",
        "#determing optimal k with least missclassification error value\n",
        "optimal_k = klist[error.index(min(error))]\n",
        "print(optimal_k)\n",
        "\n",
        "#determing optimal k with least missclassification error value\n",
        "plt.plot(klist, error)\n",
        "xy = (optimal_k, min(error))\n",
        "plt.annotate('(%s, %s)' % xy, xy = xy, textcoords='data')\n",
        "plt.xlabel(\"Number of neighbours 'k'\")\n",
        "plt.ylabel(\"Misclassification Error\")\n",
        "plt.show()"
      ],
      "execution_count": 0,
      "outputs": [
        {
          "output_type": "stream",
          "text": [
            "100%|██████████| 15/15 [04:37<00:00, 17.83s/it]\n"
          ],
          "name": "stderr"
        },
        {
          "output_type": "stream",
          "text": [
            "9\n"
          ],
          "name": "stdout"
        },
        {
          "output_type": "display_data",
          "data": {
            "image/png": "[encoded data removed]",
            "text/plain": [
              "<Figure size 432x288 with 1 Axes>"
            ]
          },
          "metadata": {
            "tags": []
          }
        }
      ]
    },
    {
      "metadata": {
        "id": "7KuI4g8Zguj9",
        "colab_type": "code",
        "outputId": "6bc0465d-fd35-48a9-c53c-0acb54e4232e",
        "colab": {
          "base_uri": "https://localhost:8080/",
          "height": 221
        }
      },
      "cell_type": "code",
      "source": [
        "#applying KNN on the optimal K calculated (9)\n",
        "\n",
        "#initiate model\n",
        "knn_tf_idf = KNeighborsClassifier(n_neighbors= optimal_k)\n",
        "\n",
        "#fit model\n",
        "knn_tf_idf.fit(tf_idf_x_train, y_train)\n",
        "\n",
        "#predicting values for test data\n",
        "y_test_pred =  knn_tf_idf.predict(tf_idf_x_test)\n",
        "\n",
        "#calculating accuracy of model\n",
        "train_acc = knn_tf_idf.score(tf_idf_x_train, y_train) #train accuracy\n",
        "train_error = 1 - train_acc #train error\n",
        "test_acc = accuracy_score(y_test, y_test_pred) #test accuracy\n",
        "test_error = 1 - test_acc #test error\n",
        "\n",
        "print(\"_\" * 101)\n",
        "print(\"Training Accuracy: \", train_acc)\n",
        "print(\"Train Error: \", train_error)\n",
        "print(\"Test Accuracy: \", test_acc)\n",
        "print(\"Test Error: \", test_error)\n",
        "print(\"_\" * 101)\n",
        "\n",
        "\n",
        "from sklearn.metrics import confusion_matrix\n",
        "\n",
        "#evaluating confusion matrix for train and test\n",
        "print(\"Train confusion matrix\")\n",
        "print(confusion_matrix(y_train, knn_tf_idf.predict(tf_idf_x_train)))\n",
        "print(\"Test confusion matrix\")\n",
        "print(confusion_matrix(y_test, knn_tf_idf.predict(tf_idf_x_test)))"
      ],
      "execution_count": 0,
      "outputs": [
        {
          "output_type": "stream",
          "text": [
            "_____________________________________________________________________________________________________\n",
            "Training Accuracy:  0.8812793479223886\n",
            "Train Error:  0.1187206520776114\n",
            "Test Accuracy:  0.8356243669512372\n",
            "Test Error:  0.1643756330487628\n",
            "_____________________________________________________________________________________________________\n",
            "Train confusion matrix\n",
            "[[  784  2555]\n",
            " [  125 19110]]\n",
            "Test confusion matrix\n",
            "[[  370  2159]\n",
            " [  113 11180]]\n"
          ],
          "name": "stdout"
        }
      ]
    },
    {
      "metadata": {
        "id": "ct269FuTekN_",
        "colab_type": "text"
      },
      "cell_type": "markdown",
      "source": [
        "####Observation :\n",
        "1. Optimal Hyperparaneter = 9 \n",
        "2. Training Accuracy = 88.12793479223886 %\n",
        "3. Test Accuracy = 83.56243669512372 %"
      ]
    },
    {
      "metadata": {
        "id": "oGgTd4vvjWCM",
        "colab_type": "text"
      },
      "cell_type": "markdown",
      "source": [
        "###4.3. KNN brute force on average W2V"
      ]
    },
    {
      "metadata": {
        "id": "Ju4c8cnFh109",
        "colab_type": "code",
        "outputId": "837109c3-b3c4-456a-868a-8bb917e5cfac",
        "colab": {
          "base_uri": "https://localhost:8080/",
          "height": 34
        }
      },
      "cell_type": "code",
      "source": [
        "#coveting text to vectors using avg w2v\n",
        "\n",
        "#coveting train data to vectors using avg w2v \n",
        "i=0\n",
        "list_of_sent_train=[]\n",
        "for sent in x_train:\n",
        "    list_of_sent_train.append(sent.split())\n",
        "    \n",
        "# min_count = 5 considers only words that occured atleast 5 times\n",
        "w2v_model_x_train = Word2Vec(list_of_sent_train,min_count=5,size=50, workers=2)\n",
        "\n",
        "sent_vectors = []; # the avg-w2v for each sentence/review is stored in this list\n",
        "for sent in list_of_sent_train: # for each review/sentence\n",
        "    sent_vec = np.zeros(50) # as word vectors are of zero length\n",
        "    cnt_words =0; # num of words with a valid vector in the sentence/review\n",
        "    for word in sent: # for each word in a review/sentence\n",
        "        try:\n",
        "            vec = w2v_model_x_train.wv[word]\n",
        "            sent_vec += vec\n",
        "            cnt_words += 1\n",
        "        except:\n",
        "            pass\n",
        "    sent_vec /= cnt_words\n",
        "    sent_vectors.append(sent_vec)\n",
        "    \n",
        "avg_w2v_x_train = np.array(sent_vectors)\n",
        "avg_w2v_x_train.shape"
      ],
      "execution_count": 0,
      "outputs": [
        {
          "output_type": "execute_result",
          "data": {
            "text/plain": [
              "(22574, 50)"
            ]
          },
          "metadata": {
            "tags": []
          },
          "execution_count": 32
        }
      ]
    },
    {
      "metadata": {
        "id": "IKXMaiPxj8rt",
        "colab_type": "code",
        "outputId": "d486b1b8-46ca-407e-eba5-3ddf8c8f6e85",
        "colab": {
          "base_uri": "https://localhost:8080/",
          "height": 34
        }
      },
      "cell_type": "code",
      "source": [
        "#coveting test data to vectors using avg w2v\n",
        "i=0\n",
        "list_of_sent_test=[]\n",
        "for sent in x_test:\n",
        "    list_of_sent_test.append(sent.split())\n",
        "    \n",
        "# min_count = 5 considers only words that occured atleast 5 times\n",
        "w2v_model_x_test = Word2Vec(list_of_sent_test,min_count=5,size=50, workers=2)\n",
        "\n",
        "sent_vectors = []; # the avg-w2v for each sentence/review is stored in this list\n",
        "for sent in list_of_sent_test: # for each review/sentence\n",
        "    sent_vec = np.zeros(50) # as word vectors are of zero length\n",
        "    cnt_words =0; # num of words with a valid vector in the sentence/review\n",
        "    for word in sent: # for each word in a review/sentence\n",
        "        try:\n",
        "            vec = w2v_model_x_test.wv[word]\n",
        "            sent_vec += vec\n",
        "            cnt_words += 1\n",
        "        except:\n",
        "            pass\n",
        "    sent_vec /= cnt_words\n",
        "    sent_vectors.append(sent_vec)\n",
        "    \n",
        "avg_w2v_x_test = np.array(sent_vectors)\n",
        "avg_w2v_x_test.shape"
      ],
      "execution_count": 0,
      "outputs": [
        {
          "output_type": "execute_result",
          "data": {
            "text/plain": [
              "(13822, 50)"
            ]
          },
          "metadata": {
            "tags": []
          },
          "execution_count": 33
        }
      ]
    },
    {
      "metadata": {
        "id": "XIOSP8Kakvpj",
        "colab_type": "code",
        "outputId": "25c9f337-b7c1-4ba8-fdfb-a616490b0ef6",
        "colab": {
          "base_uri": "https://localhost:8080/",
          "height": 34
        }
      },
      "cell_type": "code",
      "source": [
        "#coveting cross validate data to vectors using w2v \n",
        "i=0\n",
        "list_of_sent_cv=[]\n",
        "for sent in x_cv:\n",
        "    list_of_sent_cv.append(sent.split())\n",
        "    \n",
        "# min_count = 5 considers only words that occured atleast 5 times\n",
        "w2v_model_x_cv = Word2Vec(list_of_sent_cv,min_count=5,size=50, workers=2)\n",
        "\n",
        "sent_vectors = []; # the avg-w2v for each sentence/review is stored in this list\n",
        "for sent in list_of_sent_cv: # for each review/sentence\n",
        "    sent_vec = np.zeros(50) # as word vectors are of zero length\n",
        "    cnt_words =0; # num of words with a valid vector in the sentence/review\n",
        "    for word in sent: # for each word in a review/sentence\n",
        "        try:\n",
        "            vec = w2v_model_x_cv.wv[word]\n",
        "            sent_vec += vec\n",
        "            cnt_words += 1\n",
        "        except:\n",
        "            pass\n",
        "    sent_vec /= cnt_words\n",
        "    sent_vectors.append(sent_vec)\n",
        "    \n",
        "avg_w2v_x_cv = np.array(sent_vectors)\n",
        "avg_w2v_x_cv.shape"
      ],
      "execution_count": 0,
      "outputs": [
        {
          "output_type": "execute_result",
          "data": {
            "text/plain": [
              "(9675, 50)"
            ]
          },
          "metadata": {
            "tags": []
          },
          "execution_count": 34
        }
      ]
    },
    {
      "metadata": {
        "id": "ttZVFFLzl1CG",
        "colab_type": "code",
        "outputId": "bbb73b85-fa84-4c89-8e8c-36f319000b9f",
        "colab": {
          "base_uri": "https://localhost:8080/",
          "height": 313
        }
      },
      "cell_type": "code",
      "source": [
        "cv_scores = [] #list to keep cross validate score\n",
        "for k in tqdm(klist):\n",
        "    knn_avg_w2v = KNeighborsClassifier(n_neighbors=k, n_jobs=-1)\n",
        "    scores = cross_val_score(knn_avg_w2v, avg_w2v_x_train, y_train, cv=10, scoring='accuracy', n_jobs=-1)\n",
        "    cv_scores.append(scores.mean())\n",
        "\n",
        "#calculating Mssclassification error\n",
        "error = [1 - x for x in cv_scores]\n",
        "\n",
        "#determing optimal k with least missclassification error value\n",
        "optimal_k = klist[error.index(min(error))]\n",
        "print(optimal_k)\n",
        "\n",
        "#determing optimal k with least missclassification error value\n",
        "plt.plot(klist, error)\n",
        "xy = (optimal_k, min(error))\n",
        "plt.annotate('(%s, %s)' % xy, xy = xy, textcoords='data')\n",
        "plt.xlabel(\"Number of neighbours 'k'\")\n",
        "plt.ylabel(\"Misclassification Error\")\n",
        "plt.show()"
      ],
      "execution_count": 0,
      "outputs": [
        {
          "output_type": "stream",
          "text": [
            "100%|██████████| 15/15 [08:19<00:00, 34.53s/it]\n"
          ],
          "name": "stderr"
        },
        {
          "output_type": "stream",
          "text": [
            "25\n"
          ],
          "name": "stdout"
        },
        {
          "output_type": "display_data",
          "data": {
            "image/png": "[encoded data removed]",
            "text/plain": [
              "<Figure size 432x288 with 1 Axes>"
            ]
          },
          "metadata": {
            "tags": []
          }
        }
      ]
    },
    {
      "metadata": {
        "id": "uOBQT_3RmIsp",
        "colab_type": "code",
        "outputId": "b8d7839a-ab4b-427c-bc71-f971a7eca222",
        "colab": {
          "base_uri": "https://localhost:8080/",
          "height": 221
        }
      },
      "cell_type": "code",
      "source": [
        "#applying KNN on the optimal K calculated (25)\n",
        "\n",
        "#initiate model\n",
        "knn_avg_w2v = KNeighborsClassifier(n_neighbors= optimal_k)\n",
        "\n",
        "#fit model\n",
        "knn_avg_w2v.fit(avg_w2v_x_train, y_train)\n",
        "\n",
        "#predicting values for test data\n",
        "y_test_pred =  knn_avg_w2v.predict(avg_w2v_x_test)\n",
        "\n",
        "#calculating accuracy of model\n",
        "train_acc = knn_avg_w2v.score(avg_w2v_x_train, y_train)\n",
        "train_error = 1 - train_acc\n",
        "test_acc = accuracy_score(y_test, y_test_pred)\n",
        "test_error = 1 - test_acc\n",
        "\n",
        "print(\"_\" * 101)\n",
        "print(\"Training Accuracy: \", train_acc)\n",
        "print(\"Train Error: \", train_error)\n",
        "print(\"Test Accuracy: \", test_acc)\n",
        "print(\"Test Error: \", test_error)\n",
        "print(\"_\" * 101)\n",
        "\n",
        "\n",
        "from sklearn.metrics import confusion_matrix\n",
        "\n",
        "#evaluating confusion matrix for train and test\n",
        "print(\"Train confusion matrix\")\n",
        "print(confusion_matrix(y_train, knn_avg_w2v.predict(avg_w2v_x_train)))\n",
        "print(\"Test confusion matrix\")\n",
        "print(confusion_matrix(y_test, knn_avg_w2v.predict(avg_w2v_x_test)))"
      ],
      "execution_count": 0,
      "outputs": [
        {
          "output_type": "stream",
          "text": [
            "_____________________________________________________________________________________________________\n",
            "Training Accuracy:  0.8756091078231594\n",
            "Train Error:  0.12439089217684063\n",
            "Test Accuracy:  0.8207205903631891\n",
            "Test Error:  0.17927940963681088\n",
            "_____________________________________________________________________________________________________\n",
            "Train confusion matrix\n",
            "[[  732  2607]\n",
            " [  201 19034]]\n",
            "Test confusion matrix\n",
            "[[  114  2415]\n",
            " [   63 11230]]\n"
          ],
          "name": "stdout"
        }
      ]
    },
    {
      "metadata": {
        "id": "rEK-ZqvHe2Fk",
        "colab_type": "text"
      },
      "cell_type": "markdown",
      "source": [
        "####Observation :\n",
        "1. Optimal Hyperparaneter = 25 \n",
        "2. Training Accuracy = 87.56091078231594 %\n",
        "3. Test Accuracy = 82.07205903631891 %"
      ]
    },
    {
      "metadata": {
        "id": "V9YO58XsuMmr",
        "colab_type": "text"
      },
      "cell_type": "markdown",
      "source": [
        "##5. KNN KD Tree"
      ]
    },
    {
      "metadata": {
        "id": "5XhFmx8hXlfq",
        "colab_type": "text"
      },
      "cell_type": "markdown",
      "source": [
        "###5.1. KNN KD Tree on Bag of Words (BOW)"
      ]
    },
    {
      "metadata": {
        "colab_type": "code",
        "outputId": "2f3554ae-3a72-4bbe-8d26-0a4d89cc736a",
        "id": "54jIKdc_U5uH",
        "colab": {
          "base_uri": "https://localhost:8080/",
          "height": 34
        }
      },
      "cell_type": "code",
      "source": [
        "#coveting text to vectors using BOW \n",
        "#keeping maximum limit on number of features to 500\n",
        "\n",
        "count_vect = CountVectorizer(min_df=10, max_features=500)\n",
        "\n",
        "#converting train data to vectors using BOW\n",
        "bow_x_train = count_vect.fit_transform(x_train)\n",
        "bow_x_train.shape  "
      ],
      "execution_count": 0,
      "outputs": [
        {
          "output_type": "execute_result",
          "data": {
            "text/plain": [
              "(22574, 500)"
            ]
          },
          "metadata": {
            "tags": []
          },
          "execution_count": 43
        }
      ]
    },
    {
      "metadata": {
        "colab_type": "code",
        "outputId": "75a83b21-f52a-4317-afd4-ec4dc9b5450c",
        "id": "dE25wU2pU5dh",
        "colab": {
          "base_uri": "https://localhost:8080/",
          "height": 34
        }
      },
      "cell_type": "code",
      "source": [
        "#converting test data to vectors using BOW\n",
        "bow_x_test = count_vect.transform(x_test)\n",
        "bow_x_test.shape"
      ],
      "execution_count": 0,
      "outputs": [
        {
          "output_type": "execute_result",
          "data": {
            "text/plain": [
              "(13822, 500)"
            ]
          },
          "metadata": {
            "tags": []
          },
          "execution_count": 44
        }
      ]
    },
    {
      "metadata": {
        "id": "OA0ynOuawYTc",
        "colab_type": "code",
        "outputId": "3d531f82-16b2-4730-cf61-7397362a9cb2",
        "colab": {
          "base_uri": "https://localhost:8080/",
          "height": 34
        }
      },
      "cell_type": "code",
      "source": [
        "#converting cross validate data to vectors using BOW\n",
        "bow_x_cv = count_vect.transform(x_cv)\n",
        "bow_x_cv.shape"
      ],
      "execution_count": 0,
      "outputs": [
        {
          "output_type": "execute_result",
          "data": {
            "text/plain": [
              "(9675, 500)"
            ]
          },
          "metadata": {
            "tags": []
          },
          "execution_count": 46
        }
      ]
    },
    {
      "metadata": {
        "colab_type": "code",
        "outputId": "d108e9bd-9354-41c3-a869-b5b3b660b508",
        "id": "Fu63FO2ZXAbF",
        "colab": {
          "base_uri": "https://localhost:8080/",
          "height": 313
        }
      },
      "cell_type": "code",
      "source": [
        "cv_scores = [] #list to keep cross validate score\n",
        "for k in tqdm(klist):\n",
        "    knn = KNeighborsClassifier(n_neighbors=k, algorithm='kd_tree', n_jobs=-1)\n",
        "    scores = cross_val_score(knn, bow_x_train, y_train, cv=10, scoring='accuracy', n_jobs=-1)\n",
        "    cv_scores.append(scores.mean())\n",
        "\n",
        "#calculating Mssclassification error    \n",
        "error = [1 - x for x in cv_scores]\n",
        "\n",
        "#determing optimal k with least missclassification error value\n",
        "optimal_k = klist[error.index(min(error))]\n",
        "print(optimal_k)\n",
        "\n",
        "#graph between missclassification error and hyperparameter values\n",
        "plt.plot(klist, error)\n",
        "xy = (optimal_k, min(error))\n",
        "plt.annotate('(%s, %s)' % xy, xy = xy, textcoords='data')\n",
        "plt.xlabel(\"Number of neighbours 'k'\")\n",
        "plt.ylabel(\"Misclassification Error\")\n",
        "plt.show()"
      ],
      "execution_count": 0,
      "outputs": [
        {
          "output_type": "stream",
          "text": [
            "100%|██████████| 15/15 [04:29<00:00, 17.94s/it]\n"
          ],
          "name": "stderr"
        },
        {
          "output_type": "stream",
          "text": [
            "11\n"
          ],
          "name": "stdout"
        },
        {
          "output_type": "display_data",
          "data": {
            "image/png": "[encoded data removed]",
            "text/plain": [
              "<Figure size 432x288 with 1 Axes>"
            ]
          },
          "metadata": {
            "tags": []
          }
        }
      ]
    },
    {
      "metadata": {
        "id": "ImCGGJcaxb_D",
        "colab_type": "code",
        "outputId": "03b84318-abb2-47e3-c46f-a81c4b341754",
        "colab": {
          "base_uri": "https://localhost:8080/",
          "height": 221
        }
      },
      "cell_type": "code",
      "source": [
        "#applying KNN on the optimal K calculated (11)\n",
        "\n",
        "#initiate model\n",
        "knn_kd_bow = KNeighborsClassifier(n_neighbors= optimal_k, algorithm='kd_tree')\n",
        "\n",
        "#fit model\n",
        "knn_kd_bow.fit(bow_x_train, y_train)\n",
        "\n",
        "#predicting values for test data\n",
        "y_test_pred =  knn_kd_bow.predict(bow_x_test)\n",
        "\n",
        "#calculating accuracy of model\n",
        "train_acc = knn_kd_bow.score(bow_x_train, y_train)\n",
        "train_error = 1 - train_acc\n",
        "test_acc = accuracy_score(y_test, y_test_pred)\n",
        "test_error = 1 - test_acc\n",
        "\n",
        "print(\"_\" * 101)\n",
        "print(\"Training Accuracy: \", train_acc)\n",
        "print(\"Train Error: \", train_error)\n",
        "print(\"Test Accuracy: \", test_acc)\n",
        "print(\"Test Error: \", test_error)\n",
        "print(\"_\" * 101)\n",
        "\n",
        "\n",
        "from sklearn.metrics import confusion_matrix\n",
        "\n",
        "#evaluating confusion matrix for train and test\n",
        "print(\"Train confusion matrix\")\n",
        "print(confusion_matrix(y_train, knn_kd_bow.predict(bow_x_train)))\n",
        "print(\"Test confusion matrix\")\n",
        "print(confusion_matrix(y_test, knn_kd_bow.predict(bow_x_test)))"
      ],
      "execution_count": 0,
      "outputs": [
        {
          "output_type": "stream",
          "text": [
            "_____________________________________________________________________________________________________\n",
            "Training Accuracy:  0.8625409763444671\n",
            "Train Error:  0.13745902365553286\n",
            "Test Accuracy:  0.8223122558240487\n",
            "Test Error:  0.17768774417595135\n",
            "_____________________________________________________________________________________________________\n",
            "Train confusion matrix\n",
            "[[  309  3030]\n",
            " [   73 19162]]\n",
            "Test confusion matrix\n",
            "[[  147  2382]\n",
            " [   74 11219]]\n"
          ],
          "name": "stdout"
        }
      ]
    },
    {
      "metadata": {
        "id": "iCtk-1G0fLFt",
        "colab_type": "text"
      },
      "cell_type": "markdown",
      "source": [
        "####Observation :\n",
        "1. Optimal Hyperparaneter = 11 \n",
        "2. Training Accuracy = 86.25409763444671 %\n",
        "3. Test Accuracy = 82.23122558240487 %"
      ]
    },
    {
      "metadata": {
        "id": "YpioFXzfcb9a",
        "colab_type": "text"
      },
      "cell_type": "markdown",
      "source": [
        "###5.2 KNN KD Tree on TF-IDF"
      ]
    },
    {
      "metadata": {
        "id": "yPrF_rVwDZ5y",
        "colab_type": "code",
        "outputId": "26c387e4-0da9-4c2c-97b6-61b88fcd1724",
        "colab": {
          "base_uri": "https://localhost:8080/",
          "height": 34
        }
      },
      "cell_type": "code",
      "source": [
        "#coveting text to vectors using tf-idf\n",
        "#keeping maximum limit on number of features to 500\n",
        "\n",
        "tf_idf_vect = TfidfVectorizer(min_df=10, max_features=500)\n",
        "\n",
        "#converting train data to vectors using tf-idf\n",
        "tf_idf_x_train =  tf_idf_vect.fit_transform(x_train)\n",
        "tf_idf_x_train.shape"
      ],
      "execution_count": 0,
      "outputs": [
        {
          "output_type": "execute_result",
          "data": {
            "text/plain": [
              "(22574, 500)"
            ]
          },
          "metadata": {
            "tags": []
          },
          "execution_count": 50
        }
      ]
    },
    {
      "metadata": {
        "id": "e7XUZhapcwFG",
        "colab_type": "code",
        "outputId": "7bd4227d-5382-4f0d-f9ee-8beae234b2a7",
        "colab": {
          "base_uri": "https://localhost:8080/",
          "height": 34
        }
      },
      "cell_type": "code",
      "source": [
        "#converting test data to vectors using tf-idf\n",
        "tf_idf_x_test =  tf_idf_vect.transform(x_test)\n",
        "tf_idf_x_test.shape"
      ],
      "execution_count": 0,
      "outputs": [
        {
          "output_type": "execute_result",
          "data": {
            "text/plain": [
              "(13822, 500)"
            ]
          },
          "metadata": {
            "tags": []
          },
          "execution_count": 51
        }
      ]
    },
    {
      "metadata": {
        "id": "6s4jDCKpc4qB",
        "colab_type": "code",
        "outputId": "a211ecb0-f569-40e1-c4f9-2fabf769e477",
        "colab": {
          "base_uri": "https://localhost:8080/",
          "height": 34
        }
      },
      "cell_type": "code",
      "source": [
        "#converting cross validate data to vectors using tf-idf\n",
        "tf_idf_x_cv = tf_idf_vect.transform(x_cv)\n",
        "tf_idf_x_cv.shape"
      ],
      "execution_count": 0,
      "outputs": [
        {
          "output_type": "execute_result",
          "data": {
            "text/plain": [
              "(9675, 500)"
            ]
          },
          "metadata": {
            "tags": []
          },
          "execution_count": 52
        }
      ]
    },
    {
      "metadata": {
        "id": "A-NM55vIc_fp",
        "colab_type": "code",
        "outputId": "f863c1c2-018d-49fa-def7-8d99109e9d02",
        "colab": {
          "base_uri": "https://localhost:8080/",
          "height": 313
        }
      },
      "cell_type": "code",
      "source": [
        "cv_scores = [] #list to keep cross validate score\n",
        "for k in tqdm(klist):\n",
        "    knn = KNeighborsClassifier(n_neighbors=k, algorithm='kd_tree', n_jobs=-1)\n",
        "    scores = cross_val_score(knn, tf_idf_x_train, y_train, cv=10, scoring='accuracy', n_jobs=-1)\n",
        "    cv_scores.append(scores.mean())\n",
        "\n",
        "#calculating Mssclassification error   \n",
        "error = [1 - x for x in cv_scores]\n",
        "\n",
        "#determing optimal k with least missclassification error value\n",
        "optimal_k = klist[error.index(min(error))]\n",
        "print(optimal_k)\n",
        "\n",
        "#determing optimal k with least missclassification error value\n",
        "plt.plot(klist, error)\n",
        "xy = (optimal_k, min(error))\n",
        "plt.annotate('(%s, %s)' % xy, xy = xy, textcoords='data')\n",
        "plt.xlabel(\"Number of neighbours 'k'\")\n",
        "plt.ylabel(\"Misclassification Error\")\n",
        "plt.show()"
      ],
      "execution_count": 0,
      "outputs": [
        {
          "output_type": "stream",
          "text": [
            "100%|██████████| 15/15 [04:40<00:00, 18.27s/it]\n"
          ],
          "name": "stderr"
        },
        {
          "output_type": "stream",
          "text": [
            "15\n"
          ],
          "name": "stdout"
        },
        {
          "output_type": "display_data",
          "data": {
            "image/png": "[encoded data removed]",
            "text/plain": [
              "<Figure size 432x288 with 1 Axes>"
            ]
          },
          "metadata": {
            "tags": []
          }
        }
      ]
    },
    {
      "metadata": {
        "id": "9fjvVEOQdRV4",
        "colab_type": "code",
        "outputId": "c19c7659-7c0e-4354-9ac7-a3627d2ebeb5",
        "colab": {
          "base_uri": "https://localhost:8080/",
          "height": 221
        }
      },
      "cell_type": "code",
      "source": [
        "#applying KNN on the optimal K calculated (15)\n",
        "\n",
        "#initiate model\n",
        "knn_kd_tf_idf = KNeighborsClassifier(n_neighbors= optimal_k, algorithm='kd_tree')\n",
        "\n",
        "#fit model\n",
        "knn_kd_tf_idf.fit(tf_idf_x_train, y_train)\n",
        "\n",
        "#predicting values for test data\n",
        "y_test_pred =  knn_kd_tf_idf.predict(tf_idf_x_test)\n",
        "\n",
        "#calculating accuracy of model\n",
        "train_acc = knn_kd_tf_idf.score(tf_idf_x_train, y_train)\n",
        "train_error = 1 - train_acc\n",
        "test_acc = accuracy_score(y_test, y_test_pred)\n",
        "test_error = 1 - test_acc\n",
        "\n",
        "print(\"_\" * 101)\n",
        "print(\"Training Accuracy: \", train_acc)\n",
        "print(\"Train Error: \", train_error)\n",
        "print(\"Test Accuracy: \", test_acc)\n",
        "print(\"Test Error: \", test_error)\n",
        "print(\"_\" * 101)\n",
        "\n",
        "\n",
        "from sklearn.metrics import confusion_matrix\n",
        "\n",
        "#evaluating confusion matrix for train and test\n",
        "print(\"Train confusion matrix\")\n",
        "print(confusion_matrix(y_train, knn_kd_tf_idf.predict(tf_idf_x_train)))\n",
        "print(\"Test confusion matrix\")\n",
        "print(confusion_matrix(y_test, knn_kd_tf_idf.predict(tf_idf_x_test)))"
      ],
      "execution_count": 0,
      "outputs": [
        {
          "output_type": "stream",
          "text": [
            "_____________________________________________________________________________________________________\n",
            "Training Accuracy:  0.8644458226278019\n",
            "Train Error:  0.1355541773721981\n",
            "Test Accuracy:  0.8256402836058457\n",
            "Test Error:  0.17435971639415426\n",
            "_____________________________________________________________________________________________________\n",
            "Train confusion matrix\n",
            "[[  341  2998]\n",
            " [   62 19173]]\n",
            "Test confusion matrix\n",
            "[[  182  2347]\n",
            " [   63 11230]]\n"
          ],
          "name": "stdout"
        }
      ]
    },
    {
      "metadata": {
        "id": "mJOFFQ9mfXv5",
        "colab_type": "text"
      },
      "cell_type": "markdown",
      "source": [
        "####Observation :\n",
        "1. Optimal Hyperparaneter = 15\n",
        "2. Training Accuracy = 86.44458226278019 %\n",
        "3. Test Accuracy = 82.56402836058457 %"
      ]
    },
    {
      "metadata": {
        "id": "99qn_9CShyoU",
        "colab_type": "text"
      },
      "cell_type": "markdown",
      "source": [
        "###5.3. KNN brute force on average W2V"
      ]
    },
    {
      "metadata": {
        "id": "R9OPt1C_hYjh",
        "colab_type": "code",
        "outputId": "94276d33-950d-42fd-a6ca-9d509b30b9e6",
        "colab": {
          "base_uri": "https://localhost:8080/",
          "height": 34
        }
      },
      "cell_type": "code",
      "source": [
        "#coveting text to vectors using avg w2v\n",
        "\n",
        "#coveting train data to vectors using avg w2v\n",
        "i=0\n",
        "list_of_sent_train=[]\n",
        "for sent in x_train:\n",
        "    list_of_sent_train.append(sent.split())\n",
        "    \n",
        "# min_count = 5 considers only words that occured atleast 5 times\n",
        "w2v_model_x_train = Word2Vec(list_of_sent_train,min_count=5,size=50, workers=2)\n",
        "\n",
        "sent_vectors = []; # the avg-w2v for each sentence/review is stored in this list\n",
        "for sent in list_of_sent_train: # for each review/sentence\n",
        "    sent_vec = np.zeros(50) # as word vectors are of zero length\n",
        "    cnt_words =0; # num of words with a valid vector in the sentence/review\n",
        "    for word in sent: # for each word in a review/sentence\n",
        "        try:\n",
        "            vec = w2v_model_x_train.wv[word]\n",
        "            sent_vec += vec\n",
        "            cnt_words += 1\n",
        "        except:\n",
        "            pass\n",
        "    sent_vec /= cnt_words\n",
        "    sent_vectors.append(sent_vec)\n",
        "    \n",
        "avg_w2v_x_train = np.array(sent_vectors)\n",
        "avg_w2v_x_train.shape"
      ],
      "execution_count": 0,
      "outputs": [
        {
          "output_type": "execute_result",
          "data": {
            "text/plain": [
              "(22574, 50)"
            ]
          },
          "metadata": {
            "tags": []
          },
          "execution_count": 57
        }
      ]
    },
    {
      "metadata": {
        "id": "94_T0otph5dE",
        "colab_type": "code",
        "outputId": "ccc10916-89e3-46cf-f88c-d1a547c6e151",
        "colab": {
          "base_uri": "https://localhost:8080/",
          "height": 34
        }
      },
      "cell_type": "code",
      "source": [
        "#coveting test data to vectors using avg w2v\n",
        "i=0\n",
        "list_of_sent_test=[]\n",
        "for sent in x_test:\n",
        "    list_of_sent_test.append(sent.split())\n",
        "    \n",
        "# min_count = 5 considers only words that occured atleast 5 times\n",
        "w2v_model_x_test = Word2Vec(list_of_sent_test,min_count=5,size=50, workers=2)\n",
        "\n",
        "sent_vectors = []; # the avg-w2v for each sentence/review is stored in this list\n",
        "for sent in list_of_sent_test: # for each review/sentence\n",
        "    sent_vec = np.zeros(50) # as word vectors are of zero length\n",
        "    cnt_words =0; # num of words with a valid vector in the sentence/review\n",
        "    for word in sent: # for each word in a review/sentence\n",
        "        try:\n",
        "            vec = w2v_model_x_test.wv[word]\n",
        "            sent_vec += vec\n",
        "            cnt_words += 1\n",
        "        except:\n",
        "            pass\n",
        "    sent_vec /= cnt_words\n",
        "    sent_vectors.append(sent_vec)\n",
        "    \n",
        "avg_w2v_x_test = np.array(sent_vectors)\n",
        "avg_w2v_x_test.shape"
      ],
      "execution_count": 0,
      "outputs": [
        {
          "output_type": "execute_result",
          "data": {
            "text/plain": [
              "(13822, 50)"
            ]
          },
          "metadata": {
            "tags": []
          },
          "execution_count": 58
        }
      ]
    },
    {
      "metadata": {
        "id": "fHxzTjdIiSkw",
        "colab_type": "code",
        "outputId": "7fca3735-cbcb-48ae-fa23-372cd7de010f",
        "colab": {
          "base_uri": "https://localhost:8080/",
          "height": 34
        }
      },
      "cell_type": "code",
      "source": [
        "#coveting cross validate data to vectors using w2v\n",
        "i=0\n",
        "list_of_sent_cv=[]\n",
        "for sent in x_cv:\n",
        "    list_of_sent_cv.append(sent.split())\n",
        "    \n",
        "# min_count = 5 considers only words that occured atleast 5 times\n",
        "w2v_model_x_cv = Word2Vec(list_of_sent_cv,min_count=5,size=50, workers=2)\n",
        "\n",
        "sent_vectors = []; # the avg-w2v for each sentence/review is stored in this list\n",
        "for sent in list_of_sent_cv: # for each review/sentence\n",
        "    sent_vec = np.zeros(50) # as word vectors are of zero length\n",
        "    cnt_words =0; # num of words with a valid vector in the sentence/review\n",
        "    for word in sent: # for each word in a review/sentence\n",
        "        try:\n",
        "            vec = w2v_model_x_cv.wv[word]\n",
        "            sent_vec += vec\n",
        "            cnt_words += 1\n",
        "        except:\n",
        "            pass\n",
        "    sent_vec /= cnt_words\n",
        "    sent_vectors.append(sent_vec)\n",
        "    \n",
        "avg_w2v_x_cv = np.array(sent_vectors)\n",
        "avg_w2v_x_cv.shape"
      ],
      "execution_count": 0,
      "outputs": [
        {
          "output_type": "execute_result",
          "data": {
            "text/plain": [
              "(9675, 50)"
            ]
          },
          "metadata": {
            "tags": []
          },
          "execution_count": 59
        }
      ]
    },
    {
      "metadata": {
        "id": "B2-yW3hoio6T",
        "colab_type": "code",
        "outputId": "488cfd16-03e8-4e33-cab5-d67c9a31f5e8",
        "colab": {
          "base_uri": "https://localhost:8080/",
          "height": 313
        }
      },
      "cell_type": "code",
      "source": [
        "cv_scores = [] #list to keep cross validate score\n",
        "for k in tqdm(klist):\n",
        "    knn = KNeighborsClassifier(n_neighbors=k, algorithm='kd_tree', n_jobs=-1)\n",
        "    scores = cross_val_score(knn, avg_w2v_x_train, y_train, cv=10, scoring='accuracy', n_jobs=-1)\n",
        "    cv_scores.append(scores.mean())\n",
        "    \n",
        "#calculating Mssclassification error  \n",
        "error = [1 - x for x in cv_scores]\n",
        "\n",
        "#determing optimal k with least missclassification error value\n",
        "optimal_k = klist[error.index(min(error))]\n",
        "print(optimal_k)\n",
        "\n",
        "#determing optimal k with least missclassification error value\n",
        "plt.plot(klist, error)\n",
        "xy = (optimal_k, min(error))\n",
        "plt.annotate('(%s, %s)' % xy, xy = xy, textcoords='data')\n",
        "plt.xlabel(\"Number of neighbours 'k'\")\n",
        "plt.ylabel(\"Misclassification Error\")\n",
        "plt.show()"
      ],
      "execution_count": 0,
      "outputs": [
        {
          "output_type": "stream",
          "text": [
            "100%|██████████| 15/15 [08:56<00:00, 37.48s/it]\n"
          ],
          "name": "stderr"
        },
        {
          "output_type": "stream",
          "text": [
            "21\n"
          ],
          "name": "stdout"
        },
        {
          "output_type": "display_data",
          "data": {
            "image/png": "[encoded data removed]",
            "text/plain": [
              "<Figure size 432x288 with 1 Axes>"
            ]
          },
          "metadata": {
            "tags": []
          }
        }
      ]
    },
    {
      "metadata": {
        "id": "-aiVlIlli1s6",
        "colab_type": "code",
        "outputId": "ac24b8f1-d482-46b7-e156-a13c8c0a8ffe",
        "colab": {
          "base_uri": "https://localhost:8080/",
          "height": 221
        }
      },
      "cell_type": "code",
      "source": [
        "#applying KNN on the optimal K calculated (21)\n",
        "\n",
        "#initiate model\n",
        "knn_kd_avg_w2v = KNeighborsClassifier(n_neighbors= optimal_k, algorithm='kd_tree')\n",
        "\n",
        "#fit model\n",
        "knn_kd_avg_w2v.fit(avg_w2v_x_train, y_train)\n",
        "\n",
        "#predicting values for test data\n",
        "y_test_pred =  knn_kd_avg_w2v.predict(avg_w2v_x_test)\n",
        "\n",
        "#calculating accuracy of model\n",
        "train_acc = knn_kd_avg_w2v.score(avg_w2v_x_train, y_train)\n",
        "train_error = 1 - train_acc\n",
        "test_acc = accuracy_score(y_test, y_test_pred)\n",
        "test_error = 1 - test_acc\n",
        "\n",
        "print(\"_\" * 101)\n",
        "print(\"Training Accuracy: \", train_acc)\n",
        "print(\"Train Error: \", train_error)\n",
        "print(\"Test Accuracy: \", test_acc)\n",
        "print(\"Test Error: \", test_error)\n",
        "print(\"_\" * 101)\n",
        "\n",
        "\n",
        "from sklearn.metrics import confusion_matrix\n",
        "\n",
        "#evaluating confusion matrix for train and test\n",
        "print(\"Train confusion matrix\")\n",
        "print(confusion_matrix(y_train, knn_kd_avg_w2v.predict(avg_w2v_x_train)))\n",
        "print(\"Test confusion matrix\")\n",
        "print(confusion_matrix(y_test, knn_kd_avg_w2v.predict(avg_w2v_x_test)))"
      ],
      "execution_count": 0,
      "outputs": [
        {
          "output_type": "stream",
          "text": [
            "_____________________________________________________________________________________________________\n",
            "Training Accuracy:  0.8768494728448658\n",
            "Train Error:  0.12315052715513419\n",
            "Test Accuracy:  0.8209376356533064\n",
            "Test Error:  0.17906236434669365\n",
            "_____________________________________________________________________________________________________\n",
            "Train confusion matrix\n",
            "[[  776  2563]\n",
            " [  217 19018]]\n",
            "Test confusion matrix\n",
            "[[  187  2342]\n",
            " [  133 11160]]\n"
          ],
          "name": "stdout"
        }
      ]
    },
    {
      "metadata": {
        "id": "vTMlIJW1fhFZ",
        "colab_type": "text"
      },
      "cell_type": "markdown",
      "source": [
        "####Observation :\n",
        "1. Optimal Hyperparaneter = 21\n",
        "2. Training Accuracy = 87.68494728448658 %\n",
        "3. Test Accuracy = 82.09376356533064 %"
      ]
    },
    {
      "metadata": {
        "id": "WZn3yZAHgMp2",
        "colab_type": "text"
      },
      "cell_type": "markdown",
      "source": [
        "##6. Conclusion"
      ]
    },
    {
      "metadata": {
        "id": "UJH-aWDkaKHH",
        "colab_type": "code",
        "colab": {}
      },
      "cell_type": "code",
      "source": [
        "!sudo pip3 install PTable"
      ],
      "execution_count": 0,
      "outputs": []
    },
    {
      "metadata": {
        "id": "EQdCfcGhaQ8h",
        "colab_type": "code",
        "colab": {
          "base_uri": "https://localhost:8080/",
          "height": 187
        },
        "outputId": "d2ea1ae4-ac53-44d5-b1d0-7a75cd64da49"
      },
      "cell_type": "code",
      "source": [
        "from prettytable import PrettyTable\n",
        "    \n",
        "x = PrettyTable()\n",
        "\n",
        "x.field_names = [\"Model\", \"Hyperparameter (K)\", \"Train Accuracy\", \"Test Accuracy\"]\n",
        "\n",
        "x.add_row([\"BOW (Brute Force)\", 9, 0.8673252414281917, 0.8215164230936188])\n",
        "x.add_row([\"TF-IDF (Brute Force)\", 9, 0.8812793479223886, 0.8356243669512372])\n",
        "x.add_row([\"Average W2v (Brute Force)\", 25, 0.8756091078231594, 0.8207205903631891])\n",
        "x.add_row([\"BOW (KD Tree)\", 11, 0.8625409763444671, 0.8223122558240487])\n",
        "x.add_row([\"TF-IDF (KD Tree)\", 15, 0.8644458226278019, 0.8256402836058457])\n",
        "x.add_row([\"Average W2v (KD Tree)\", 21, 0.8768494728448658, 0.8768494728448658])\n",
        "\n",
        "print(x)"
      ],
      "execution_count": 34,
      "outputs": [
        {
          "output_type": "stream",
          "text": [
            "+---------------------------+--------------------+--------------------+--------------------+\n",
            "|           Model           | Hyperparameter (K) |   Train Accuracy   |   Test Accuracy    |\n",
            "+---------------------------+--------------------+--------------------+--------------------+\n",
            "|     BOW (Brute Force)     |         9          | 0.8673252414281917 | 0.8215164230936188 |\n",
            "|    TF-IDF (Brute Force)   |         9          | 0.8812793479223886 | 0.8356243669512372 |\n",
            "| Average W2v (Brute Force) |         25         | 0.8756091078231594 | 0.8207205903631891 |\n",
            "|       BOW (KD Tree)       |         11         | 0.8625409763444671 | 0.8223122558240487 |\n",
            "|      TF-IDF (KD Tree)     |         15         | 0.8644458226278019 | 0.8256402836058457 |\n",
            "|   Average W2v (KD Tree)   |         21         | 0.8768494728448658 | 0.8768494728448658 |\n",
            "+---------------------------+--------------------+--------------------+--------------------+\n"
          ],
          "name": "stdout"
        }
      ]
    },
    {
      "metadata": {
        "id": "aOQx9eSegaEs",
        "colab_type": "text"
      },
      "cell_type": "markdown",
      "source": [
        "After the analysis of 50000 data points we conclude that the best model is when we apply **KNN Brute Force on TF-IDF** with\n",
        "\n",
        "**Hyperparameter (K) = 9**\n",
        "\n",
        "**Training Accuracy = 88.12793479223886%**\n",
        "\n",
        "**Test Accuracy = 83.56243669512372%**"
      ]
    }
  ]
}