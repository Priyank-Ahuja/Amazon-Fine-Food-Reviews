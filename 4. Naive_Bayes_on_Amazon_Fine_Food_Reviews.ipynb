{
  "nbformat": 4,
  "nbformat_minor": 0,
  "metadata": {
    "colab": {
      "name": "Naive Bayes on Amazon Fine Food Reviews.ipynb",
      "version": "0.3.2",
      "provenance": [],
      "collapsed_sections": []
    },
    "kernelspec": {
      "name": "python3",
      "display_name": "Python 3"
    }
  },
  "cells": [
    {
      "metadata": {
        "id": "KfKx4g50y0vb",
        "colab_type": "text"
      },
      "cell_type": "markdown",
      "source": [
        "#Perfoming Naive Bayes on Amazon Fine Food Reviews\n",
        "\n",
        "Data Source: https://www.kaggle.com/snap/amazon-fine-food-reviews \n",
        "\n",
        "The Amazon Fine Food Reviews dataset consists of reviews of fine foods from Amazon.\n",
        "\n",
        "Number of reviews : 568,454\n",
        "\n",
        "Number of products : 74,258\n",
        "\n",
        "Timespan : Oct 1999 - Oct 2012\n",
        "\n",
        "Number of Attributes/Columns in data : 10\n",
        "\n",
        "###Attribute Information:\n",
        "\n",
        "1. Id\n",
        "2. ProductId - unique identifier for the product\n",
        "3. UserId - unqiue identifier for the user\n",
        "4. ProfileName\n",
        "5. HelpfulnessNumerator - number of users who found the review helpful\n",
        "6. HelpfulnessDenominator - number of users who indicated whether they found the review helpful or not\n",
        "7. Score - rating between 1 and 5\n",
        "8. Time - timestamp for the review\n",
        "9. Summary - brief summary of the review\n",
        "10. Text - text of the review\n",
        "\n",
        "###Objective:\n",
        "\n",
        "Given a review, determine whether the review is positive (rating of 4 or 5) or negative (rating of 1 or 2)."
      ]
    },
    {
      "metadata": {
        "id": "oPA5SeJ_y97B",
        "colab_type": "text"
      },
      "cell_type": "markdown",
      "source": [
        "##1. Reading Data\n",
        "\n",
        "###1.1. Loading Data\n",
        "\n",
        "The dataset is available in two forms\n",
        "\n",
        "1. csv file\n",
        "2. SQLite Database\n",
        "\n",
        "In order to load the data, We have used the SQLITE dataset as it is easier to query the data and visualise the data efficiently. \n",
        "Here as we only want to get the global sentiment of the recommendations (positive or negative), we will purposefully ignore all Scores equal to 3. If the score is above 3, then the recommendation wil be set to \"positive\". Otherwise, it will be set to \"negative\"."
      ]
    },
    {
      "metadata": {
        "id": "pT9FKo-JsILg",
        "colab_type": "code",
        "colab": {}
      },
      "cell_type": "code",
      "source": [
        "%matplotlib inline\n",
        "import warnings\n",
        "warnings.filterwarnings(\"ignore\")\n",
        "\n",
        "\n",
        "import sqlite3\n",
        "import pandas as pd\n",
        "import numpy as np\n",
        "import nltk\n",
        "import string\n",
        "import matplotlib.pyplot as plt\n",
        "import seaborn as sns\n",
        "from sklearn.feature_extraction.text import TfidfTransformer\n",
        "from sklearn.feature_extraction.text import TfidfVectorizer\n",
        "\n",
        "from sklearn.feature_extraction.text import CountVectorizer\n",
        "from sklearn import metrics\n",
        "from sklearn.metrics import accuracy_score,confusion_matrix,f1_score,precision_score,recall_score\n",
        "from nltk.stem.porter import PorterStemmer\n",
        "import sklearn\n",
        "import re\n",
        "\n",
        "import string\n",
        "from nltk.corpus import stopwords\n",
        "from nltk.stem import PorterStemmer\n",
        "from nltk.stem.wordnet import WordNetLemmatizer\n",
        "\n",
        "from gensim.models import Word2Vec\n",
        "from gensim.models import KeyedVectors\n",
        "import pickle\n",
        "\n",
        "from tqdm import tqdm\n",
        "import os\n",
        "\n",
        "from sklearn.model_selection import train_test_split\n",
        "from sklearn.neighbors import KNeighborsClassifier\n",
        "from sklearn.metrics import accuracy_score\n",
        "from sklearn.model_selection import cross_val_score\n",
        "from collections import Counter\n",
        "from sklearn.model_selection import cross_validate\n",
        "\n",
        "from sklearn.naive_bayes import BernoulliNB"
      ],
      "execution_count": 0,
      "outputs": []
    },
    {
      "metadata": {
        "id": "SgSzAyLWzCpV",
        "colab_type": "code",
        "colab": {}
      },
      "cell_type": "code",
      "source": [
        "# Load the Drive helper and mount\n",
        "from google.colab import drive\n",
        "\n",
        "# This will prompt for authorization.\n",
        "drive.mount('/content/drive')"
      ],
      "execution_count": 0,
      "outputs": []
    },
    {
      "metadata": {
        "id": "ORhaCeNUzHKe",
        "colab_type": "code",
        "outputId": "0f90ca59-cbae-49fc-fe5e-42a1fb21c4ce",
        "colab": {
          "base_uri": "https://localhost:8080/",
          "height": 34
        }
      },
      "cell_type": "code",
      "source": [
        "#lists the content of your google drive\n",
        "!ls \"/content/drive/My Drive/datasets/amazon fine food\""
      ],
      "execution_count": 0,
      "outputs": [
        {
          "output_type": "stream",
          "text": [
            "database.sqlite\n"
          ],
          "name": "stdout"
        }
      ]
    },
    {
      "metadata": {
        "id": "u9BGVquCzTZN",
        "colab_type": "code",
        "outputId": "19e2722c-ed38-49bf-fbd5-cdc720a09439",
        "colab": {
          "base_uri": "https://localhost:8080/",
          "height": 227
        }
      },
      "cell_type": "code",
      "source": [
        "# using SQLite Table to read data.\n",
        "con = sqlite3.connect('/content/drive/My Drive/datasets/amazon fine food/database.sqlite') \n",
        "\n",
        "# filtering only positive and negative reviews i.e. not taking into consideration those reviews with Score=3\n",
        "# for this analysis we are only taking 50000 data points considering our computing power\n",
        "\n",
        "filtered_data = pd.read_sql_query(\"\"\" SELECT * FROM Reviews WHERE Score != 3 LIMIT 100000\"\"\", con) \n",
        "\n",
        "# Give reviews with Score>3 a positive rating(1), and reviews with a score<3 a negative rating(0).\n",
        "def partition(x):\n",
        "    if x < 3:\n",
        "        return 0\n",
        "    return 1\n",
        "\n",
        "#changing reviews with score less than 3 to be positive and vice-versa\n",
        "actualScore = filtered_data['Score']\n",
        "positiveNegative = actualScore.map(partition) \n",
        "filtered_data['Score'] = positiveNegative\n",
        "print(\"Number of data points in our data\", filtered_data.shape)\n",
        "filtered_data.head(3)"
      ],
      "execution_count": 0,
      "outputs": [
        {
          "output_type": "stream",
          "text": [
            "Number of data points in our data (100000, 10)\n"
          ],
          "name": "stdout"
        },
        {
          "output_type": "execute_result",
          "data": {
            "text/html": [
              "<div>\n",
              "<style scoped>\n",
              "    .dataframe tbody tr th:only-of-type {\n",
              "        vertical-align: middle;\n",
              "    }\n",
              "\n",
              "    .dataframe tbody tr th {\n",
              "        vertical-align: top;\n",
              "    }\n",
              "\n",
              "    .dataframe thead th {\n",
              "        text-align: right;\n",
              "    }\n",
              "</style>\n",
              "<table border=\"1\" class=\"dataframe\">\n",
              "  <thead>\n",
              "    <tr style=\"text-align: right;\">\n",
              "      <th></th>\n",
              "      <th>Id</th>\n",
              "      <th>ProductId</th>\n",
              "      <th>UserId</th>\n",
              "      <th>ProfileName</th>\n",
              "      <th>HelpfulnessNumerator</th>\n",
              "      <th>HelpfulnessDenominator</th>\n",
              "      <th>Score</th>\n",
              "      <th>Time</th>\n",
              "      <th>Summary</th>\n",
              "      <th>Text</th>\n",
              "    </tr>\n",
              "  </thead>\n",
              "  <tbody>\n",
              "    <tr>\n",
              "      <th>0</th>\n",
              "      <td>1</td>\n",
              "      <td>B001E4KFG0</td>\n",
              "      <td>A3SGXH7AUHU8GW</td>\n",
              "      <td>delmartian</td>\n",
              "      <td>1</td>\n",
              "      <td>1</td>\n",
              "      <td>1</td>\n",
              "      <td>1303862400</td>\n",
              "      <td>Good Quality Dog Food</td>\n",
              "      <td>I have bought several of the Vitality canned d...</td>\n",
              "    </tr>\n",
              "    <tr>\n",
              "      <th>1</th>\n",
              "      <td>2</td>\n",
              "      <td>B00813GRG4</td>\n",
              "      <td>A1D87F6ZCVE5NK</td>\n",
              "      <td>dll pa</td>\n",
              "      <td>0</td>\n",
              "      <td>0</td>\n",
              "      <td>0</td>\n",
              "      <td>1346976000</td>\n",
              "      <td>Not as Advertised</td>\n",
              "      <td>Product arrived labeled as Jumbo Salted Peanut...</td>\n",
              "    </tr>\n",
              "    <tr>\n",
              "      <th>2</th>\n",
              "      <td>3</td>\n",
              "      <td>B000LQOCH0</td>\n",
              "      <td>ABXLMWJIXXAIN</td>\n",
              "      <td>Natalia Corres \"Natalia Corres\"</td>\n",
              "      <td>1</td>\n",
              "      <td>1</td>\n",
              "      <td>1</td>\n",
              "      <td>1219017600</td>\n",
              "      <td>\"Delight\" says it all</td>\n",
              "      <td>This is a confection that has been around a fe...</td>\n",
              "    </tr>\n",
              "  </tbody>\n",
              "</table>\n",
              "</div>"
            ],
            "text/plain": [
              "   Id   ProductId          UserId                      ProfileName  \\\n",
              "0   1  B001E4KFG0  A3SGXH7AUHU8GW                       delmartian   \n",
              "1   2  B00813GRG4  A1D87F6ZCVE5NK                           dll pa   \n",
              "2   3  B000LQOCH0   ABXLMWJIXXAIN  Natalia Corres \"Natalia Corres\"   \n",
              "\n",
              "   HelpfulnessNumerator  HelpfulnessDenominator  Score        Time  \\\n",
              "0                     1                       1      1  1303862400   \n",
              "1                     0                       0      0  1346976000   \n",
              "2                     1                       1      1  1219017600   \n",
              "\n",
              "                 Summary                                               Text  \n",
              "0  Good Quality Dog Food  I have bought several of the Vitality canned d...  \n",
              "1      Not as Advertised  Product arrived labeled as Jumbo Salted Peanut...  \n",
              "2  \"Delight\" says it all  This is a confection that has been around a fe...  "
            ]
          },
          "metadata": {
            "tags": []
          },
          "execution_count": 70
        }
      ]
    },
    {
      "metadata": {
        "id": "vO_WhgcezVav",
        "colab_type": "code",
        "colab": {}
      },
      "cell_type": "code",
      "source": [
        "display = pd.read_sql_query(\"\"\"\n",
        "SELECT UserId, ProductId, ProfileName, Time, Score, Text, COUNT(*)\n",
        "FROM Reviews\n",
        "GROUP BY UserId\n",
        "HAVING COUNT(*)>1\n",
        "\"\"\", con)"
      ],
      "execution_count": 0,
      "outputs": []
    },
    {
      "metadata": {
        "id": "ltNhStDIzYZA",
        "colab_type": "code",
        "outputId": "9b327b6c-cba1-4529-9402-06dd55fc21ac",
        "colab": {
          "base_uri": "https://localhost:8080/",
          "height": 221
        }
      },
      "cell_type": "code",
      "source": [
        "print(display.shape)\n",
        "display.head()"
      ],
      "execution_count": 0,
      "outputs": [
        {
          "output_type": "stream",
          "text": [
            "(80668, 7)\n"
          ],
          "name": "stdout"
        },
        {
          "output_type": "execute_result",
          "data": {
            "text/html": [
              "<div>\n",
              "<style scoped>\n",
              "    .dataframe tbody tr th:only-of-type {\n",
              "        vertical-align: middle;\n",
              "    }\n",
              "\n",
              "    .dataframe tbody tr th {\n",
              "        vertical-align: top;\n",
              "    }\n",
              "\n",
              "    .dataframe thead th {\n",
              "        text-align: right;\n",
              "    }\n",
              "</style>\n",
              "<table border=\"1\" class=\"dataframe\">\n",
              "  <thead>\n",
              "    <tr style=\"text-align: right;\">\n",
              "      <th></th>\n",
              "      <th>UserId</th>\n",
              "      <th>ProductId</th>\n",
              "      <th>ProfileName</th>\n",
              "      <th>Time</th>\n",
              "      <th>Score</th>\n",
              "      <th>Text</th>\n",
              "      <th>COUNT(*)</th>\n",
              "    </tr>\n",
              "  </thead>\n",
              "  <tbody>\n",
              "    <tr>\n",
              "      <th>0</th>\n",
              "      <td>#oc-R115TNMSPFT9I7</td>\n",
              "      <td>B007Y59HVM</td>\n",
              "      <td>Breyton</td>\n",
              "      <td>1331510400</td>\n",
              "      <td>2</td>\n",
              "      <td>Overall its just OK when considering the price...</td>\n",
              "      <td>2</td>\n",
              "    </tr>\n",
              "    <tr>\n",
              "      <th>1</th>\n",
              "      <td>#oc-R11D9D7SHXIJB9</td>\n",
              "      <td>B005HG9ET0</td>\n",
              "      <td>Louis E. Emory \"hoppy\"</td>\n",
              "      <td>1342396800</td>\n",
              "      <td>5</td>\n",
              "      <td>My wife has recurring extreme muscle spasms, u...</td>\n",
              "      <td>3</td>\n",
              "    </tr>\n",
              "    <tr>\n",
              "      <th>2</th>\n",
              "      <td>#oc-R11DNU2NBKQ23Z</td>\n",
              "      <td>B007Y59HVM</td>\n",
              "      <td>Kim Cieszykowski</td>\n",
              "      <td>1348531200</td>\n",
              "      <td>1</td>\n",
              "      <td>This coffee is horrible and unfortunately not ...</td>\n",
              "      <td>2</td>\n",
              "    </tr>\n",
              "    <tr>\n",
              "      <th>3</th>\n",
              "      <td>#oc-R11O5J5ZVQE25C</td>\n",
              "      <td>B005HG9ET0</td>\n",
              "      <td>Penguin Chick</td>\n",
              "      <td>1346889600</td>\n",
              "      <td>5</td>\n",
              "      <td>This will be the bottle that you grab from the...</td>\n",
              "      <td>3</td>\n",
              "    </tr>\n",
              "    <tr>\n",
              "      <th>4</th>\n",
              "      <td>#oc-R12KPBODL2B5ZD</td>\n",
              "      <td>B007OSBE1U</td>\n",
              "      <td>Christopher P. Presta</td>\n",
              "      <td>1348617600</td>\n",
              "      <td>1</td>\n",
              "      <td>I didnt like this coffee. Instead of telling y...</td>\n",
              "      <td>2</td>\n",
              "    </tr>\n",
              "  </tbody>\n",
              "</table>\n",
              "</div>"
            ],
            "text/plain": [
              "               UserId   ProductId             ProfileName        Time  Score  \\\n",
              "0  #oc-R115TNMSPFT9I7  B007Y59HVM                 Breyton  1331510400      2   \n",
              "1  #oc-R11D9D7SHXIJB9  B005HG9ET0  Louis E. Emory \"hoppy\"  1342396800      5   \n",
              "2  #oc-R11DNU2NBKQ23Z  B007Y59HVM        Kim Cieszykowski  1348531200      1   \n",
              "3  #oc-R11O5J5ZVQE25C  B005HG9ET0           Penguin Chick  1346889600      5   \n",
              "4  #oc-R12KPBODL2B5ZD  B007OSBE1U   Christopher P. Presta  1348617600      1   \n",
              "\n",
              "                                                Text  COUNT(*)  \n",
              "0  Overall its just OK when considering the price...         2  \n",
              "1  My wife has recurring extreme muscle spasms, u...         3  \n",
              "2  This coffee is horrible and unfortunately not ...         2  \n",
              "3  This will be the bottle that you grab from the...         3  \n",
              "4  I didnt like this coffee. Instead of telling y...         2  "
            ]
          },
          "metadata": {
            "tags": []
          },
          "execution_count": 72
        }
      ]
    },
    {
      "metadata": {
        "id": "fz8zBqDszbdj",
        "colab_type": "code",
        "outputId": "145f3868-dc85-41e0-9646-a0020f3f9be7",
        "colab": {
          "base_uri": "https://localhost:8080/",
          "height": 80
        }
      },
      "cell_type": "code",
      "source": [
        "display[display['UserId']=='AZY10LLTJ71NX']"
      ],
      "execution_count": 0,
      "outputs": [
        {
          "output_type": "execute_result",
          "data": {
            "text/html": [
              "<div>\n",
              "<style scoped>\n",
              "    .dataframe tbody tr th:only-of-type {\n",
              "        vertical-align: middle;\n",
              "    }\n",
              "\n",
              "    .dataframe tbody tr th {\n",
              "        vertical-align: top;\n",
              "    }\n",
              "\n",
              "    .dataframe thead th {\n",
              "        text-align: right;\n",
              "    }\n",
              "</style>\n",
              "<table border=\"1\" class=\"dataframe\">\n",
              "  <thead>\n",
              "    <tr style=\"text-align: right;\">\n",
              "      <th></th>\n",
              "      <th>UserId</th>\n",
              "      <th>ProductId</th>\n",
              "      <th>ProfileName</th>\n",
              "      <th>Time</th>\n",
              "      <th>Score</th>\n",
              "      <th>Text</th>\n",
              "      <th>COUNT(*)</th>\n",
              "    </tr>\n",
              "  </thead>\n",
              "  <tbody>\n",
              "    <tr>\n",
              "      <th>80638</th>\n",
              "      <td>AZY10LLTJ71NX</td>\n",
              "      <td>B006P7E5ZI</td>\n",
              "      <td>undertheshrine \"undertheshrine\"</td>\n",
              "      <td>1334707200</td>\n",
              "      <td>5</td>\n",
              "      <td>I was recommended to try green tea extract to ...</td>\n",
              "      <td>5</td>\n",
              "    </tr>\n",
              "  </tbody>\n",
              "</table>\n",
              "</div>"
            ],
            "text/plain": [
              "              UserId   ProductId                      ProfileName        Time  \\\n",
              "80638  AZY10LLTJ71NX  B006P7E5ZI  undertheshrine \"undertheshrine\"  1334707200   \n",
              "\n",
              "       Score                                               Text  COUNT(*)  \n",
              "80638      5  I was recommended to try green tea extract to ...         5  "
            ]
          },
          "metadata": {
            "tags": []
          },
          "execution_count": 73
        }
      ]
    },
    {
      "metadata": {
        "id": "DZEbnYOTzd8o",
        "colab_type": "code",
        "outputId": "5894f653-bb17-46c0-f2fb-d06a2b669580",
        "colab": {
          "base_uri": "https://localhost:8080/",
          "height": 34
        }
      },
      "cell_type": "code",
      "source": [
        "display['COUNT(*)'].sum()"
      ],
      "execution_count": 0,
      "outputs": [
        {
          "output_type": "execute_result",
          "data": {
            "text/plain": [
              "393063"
            ]
          },
          "metadata": {
            "tags": []
          },
          "execution_count": 74
        }
      ]
    },
    {
      "metadata": {
        "id": "qVlWKDyTzjBv",
        "colab_type": "text"
      },
      "cell_type": "markdown",
      "source": [
        "##2. Exploratory Data Analysis\n",
        "\n",
        "###2.1. Data Cleaning: Deduplication\n",
        "\n",
        "It is observed (as shown in the table below) that the reviews data had many duplicate entries. Hence it was necessary to remove duplicates in order to get unbiased results for the analysis of the data. Following is an example:"
      ]
    },
    {
      "metadata": {
        "id": "ZwzvkQnwzf4S",
        "colab_type": "code",
        "outputId": "9c79aaff-c783-4436-c28e-a323c33321c3",
        "colab": {
          "base_uri": "https://localhost:8080/",
          "height": 374
        }
      },
      "cell_type": "code",
      "source": [
        "display= pd.read_sql_query(\"\"\"\n",
        "SELECT *\n",
        "FROM Reviews\n",
        "WHERE Score != 3 AND UserId=\"AR5J8UI46CURR\"\n",
        "ORDER BY ProductID\n",
        "\"\"\", con)\n",
        "display.head()"
      ],
      "execution_count": 0,
      "outputs": [
        {
          "output_type": "execute_result",
          "data": {
            "text/html": [
              "<div>\n",
              "<style scoped>\n",
              "    .dataframe tbody tr th:only-of-type {\n",
              "        vertical-align: middle;\n",
              "    }\n",
              "\n",
              "    .dataframe tbody tr th {\n",
              "        vertical-align: top;\n",
              "    }\n",
              "\n",
              "    .dataframe thead th {\n",
              "        text-align: right;\n",
              "    }\n",
              "</style>\n",
              "<table border=\"1\" class=\"dataframe\">\n",
              "  <thead>\n",
              "    <tr style=\"text-align: right;\">\n",
              "      <th></th>\n",
              "      <th>Id</th>\n",
              "      <th>ProductId</th>\n",
              "      <th>UserId</th>\n",
              "      <th>ProfileName</th>\n",
              "      <th>HelpfulnessNumerator</th>\n",
              "      <th>HelpfulnessDenominator</th>\n",
              "      <th>Score</th>\n",
              "      <th>Time</th>\n",
              "      <th>Summary</th>\n",
              "      <th>Text</th>\n",
              "    </tr>\n",
              "  </thead>\n",
              "  <tbody>\n",
              "    <tr>\n",
              "      <th>0</th>\n",
              "      <td>78445</td>\n",
              "      <td>B000HDL1RQ</td>\n",
              "      <td>AR5J8UI46CURR</td>\n",
              "      <td>Geetha Krishnan</td>\n",
              "      <td>2</td>\n",
              "      <td>2</td>\n",
              "      <td>5</td>\n",
              "      <td>1199577600</td>\n",
              "      <td>LOACKER QUADRATINI VANILLA WAFERS</td>\n",
              "      <td>DELICIOUS WAFERS. I FIND THAT EUROPEAN WAFERS ...</td>\n",
              "    </tr>\n",
              "    <tr>\n",
              "      <th>1</th>\n",
              "      <td>138317</td>\n",
              "      <td>B000HDOPYC</td>\n",
              "      <td>AR5J8UI46CURR</td>\n",
              "      <td>Geetha Krishnan</td>\n",
              "      <td>2</td>\n",
              "      <td>2</td>\n",
              "      <td>5</td>\n",
              "      <td>1199577600</td>\n",
              "      <td>LOACKER QUADRATINI VANILLA WAFERS</td>\n",
              "      <td>DELICIOUS WAFERS. I FIND THAT EUROPEAN WAFERS ...</td>\n",
              "    </tr>\n",
              "    <tr>\n",
              "      <th>2</th>\n",
              "      <td>138277</td>\n",
              "      <td>B000HDOPYM</td>\n",
              "      <td>AR5J8UI46CURR</td>\n",
              "      <td>Geetha Krishnan</td>\n",
              "      <td>2</td>\n",
              "      <td>2</td>\n",
              "      <td>5</td>\n",
              "      <td>1199577600</td>\n",
              "      <td>LOACKER QUADRATINI VANILLA WAFERS</td>\n",
              "      <td>DELICIOUS WAFERS. I FIND THAT EUROPEAN WAFERS ...</td>\n",
              "    </tr>\n",
              "    <tr>\n",
              "      <th>3</th>\n",
              "      <td>73791</td>\n",
              "      <td>B000HDOPZG</td>\n",
              "      <td>AR5J8UI46CURR</td>\n",
              "      <td>Geetha Krishnan</td>\n",
              "      <td>2</td>\n",
              "      <td>2</td>\n",
              "      <td>5</td>\n",
              "      <td>1199577600</td>\n",
              "      <td>LOACKER QUADRATINI VANILLA WAFERS</td>\n",
              "      <td>DELICIOUS WAFERS. I FIND THAT EUROPEAN WAFERS ...</td>\n",
              "    </tr>\n",
              "    <tr>\n",
              "      <th>4</th>\n",
              "      <td>155049</td>\n",
              "      <td>B000PAQ75C</td>\n",
              "      <td>AR5J8UI46CURR</td>\n",
              "      <td>Geetha Krishnan</td>\n",
              "      <td>2</td>\n",
              "      <td>2</td>\n",
              "      <td>5</td>\n",
              "      <td>1199577600</td>\n",
              "      <td>LOACKER QUADRATINI VANILLA WAFERS</td>\n",
              "      <td>DELICIOUS WAFERS. I FIND THAT EUROPEAN WAFERS ...</td>\n",
              "    </tr>\n",
              "  </tbody>\n",
              "</table>\n",
              "</div>"
            ],
            "text/plain": [
              "       Id   ProductId         UserId      ProfileName  HelpfulnessNumerator  \\\n",
              "0   78445  B000HDL1RQ  AR5J8UI46CURR  Geetha Krishnan                     2   \n",
              "1  138317  B000HDOPYC  AR5J8UI46CURR  Geetha Krishnan                     2   \n",
              "2  138277  B000HDOPYM  AR5J8UI46CURR  Geetha Krishnan                     2   \n",
              "3   73791  B000HDOPZG  AR5J8UI46CURR  Geetha Krishnan                     2   \n",
              "4  155049  B000PAQ75C  AR5J8UI46CURR  Geetha Krishnan                     2   \n",
              "\n",
              "   HelpfulnessDenominator  Score        Time  \\\n",
              "0                       2      5  1199577600   \n",
              "1                       2      5  1199577600   \n",
              "2                       2      5  1199577600   \n",
              "3                       2      5  1199577600   \n",
              "4                       2      5  1199577600   \n",
              "\n",
              "                             Summary  \\\n",
              "0  LOACKER QUADRATINI VANILLA WAFERS   \n",
              "1  LOACKER QUADRATINI VANILLA WAFERS   \n",
              "2  LOACKER QUADRATINI VANILLA WAFERS   \n",
              "3  LOACKER QUADRATINI VANILLA WAFERS   \n",
              "4  LOACKER QUADRATINI VANILLA WAFERS   \n",
              "\n",
              "                                                Text  \n",
              "0  DELICIOUS WAFERS. I FIND THAT EUROPEAN WAFERS ...  \n",
              "1  DELICIOUS WAFERS. I FIND THAT EUROPEAN WAFERS ...  \n",
              "2  DELICIOUS WAFERS. I FIND THAT EUROPEAN WAFERS ...  \n",
              "3  DELICIOUS WAFERS. I FIND THAT EUROPEAN WAFERS ...  \n",
              "4  DELICIOUS WAFERS. I FIND THAT EUROPEAN WAFERS ...  "
            ]
          },
          "metadata": {
            "tags": []
          },
          "execution_count": 75
        }
      ]
    },
    {
      "metadata": {
        "id": "emTwRviczpoE",
        "colab_type": "text"
      },
      "cell_type": "markdown",
      "source": [
        "As it can be seen above that same user has multiple reviews with same values for HelpfulnessNumerator, HelpfulnessDenominator, Score, Time, Summary and Text and on doing analysis it was found that \n",
        "\n",
        "ProductId=B000HDOPZG was Loacker Quadratini Vanilla Wafer Cookies, 8.82-Ounce Packages (Pack of 8)\n",
        "\n",
        "ProductId=B000HDL1RQ was Loacker Quadratini Lemon Wafer Cookies, 8.82-Ounce Packages (Pack of 8) and so on\n",
        "\n",
        "It was inferred after analysis that reviews with same parameters other than ProductId belonged to the same product just having different flavour or quantity. Hence in order to reduce redundancy it was decided to eliminate the rows having same parameters.\n",
        "\n",
        "The method used for the same was that we first sort the data according to ProductId and then just keep the first similar product review and delelte the others. for eg. in the above just the review for ProductId=B000HDL1RQ remains. This method ensures that there is only one representative for each product and deduplication without sorting would lead to possibility of different representatives still existing for the same product."
      ]
    },
    {
      "metadata": {
        "id": "VoJam7sezl63",
        "colab_type": "code",
        "colab": {}
      },
      "cell_type": "code",
      "source": [
        "#Sorting data according to ProductId in ascending order\n",
        "sorted_data=filtered_data.sort_values('ProductId', axis=0, ascending=True, inplace=False, kind='quicksort', na_position='last')"
      ],
      "execution_count": 0,
      "outputs": []
    },
    {
      "metadata": {
        "id": "FXPTar0fzswM",
        "colab_type": "code",
        "outputId": "757c84a8-f63c-4be4-b0fd-f252cfb79944",
        "colab": {
          "base_uri": "https://localhost:8080/",
          "height": 34
        }
      },
      "cell_type": "code",
      "source": [
        "#Deduplication of entries\n",
        "final=sorted_data.drop_duplicates(subset={\"UserId\",\"ProfileName\",\"Time\",\"Text\"}, keep='first', inplace=False)\n",
        "final.shape"
      ],
      "execution_count": 0,
      "outputs": [
        {
          "output_type": "execute_result",
          "data": {
            "text/plain": [
              "(87775, 10)"
            ]
          },
          "metadata": {
            "tags": []
          },
          "execution_count": 77
        }
      ]
    },
    {
      "metadata": {
        "id": "x4kSfTImzu61",
        "colab_type": "code",
        "outputId": "811d7135-06f9-4119-bf72-0882fa94811a",
        "colab": {
          "base_uri": "https://localhost:8080/",
          "height": 34
        }
      },
      "cell_type": "code",
      "source": [
        "#Checking to see how much % of data still remains\n",
        "(final['Id'].size*1.0)/(filtered_data['Id'].size*1.0)*100"
      ],
      "execution_count": 0,
      "outputs": [
        {
          "output_type": "execute_result",
          "data": {
            "text/plain": [
              "87.775"
            ]
          },
          "metadata": {
            "tags": []
          },
          "execution_count": 78
        }
      ]
    },
    {
      "metadata": {
        "id": "G67vx7l3z3pI",
        "colab_type": "text"
      },
      "cell_type": "markdown",
      "source": [
        "###Observation:-\n",
        "It was also seen that in two rows given below the value of HelpfulnessNumerator is greater than HelpfulnessDenominator which is not practically possible hence these two rows too are removed from calcualtions"
      ]
    },
    {
      "metadata": {
        "id": "l2JIeNLtz0qS",
        "colab_type": "code",
        "outputId": "2a7b56fc-3674-428a-a1d5-c18c81559729",
        "colab": {
          "base_uri": "https://localhost:8080/",
          "height": 179
        }
      },
      "cell_type": "code",
      "source": [
        "display= pd.read_sql_query(\"\"\"\n",
        "SELECT *\n",
        "FROM Reviews\n",
        "WHERE Score != 3 AND Id=44737 OR Id=64422\n",
        "ORDER BY ProductID\n",
        "\"\"\", con)\n",
        "\n",
        "display.head()"
      ],
      "execution_count": 0,
      "outputs": [
        {
          "output_type": "execute_result",
          "data": {
            "text/html": [
              "<div>\n",
              "<style scoped>\n",
              "    .dataframe tbody tr th:only-of-type {\n",
              "        vertical-align: middle;\n",
              "    }\n",
              "\n",
              "    .dataframe tbody tr th {\n",
              "        vertical-align: top;\n",
              "    }\n",
              "\n",
              "    .dataframe thead th {\n",
              "        text-align: right;\n",
              "    }\n",
              "</style>\n",
              "<table border=\"1\" class=\"dataframe\">\n",
              "  <thead>\n",
              "    <tr style=\"text-align: right;\">\n",
              "      <th></th>\n",
              "      <th>Id</th>\n",
              "      <th>ProductId</th>\n",
              "      <th>UserId</th>\n",
              "      <th>ProfileName</th>\n",
              "      <th>HelpfulnessNumerator</th>\n",
              "      <th>HelpfulnessDenominator</th>\n",
              "      <th>Score</th>\n",
              "      <th>Time</th>\n",
              "      <th>Summary</th>\n",
              "      <th>Text</th>\n",
              "    </tr>\n",
              "  </thead>\n",
              "  <tbody>\n",
              "    <tr>\n",
              "      <th>0</th>\n",
              "      <td>64422</td>\n",
              "      <td>B000MIDROQ</td>\n",
              "      <td>A161DK06JJMCYF</td>\n",
              "      <td>J. E. Stephens \"Jeanne\"</td>\n",
              "      <td>3</td>\n",
              "      <td>1</td>\n",
              "      <td>5</td>\n",
              "      <td>1224892800</td>\n",
              "      <td>Bought This for My Son at College</td>\n",
              "      <td>My son loves spaghetti so I didn't hesitate or...</td>\n",
              "    </tr>\n",
              "    <tr>\n",
              "      <th>1</th>\n",
              "      <td>44737</td>\n",
              "      <td>B001EQ55RW</td>\n",
              "      <td>A2V0I904FH7ABY</td>\n",
              "      <td>Ram</td>\n",
              "      <td>3</td>\n",
              "      <td>2</td>\n",
              "      <td>4</td>\n",
              "      <td>1212883200</td>\n",
              "      <td>Pure cocoa taste with crunchy almonds inside</td>\n",
              "      <td>It was almost a 'love at first bite' - the per...</td>\n",
              "    </tr>\n",
              "  </tbody>\n",
              "</table>\n",
              "</div>"
            ],
            "text/plain": [
              "      Id   ProductId          UserId              ProfileName  \\\n",
              "0  64422  B000MIDROQ  A161DK06JJMCYF  J. E. Stephens \"Jeanne\"   \n",
              "1  44737  B001EQ55RW  A2V0I904FH7ABY                      Ram   \n",
              "\n",
              "   HelpfulnessNumerator  HelpfulnessDenominator  Score        Time  \\\n",
              "0                     3                       1      5  1224892800   \n",
              "1                     3                       2      4  1212883200   \n",
              "\n",
              "                                        Summary  \\\n",
              "0             Bought This for My Son at College   \n",
              "1  Pure cocoa taste with crunchy almonds inside   \n",
              "\n",
              "                                                Text  \n",
              "0  My son loves spaghetti so I didn't hesitate or...  \n",
              "1  It was almost a 'love at first bite' - the per...  "
            ]
          },
          "metadata": {
            "tags": []
          },
          "execution_count": 79
        }
      ]
    },
    {
      "metadata": {
        "id": "AhbM2yKtz6SS",
        "colab_type": "code",
        "colab": {}
      },
      "cell_type": "code",
      "source": [
        "final=final[final.HelpfulnessNumerator<=final.HelpfulnessDenominator]"
      ],
      "execution_count": 0,
      "outputs": []
    },
    {
      "metadata": {
        "id": "X74dBHExz9Dx",
        "colab_type": "code",
        "outputId": "4a54f60c-9ca5-4e0a-f170-9e7e019ecb2a",
        "colab": {
          "base_uri": "https://localhost:8080/",
          "height": 85
        }
      },
      "cell_type": "code",
      "source": [
        "#Before starting the next phase of preprocessing lets see the number of entries left\n",
        "print(final.shape)\n",
        "\n",
        "#How many positive and negative reviews are present in our dataset?\n",
        "final['Score'].value_counts()"
      ],
      "execution_count": 0,
      "outputs": [
        {
          "output_type": "stream",
          "text": [
            "(87773, 10)\n"
          ],
          "name": "stdout"
        },
        {
          "output_type": "execute_result",
          "data": {
            "text/plain": [
              "1    73592\n",
              "0    14181\n",
              "Name: Score, dtype: int64"
            ]
          },
          "metadata": {
            "tags": []
          },
          "execution_count": 81
        }
      ]
    },
    {
      "metadata": {
        "id": "qXjKlid80BrU",
        "colab_type": "text"
      },
      "cell_type": "markdown",
      "source": [
        "##3. Preprocessing \n",
        "\n",
        "###3.1. Preprocessing Review Text\n",
        "\n",
        "Now that we have finished deduplication our data requires some preprocessing before we go on further with analysis and making the prediction model.\n",
        "\n",
        "Hence in the Preprocessing phase we do the following in the order below:-\n",
        "\n",
        "1. Begin by removing the html tags\n",
        "2. Remove any punctuations or limited set of special characters like , or . or # etc.\n",
        "3. Check if the word is made up of english letters and is not alpha-numeric\n",
        "4. Check to see if the length of the word is greater than 2 (as it was researched that there is no adjective in 2-letters)\n",
        "5. Convert the word to lowercase\n",
        "6. Remove Stopwords\n",
        "7. Finally Snowball Stemming the word (it was obsereved to be better than Porter Stemming)\n",
        "\n",
        "After which we collect the words used to describe positive and negative reviews"
      ]
    },
    {
      "metadata": {
        "id": "7czjH3Rnz-60",
        "colab_type": "code",
        "outputId": "1ac5ad61-0f52-4ab6-8a7d-293d6fec7ac6",
        "colab": {
          "base_uri": "https://localhost:8080/",
          "height": 71
        }
      },
      "cell_type": "code",
      "source": [
        "# find sentences containing HTML tags\n",
        "import re\n",
        "i=0;\n",
        "for sent in final['Text'].values:\n",
        "    if (len(re.findall('<.*?>', sent))):\n",
        "        print(i)\n",
        "        print(sent)\n",
        "        break;\n",
        "    i += 1;"
      ],
      "execution_count": 0,
      "outputs": [
        {
          "output_type": "stream",
          "text": [
            "4\n",
            "I wish I'd read the reviews before making this purchase. It's basically a cardsotck box that is sticky all over the OUTSIDE. Those pink-ish things that look like entrances \"into\" the trap? They're just pictures. There *is no* inside of the trap. All the flies will be stuck to the OUTSIDE. It's basically fly paper, just horribly, horribly HORRIBLY overpriced.<br /><br />Do yourself a favor and just get fly paper or fly strips. Same yuck factor, but much cheaper.\n"
          ],
          "name": "stdout"
        }
      ]
    },
    {
      "metadata": {
        "id": "hG7dSvU00FMy",
        "colab_type": "code",
        "outputId": "761783eb-e268-42d3-bdc1-1386597f3973",
        "colab": {
          "base_uri": "https://localhost:8080/",
          "height": 68
        }
      },
      "cell_type": "code",
      "source": [
        "nltk.download(\"stopwords\")"
      ],
      "execution_count": 0,
      "outputs": [
        {
          "output_type": "stream",
          "text": [
            "[nltk_data] Downloading package stopwords to /root/nltk_data...\n",
            "[nltk_data]   Package stopwords is already up-to-date!\n"
          ],
          "name": "stdout"
        },
        {
          "output_type": "execute_result",
          "data": {
            "text/plain": [
              "True"
            ]
          },
          "metadata": {
            "tags": []
          },
          "execution_count": 83
        }
      ]
    },
    {
      "metadata": {
        "id": "DkrXnD1l0HjE",
        "colab_type": "code",
        "outputId": "cc646b6b-e19f-49ba-9654-a3bc839b98e0",
        "colab": {
          "base_uri": "https://localhost:8080/",
          "height": 54
        }
      },
      "cell_type": "code",
      "source": [
        "stop = set(stopwords.words('english')) #set of stopwords\n",
        "sno = nltk.stem.SnowballStemmer('english') #initialising the snowball stemmer\n",
        "\n",
        "def cleanhtml(sentence): #function to clean the word of any html-tags\n",
        "    cleanr = re.compile('<.*?>')\n",
        "    cleantext = re.sub(cleanr, ' ', sentence)\n",
        "    return cleantext\n",
        "def cleanpunc(sentence): #function to clean the word of any punctuation or special characters\n",
        "    cleaned = re.sub(r'[?|!|\\'|\"|#]',r'',sentence)\n",
        "    cleaned = re.sub(r'[.|,|)|(|\\|/]',r' ',cleaned)\n",
        "    return  cleaned\n",
        "print(stop)\n"
      ],
      "execution_count": 0,
      "outputs": [
        {
          "output_type": "stream",
          "text": [
            "{'a', 'll', 'shan', 'up', 're', 'isn', 'under', 'own', 'why', 'then', 'at', \"you'd\", 'itself', 'off', 'some', 'having', \"didn't\", 'weren', 'haven', 'other', 'ma', \"shan't\", 'that', 'o', 'while', \"she's\", \"aren't\", 'am', 'do', \"needn't\", 'the', \"haven't\", \"don't\", 'won', 'he', 'an', 'didn', 'being', \"hadn't\", 'of', 'nor', 'yours', 'all', 'again', 'more', 'y', 'most', 'very', 'herself', 'because', \"you'll\", 'whom', 'few', 'is', 'have', 'from', 'we', 'such', 's', \"should've\", 'their', 'about', \"isn't\", \"won't\", 't', 'will', 'ain', 'her', 'his', 'any', 'over', 'only', 'between', 'hers', 'wasn', 'yourselves', 'both', 'same', 'doesn', 'which', 'themselves', 'shouldn', 'too', 'theirs', 'doing', 'your', 'with', 'out', \"weren't\", 'been', \"mightn't\", \"wouldn't\", 'but', \"shouldn't\", \"it's\", 'by', 'ours', 'himself', 'how', 'be', 'you', 'where', 'aren', \"doesn't\", 'did', 'what', 'wouldn', 'yourself', 'him', 'should', 'those', 'further', 'no', 'its', \"you've\", 'before', 'each', 'our', 'if', 'hasn', 'needn', 'had', 'against', 'once', 'into', 'just', \"mustn't\", 'who', 'this', \"couldn't\", 'now', 'when', 'mightn', 'don', 'she', 'in', 'couldn', 'they', \"you're\", 'them', 'not', 'd', 'hadn', 'has', 'were', 'or', 'mustn', 'there', 'my', 'was', 'to', 'on', 'so', 'me', 'after', 'can', 'i', 'does', \"hasn't\", 'these', 'through', 'myself', 'above', \"wasn't\", 'ourselves', 'until', 'm', 'than', 'it', 'down', 'are', 'as', \"that'll\", 'and', 'below', 'here', 've', 'for', 'during'}\n"
          ],
          "name": "stdout"
        }
      ]
    },
    {
      "metadata": {
        "id": "L7kPVA790Jnl",
        "colab_type": "code",
        "outputId": "ec0507c3-c3a7-45a8-de51-bb0a71af1933",
        "colab": {
          "base_uri": "https://localhost:8080/",
          "height": 34
        }
      },
      "cell_type": "code",
      "source": [
        "# Combining all the above stundents \n",
        "from tqdm import tqdm\n",
        "\n",
        "i=0\n",
        "str1=' '\n",
        "final_string=[]\n",
        "all_positive_words=[] # store words from +ve reviews here\n",
        "all_negative_words=[] # store words from -ve reviews here.\n",
        "s=''\n",
        "for sent in tqdm(final['Text'].values):\n",
        "    filtered_sentence=[]\n",
        "    #print(sent);\n",
        "    sent=cleanhtml(sent) # remove HTMl tags\n",
        "    for w in sent.split():\n",
        "        for cleaned_words in cleanpunc(w).split():\n",
        "            if((cleaned_words.isalpha()) & (len(cleaned_words)>2)):    \n",
        "                if(cleaned_words.lower() not in stop):\n",
        "                    s=(sno.stem(cleaned_words.lower())).encode('utf8')\n",
        "                    filtered_sentence.append(s)\n",
        "                    if (final['Score'].values)[i] == 'positive': \n",
        "                        all_positive_words.append(s) #list of all words used to describe positive reviews\n",
        "                    if(final['Score'].values)[i] == 'negative':\n",
        "                        all_negative_words.append(s) #list of all words used to describe negative reviews reviews\n",
        "                else:\n",
        "                    continue\n",
        "            else:\n",
        "                continue \n",
        "    #print(filtered_sentence)\n",
        "    str1 = b\" \".join(filtered_sentence) #final string of cleaned words\n",
        "    #print(\"***********************************************************************\")\n",
        "    \n",
        "    final_string.append(str1)\n",
        "    i+=1"
      ],
      "execution_count": 0,
      "outputs": [
        {
          "output_type": "stream",
          "text": [
            "100%|██████████| 87773/87773 [02:14<00:00, 653.59it/s]\n"
          ],
          "name": "stderr"
        }
      ]
    },
    {
      "metadata": {
        "id": "OsOnqzG20L_v",
        "colab_type": "code",
        "colab": {}
      },
      "cell_type": "code",
      "source": [
        "#after data suplication and preprocessing we are adding the CleanedText as a new attribute of our dataset\n",
        "final['CleanedText']=final_string\n",
        "final['CleanedText']=final['CleanedText'].str.decode(\"utf-8\")"
      ],
      "execution_count": 0,
      "outputs": []
    },
    {
      "metadata": {
        "id": "liWynTHy07Fm",
        "colab_type": "code",
        "outputId": "7ef32220-aa33-4de9-9128-82f6ce2d4dc8",
        "colab": {
          "base_uri": "https://localhost:8080/",
          "height": 34
        }
      },
      "cell_type": "code",
      "source": [
        "final.shape"
      ],
      "execution_count": 0,
      "outputs": [
        {
          "output_type": "execute_result",
          "data": {
            "text/plain": [
              "(87773, 11)"
            ]
          },
          "metadata": {
            "tags": []
          },
          "execution_count": 87
        }
      ]
    },
    {
      "metadata": {
        "id": "X458P_vz09ca",
        "colab_type": "code",
        "colab": {}
      },
      "cell_type": "code",
      "source": [
        "#sorting the dataset by time so that we can later perform time-based splitting of the dataset into train and test\n",
        "final = final.sort_values(by=['Time'], axis=0) \n",
        "score = final['Score'].values\n",
        "text = final['CleanedText'].values"
      ],
      "execution_count": 0,
      "outputs": []
    },
    {
      "metadata": {
        "id": "g24m0fdZ0_1l",
        "colab_type": "code",
        "colab": {}
      },
      "cell_type": "code",
      "source": [
        "#splitting the dataset into train, test and cross validate \n",
        "x_train, x_test, y_train, y_test = train_test_split(text, score, test_size=0.3, shuffle=False)\n",
        "x_train, x_cv, y_train, y_cv = train_test_split(x_train, y_train, test_size=0.3, shuffle=False)"
      ],
      "execution_count": 0,
      "outputs": []
    },
    {
      "metadata": {
        "id": "grKFRoJP1Bqy",
        "colab_type": "code",
        "outputId": "c2f8cea3-9257-4829-8e6b-8a4bc0d2aa1a",
        "colab": {
          "base_uri": "https://localhost:8080/",
          "height": 68
        }
      },
      "cell_type": "code",
      "source": [
        "print(x_train.shape, y_train.shape)\n",
        "print(x_test.shape, y_test.shape)\n",
        "print(x_cv.shape, y_cv.shape)"
      ],
      "execution_count": 0,
      "outputs": [
        {
          "output_type": "stream",
          "text": [
            "(43008,) (43008,)\n",
            "(26332,) (26332,)\n",
            "(18433,) (18433,)\n"
          ],
          "name": "stdout"
        }
      ]
    },
    {
      "metadata": {
        "id": "dlibigXY1Dmw",
        "colab_type": "code",
        "outputId": "ca2957c0-0a34-4023-e371-6774dda589a6",
        "colab": {
          "base_uri": "https://localhost:8080/",
          "height": 51
        }
      },
      "cell_type": "code",
      "source": [
        "print(\"Number of positive(1) and negative(0) datapoints in our train dataset\")\n",
        "unique, counts = np.unique(y_train, return_counts=True)\n",
        "dict(zip(unique, counts))"
      ],
      "execution_count": 0,
      "outputs": [
        {
          "output_type": "stream",
          "text": [
            "Number of positive(1) and negative(0) datapoints in our train dataset\n"
          ],
          "name": "stdout"
        },
        {
          "output_type": "execute_result",
          "data": {
            "text/plain": [
              "{0: 6359, 1: 36649}"
            ]
          },
          "metadata": {
            "tags": []
          },
          "execution_count": 91
        }
      ]
    },
    {
      "metadata": {
        "id": "sXjnBsm61HMp",
        "colab_type": "code",
        "outputId": "dccd5ae5-2e95-4674-e8f2-f4fa048eeebe",
        "colab": {
          "base_uri": "https://localhost:8080/",
          "height": 51
        }
      },
      "cell_type": "code",
      "source": [
        "print(\"Number of positive(1) and negative(0) datapoints in our test dataset\")\n",
        "unique, counts = np.unique(y_test, return_counts=True)\n",
        "dict(zip(unique, counts))"
      ],
      "execution_count": 0,
      "outputs": [
        {
          "output_type": "stream",
          "text": [
            "Number of positive(1) and negative(0) datapoints in our test dataset\n"
          ],
          "name": "stdout"
        },
        {
          "output_type": "execute_result",
          "data": {
            "text/plain": [
              "{0: 4557, 1: 21775}"
            ]
          },
          "metadata": {
            "tags": []
          },
          "execution_count": 92
        }
      ]
    },
    {
      "metadata": {
        "id": "M4pqN3xM1Jye",
        "colab_type": "code",
        "outputId": "7a72ba9e-1b74-4b45-d950-af801e3a434e",
        "colab": {
          "base_uri": "https://localhost:8080/",
          "height": 51
        }
      },
      "cell_type": "code",
      "source": [
        "print(\"Number of positive(1) and negative(0) datapoints in our cross validate dataset\")\n",
        "unique, counts = np.unique(y_cv, return_counts=True)\n",
        "dict(zip(unique, counts))"
      ],
      "execution_count": 0,
      "outputs": [
        {
          "output_type": "stream",
          "text": [
            "Number of positive(1) and negative(0) datapoints in our cross validate dataset\n"
          ],
          "name": "stdout"
        },
        {
          "output_type": "execute_result",
          "data": {
            "text/plain": [
              "{0: 3265, 1: 15168}"
            ]
          },
          "metadata": {
            "tags": []
          },
          "execution_count": 93
        }
      ]
    },
    {
      "metadata": {
        "id": "nkDdRqB3lr2L",
        "colab_type": "text"
      },
      "cell_type": "markdown",
      "source": [
        "##4. Applying Bernoulli Naive Bayes\n",
        "\n",
        "###4.1. on Bag of Words"
      ]
    },
    {
      "metadata": {
        "id": "GJGTDcgW1Okf",
        "colab_type": "code",
        "outputId": "b7b6a532-481c-482e-d870-b75b9dbe71c0",
        "colab": {
          "base_uri": "https://localhost:8080/",
          "height": 34
        }
      },
      "cell_type": "code",
      "source": [
        "#coveting text to vectors using BOW \n",
        "#will be coverting train, test and cross validate datasets seperately to overcome data leakage problem\n",
        "\n",
        "count_vect = CountVectorizer() #in scikit-learn\n",
        "\n",
        "#converting train data to vectors using BOW\n",
        "bow_x_train = count_vect.fit_transform(x_train) \n",
        "bow_x_train.shape"
      ],
      "execution_count": 0,
      "outputs": [
        {
          "output_type": "execute_result",
          "data": {
            "text/plain": [
              "(43008, 24426)"
            ]
          },
          "metadata": {
            "tags": []
          },
          "execution_count": 50
        }
      ]
    },
    {
      "metadata": {
        "id": "RPDpdp7KmHqW",
        "colab_type": "code",
        "outputId": "26ee27e5-d3b1-43f7-e92a-c2b724fa9181",
        "colab": {
          "base_uri": "https://localhost:8080/",
          "height": 34
        }
      },
      "cell_type": "code",
      "source": [
        "#converting test data to vectors using BOW\n",
        "bow_x_test = count_vect.transform(x_test)\n",
        "bow_x_test.shape"
      ],
      "execution_count": 0,
      "outputs": [
        {
          "output_type": "execute_result",
          "data": {
            "text/plain": [
              "(26332, 24426)"
            ]
          },
          "metadata": {
            "tags": []
          },
          "execution_count": 51
        }
      ]
    },
    {
      "metadata": {
        "id": "_JcdORMonmiO",
        "colab_type": "code",
        "outputId": "5872a9aa-0385-48aa-ead1-e8553fe21220",
        "colab": {
          "base_uri": "https://localhost:8080/",
          "height": 34
        }
      },
      "cell_type": "code",
      "source": [
        "#converting cross validate data to vectors using BOW\n",
        "bow_x_cv = count_vect.transform(x_cv)\n",
        "bow_x_cv.shape"
      ],
      "execution_count": 0,
      "outputs": [
        {
          "output_type": "execute_result",
          "data": {
            "text/plain": [
              "(18433, 24426)"
            ]
          },
          "metadata": {
            "tags": []
          },
          "execution_count": 52
        }
      ]
    },
    {
      "metadata": {
        "id": "6JCXCGjjnpBk",
        "colab_type": "code",
        "outputId": "212df32a-f4b8-4d8a-e240-dba0ef218826",
        "colab": {
          "base_uri": "https://localhost:8080/",
          "height": 317
        }
      },
      "cell_type": "code",
      "source": [
        "#taking alpha values from 10^-3 to 10^3\n",
        "alpha_values = []\n",
        "i = 0.001\n",
        "while(i<=1000):\n",
        "    alpha_values.append(np.round(i,3))\n",
        "    i *= 3\n",
        "    \n",
        "cv_scores = [] #list to keep cross validate score\n",
        "for k in tqdm(alpha_values):\n",
        "    bnb = BernoulliNB(alpha=k)\n",
        "    scores = cross_val_score(bnb, bow_x_train, y_train, cv=10, scoring='accuracy', n_jobs=-1) #cv = 10 to perform 10 fold cross validation \n",
        "    cv_scores.append(scores.mean())\n",
        "\n",
        "#calculating Mssclassification error    \n",
        "error = [1 - x for x in cv_scores]\n",
        "\n",
        "#determing optimal alpha with least missclassification error value\n",
        "optimal_alpha = alpha_values[error.index(min(error))]\n",
        "print(optimal_alpha)\n",
        "\n",
        "#graph between missclassification error and hyperparameter values \n",
        "plt.plot(alpha_values, error)\n",
        "xy = (optimal_alpha, min(error))\n",
        "plt.annotate('(%s, %s)' % xy, xy = xy, textcoords='data')\n",
        "plt.xlabel(\"Number of neighbours 'k'\")\n",
        "plt.ylabel(\"Misclassification Error\")\n",
        "plt.show()\n",
        "    "
      ],
      "execution_count": 0,
      "outputs": [
        {
          "output_type": "stream",
          "text": [
            "100%|██████████| 13/13 [00:07<00:00,  1.80it/s]\n"
          ],
          "name": "stderr"
        },
        {
          "output_type": "stream",
          "text": [
            "0.009\n"
          ],
          "name": "stdout"
        },
        {
          "output_type": "display_data",
          "data": {
            "image/png": "[encoded data removed]",
            "text/plain": [
              "<Figure size 432x288 with 1 Axes>"
            ]
          },
          "metadata": {
            "tags": []
          }
        }
      ]
    },
    {
      "metadata": {
        "id": "pF93eZFrodQW",
        "colab_type": "code",
        "outputId": "a3ad6156-b02e-48db-8931-34dc684eb232",
        "colab": {
          "base_uri": "https://localhost:8080/",
          "height": 119
        }
      },
      "cell_type": "code",
      "source": [
        "#applying Bernoulli Naive Bayes on the optimal alpha calculated (0.009)\n",
        "\n",
        "#initiate model\n",
        "bnb = BernoulliNB(alpha = optimal_alpha)\n",
        "\n",
        "#fit model\n",
        "bnb.fit(bow_x_train, y_train)\n",
        "\n",
        "#predicting values for test data\n",
        "y_test_pred =  bnb.predict(bow_x_test)\n",
        "\n",
        "#calculating accuracy of model\n",
        "train_acc = bnb.score(bow_x_train, y_train) #train accuracy\n",
        "train_error = 1 - train_acc #train error\n",
        "test_acc = accuracy_score(y_test, y_test_pred) #test accuracy\n",
        "test_error = 1 - test_acc #test error\n",
        "\n",
        "print(\"_\" * 101)\n",
        "print(\"Training Accuracy: \", train_acc)\n",
        "print(\"Train Error: \", train_error)\n",
        "print(\"Test Accuracy: \", test_acc)\n",
        "print(\"Test Error: \", test_error)\n",
        "print(\"_\" * 101)"
      ],
      "execution_count": 0,
      "outputs": [
        {
          "output_type": "stream",
          "text": [
            "_____________________________________________________________________________________________________\n",
            "Training Accuracy:  0.9331752232142857\n",
            "Train Error:  0.0668247767857143\n",
            "Test Accuracy:  0.8801458301686161\n",
            "Test Error:  0.11985416983138386\n",
            "_____________________________________________________________________________________________________\n"
          ],
          "name": "stdout"
        }
      ]
    },
    {
      "metadata": {
        "id": "HEnMHdtItJKk",
        "colab_type": "code",
        "outputId": "4a5cfdc3-3444-4773-8dcd-6d774e3e1b51",
        "colab": {
          "base_uri": "https://localhost:8080/",
          "height": 833
        }
      },
      "cell_type": "code",
      "source": [
        "#feature selection\n",
        "\n",
        "# Now we can find log probabilities of different features for both the classes\n",
        "class_features = bnb.feature_log_prob_\n",
        "\n",
        "#  row_0 is for 'negative' class and row_1 is for 'positive' class\n",
        "negative_features = class_features[0]\n",
        "positive_features = class_features[1]\n",
        "\n",
        "# Getting all feature names\n",
        "feature_names = count_vect.get_feature_names()\n",
        "\n",
        "# Sorting 'negative_features' and 'positive_features' in descending order using argsort() function\n",
        "sorted_negative_features = np.argsort(negative_features)[::-1]\n",
        "sorted_positive_features = np.argsort(positive_features)[::-1]\n",
        "\n",
        "print(\"Top 20 Important Features and their log probabilities For Negative Class :\\n\\n\")\n",
        "for i in list(sorted_negative_features[0:20]):\n",
        "    print(\"%s\\t -->\\t%f  \"%(feature_names[i],negative_features[i]))\n",
        "    \n",
        "print(\"\\n\\nTop 20 Important Features and their log probabilities For Positive Class :\\n\\n\")\n",
        "for i in list(sorted_positive_features[0:20]):\n",
        "    print(\"%s\\t -->\\t%f  \"%(feature_names[i],positive_features[i]))"
      ],
      "execution_count": 0,
      "outputs": [
        {
          "output_type": "stream",
          "text": [
            "Top 20 Important Features and their log probabilities For Negative Class :\n",
            "\n",
            "\n",
            "like\t -->\t-0.993329  \n",
            "tast\t -->\t-0.994179  \n",
            "product\t -->\t-1.227681  \n",
            "one\t -->\t-1.338243  \n",
            "would\t -->\t-1.425254  \n",
            "tri\t -->\t-1.458502  \n",
            "good\t -->\t-1.513395  \n",
            "flavor\t -->\t-1.522724  \n",
            "buy\t -->\t-1.606137  \n",
            "get\t -->\t-1.684352  \n",
            "use\t -->\t-1.738325  \n",
            "dont\t -->\t-1.742807  \n",
            "even\t -->\t-1.821278  \n",
            "much\t -->\t-1.880324  \n",
            "order\t -->\t-1.893816  \n",
            "eat\t -->\t-1.961913  \n",
            "make\t -->\t-1.986829  \n",
            "love\t -->\t-1.986829  \n",
            "realli\t -->\t-2.014738  \n",
            "amazon\t -->\t-2.028990  \n",
            "\n",
            "\n",
            "Top 20 Important Features and their log probabilities For Positive Class :\n",
            "\n",
            "\n",
            "like\t -->\t-1.158691  \n",
            "tast\t -->\t-1.226573  \n",
            "love\t -->\t-1.237235  \n",
            "good\t -->\t-1.260061  \n",
            "great\t -->\t-1.300803  \n",
            "flavor\t -->\t-1.403495  \n",
            "one\t -->\t-1.446373  \n",
            "tri\t -->\t-1.524196  \n",
            "use\t -->\t-1.599095  \n",
            "product\t -->\t-1.615431  \n",
            "get\t -->\t-1.679768  \n",
            "make\t -->\t-1.680354  \n",
            "buy\t -->\t-1.927471  \n",
            "time\t -->\t-1.946782  \n",
            "best\t -->\t-1.961612  \n",
            "would\t -->\t-1.965500  \n",
            "amazon\t -->\t-1.967059  \n",
            "realli\t -->\t-1.973714  \n",
            "eat\t -->\t-1.980018  \n",
            "find\t -->\t-2.000584  \n"
          ],
          "name": "stdout"
        }
      ]
    },
    {
      "metadata": {
        "id": "k2nyhHKBtqnq",
        "colab_type": "code",
        "outputId": "beca4d6d-0db6-4242-d148-8d683365a66f",
        "colab": {
          "base_uri": "https://localhost:8080/",
          "height": 119
        }
      },
      "cell_type": "code",
      "source": [
        "# evaluate precision\n",
        "acc = precision_score(y_test, y_test_pred, pos_label = 1) \n",
        "print('\\nThe Test Precision for alpha (%.3f) is %f' % (optimal_alpha, acc))\n",
        "\n",
        "# evaluate recall\n",
        "acc = recall_score(y_test, y_test_pred, pos_label = 1)\n",
        "print('\\nThe Test Recall for alpha (%.3f) is %f' % (optimal_alpha, acc))\n",
        "\n",
        "# evaluate f1-score\n",
        "acc = f1_score(y_test, y_test_pred, pos_label = 1)\n",
        "print('\\nThe Test F1-Score for alpha (%.3f) is %f' % (optimal_alpha, acc))"
      ],
      "execution_count": 0,
      "outputs": [
        {
          "output_type": "stream",
          "text": [
            "\n",
            "The Test Precision for alpha (0.009) is 0.913296\n",
            "\n",
            "The Test Recall for alpha (0.009) is 0.944753\n",
            "\n",
            "The Test F1-Score for alpha (0.009) is 0.928758\n"
          ],
          "name": "stdout"
        }
      ]
    },
    {
      "metadata": {
        "id": "THnsriRgBoDM",
        "colab_type": "code",
        "outputId": "a2663ae3-db0c-49ea-a813-0843fc36fbe9",
        "colab": {
          "base_uri": "https://localhost:8080/",
          "height": 119
        }
      },
      "cell_type": "code",
      "source": [
        "#evaluating confusion matrix for train and test\n",
        "from sklearn.metrics import confusion_matrix\n",
        "print(\"Train confusion matrix\")\n",
        "print(confusion_matrix(y_train, bnb.predict(bow_x_train)))\n",
        "print(\"Test confusion matrix\")\n",
        "print(confusion_matrix(y_test, bnb.predict(bow_x_test)))"
      ],
      "execution_count": 0,
      "outputs": [
        {
          "output_type": "stream",
          "text": [
            "Train confusion matrix\n",
            "[[ 4720  1639]\n",
            " [ 1235 35414]]\n",
            "Test confusion matrix\n",
            "[[ 2604  1953]\n",
            " [ 1203 20572]]\n"
          ],
          "name": "stdout"
        }
      ]
    },
    {
      "metadata": {
        "id": "wGt1ugdKMtQI",
        "colab_type": "text"
      },
      "cell_type": "markdown",
      "source": [
        "####Observation : \n",
        "1. Hyperparameter (alpha) = 0.009\n",
        "2. Train Accuracy = 0.9331752232142857\n",
        "3. Test Accuracy = 0.8801458301686161\n",
        "4. Test Precision = 0.913296\n",
        "5. Test Recall = 0.944753\n",
        "6. F1-Score = 0.928758"
      ]
    },
    {
      "metadata": {
        "id": "kqaCoElIptO3",
        "colab_type": "text"
      },
      "cell_type": "markdown",
      "source": [
        "###4.2. on TF-IDF"
      ]
    },
    {
      "metadata": {
        "id": "CviUH_2i7Qbv",
        "colab_type": "code",
        "outputId": "3dbce162-833d-411a-acb6-7333086a68fb",
        "colab": {
          "base_uri": "https://localhost:8080/",
          "height": 34
        }
      },
      "cell_type": "code",
      "source": [
        "#coveting text to vectors using tf-idf \n",
        "\n",
        "tf_idf_vect = TfidfVectorizer(ngram_range=(1,2))\n",
        "\n",
        "#converting train data to vectors using tf-idf\n",
        "tf_idf_x_train = tf_idf_vect.fit_transform(x_train)\n",
        "tf_idf_x_train.shape"
      ],
      "execution_count": 0,
      "outputs": [
        {
          "output_type": "execute_result",
          "data": {
            "text/plain": [
              "(43008, 674017)"
            ]
          },
          "metadata": {
            "tags": []
          },
          "execution_count": 58
        }
      ]
    },
    {
      "metadata": {
        "id": "iKZlVQyvqGIE",
        "colab_type": "code",
        "outputId": "b1e1e3a1-a72d-4966-866e-7f28d657425e",
        "colab": {
          "base_uri": "https://localhost:8080/",
          "height": 34
        }
      },
      "cell_type": "code",
      "source": [
        "#converting test data to vectors using tf-idf\n",
        "tf_idf_x_test = tf_idf_vect.transform(x_test)\n",
        "tf_idf_x_test.shape"
      ],
      "execution_count": 0,
      "outputs": [
        {
          "output_type": "execute_result",
          "data": {
            "text/plain": [
              "(26332, 674017)"
            ]
          },
          "metadata": {
            "tags": []
          },
          "execution_count": 59
        }
      ]
    },
    {
      "metadata": {
        "id": "dRgGBM1rr79F",
        "colab_type": "code",
        "outputId": "a26fbfe7-2f2d-4e2e-a4b4-3ed41a668577",
        "colab": {
          "base_uri": "https://localhost:8080/",
          "height": 34
        }
      },
      "cell_type": "code",
      "source": [
        "#converting cross validate data to vectors using tf-idf\n",
        "tf_idf_x_cv = tf_idf_vect.transform(x_cv)\n",
        "tf_idf_x_cv.shape"
      ],
      "execution_count": 0,
      "outputs": [
        {
          "output_type": "execute_result",
          "data": {
            "text/plain": [
              "(18433, 674017)"
            ]
          },
          "metadata": {
            "tags": []
          },
          "execution_count": 60
        }
      ]
    },
    {
      "metadata": {
        "id": "EdilP_Dar-cz",
        "colab_type": "code",
        "outputId": "cd92fb37-e7a3-484b-f7fd-575357f40854",
        "colab": {
          "base_uri": "https://localhost:8080/",
          "height": 313
        }
      },
      "cell_type": "code",
      "source": [
        "#taking alpha values from 10^-3 to 10^3\n",
        "alpha_values = []\n",
        "i = 0.001\n",
        "while(i<=1000):\n",
        "    alpha_values.append(np.round(i,3))\n",
        "    i *= 3\n",
        "    \n",
        "cv_scores = [] #list to keep cross validate score\n",
        "for k in tqdm(alpha_values):\n",
        "    bnb = BernoulliNB(alpha=k)\n",
        "    scores = cross_val_score(bnb, tf_idf_x_train, y_train, cv=10, scoring='accuracy', n_jobs=-1) #cv = 10 to perform 10 fold cross validation \n",
        "    cv_scores.append(scores.mean())\n",
        "\n",
        "#calculating Mssclassification error    \n",
        "error = [1 - x for x in cv_scores]\n",
        "\n",
        "#determing optimal alpha with least missclassification error value\n",
        "optimal_alpha = alpha_values[error.index(min(error))]\n",
        "print(optimal_alpha)\n",
        "\n",
        "#graph between missclassification error and hyperparameter values \n",
        "plt.plot(alpha_values, error)\n",
        "xy = (optimal_alpha, min(error))\n",
        "plt.annotate('(%s, %s)' % xy, xy = xy, textcoords='data')\n",
        "plt.xlabel(\"Number of neighbours 'k'\")\n",
        "plt.ylabel(\"Misclassification Error\")\n",
        "plt.show()"
      ],
      "execution_count": 0,
      "outputs": [
        {
          "output_type": "stream",
          "text": [
            "100%|██████████| 13/13 [00:31<00:00,  2.44s/it]\n"
          ],
          "name": "stderr"
        },
        {
          "output_type": "stream",
          "text": [
            "0.001\n"
          ],
          "name": "stdout"
        },
        {
          "output_type": "display_data",
          "data": {
            "image/png": "[encoded data removed]",
            "text/plain": [
              "<Figure size 432x288 with 1 Axes>"
            ]
          },
          "metadata": {
            "tags": []
          }
        }
      ]
    },
    {
      "metadata": {
        "id": "NMDVjyoNsn61",
        "colab_type": "code",
        "outputId": "04691c39-f901-46b8-f8e2-56bcf063f0a4",
        "colab": {
          "base_uri": "https://localhost:8080/",
          "height": 119
        }
      },
      "cell_type": "code",
      "source": [
        "#applying Bernoulli Naive Bayes on the optimal alpha calculated (0.001)\n",
        "\n",
        "#initiate model\n",
        "bnb = BernoulliNB(alpha = optimal_alpha)\n",
        "\n",
        "#fit model\n",
        "bnb.fit(tf_idf_x_train, y_train)\n",
        "\n",
        "#predicting values for test data\n",
        "y_test_pred =  bnb.predict(tf_idf_x_test)\n",
        "\n",
        "#calculating accuracy of model\n",
        "train_acc = bnb.score(tf_idf_x_train, y_train) #train accuracy\n",
        "train_error = 1 - train_acc #train error\n",
        "test_acc = accuracy_score(y_test, y_test_pred) #test accuracy\n",
        "test_error = 1 - test_acc #test error\n",
        "\n",
        "print(\"_\" * 101)\n",
        "print(\"Training Accuracy: \", train_acc)\n",
        "print(\"Train Error: \", train_error)\n",
        "print(\"Test Accuracy: \", test_acc)\n",
        "print(\"Test Error: \", test_error)\n",
        "print(\"_\" * 101)"
      ],
      "execution_count": 0,
      "outputs": [
        {
          "output_type": "stream",
          "text": [
            "_____________________________________________________________________________________________________\n",
            "Training Accuracy:  0.9987444196428571\n",
            "Train Error:  0.0012555803571429047\n",
            "Test Accuracy:  0.8633981467416072\n",
            "Test Error:  0.1366018532583928\n",
            "_____________________________________________________________________________________________________\n"
          ],
          "name": "stdout"
        }
      ]
    },
    {
      "metadata": {
        "id": "GZ9UmKMrt6cP",
        "colab_type": "code",
        "outputId": "f63d4993-5367-42a5-eb77-df30d9fe11ab",
        "colab": {
          "base_uri": "https://localhost:8080/",
          "height": 833
        }
      },
      "cell_type": "code",
      "source": [
        "#feature selection\n",
        "\n",
        "# Now we can find log probabilities of different features for both the classes\n",
        "class_features = bnb.feature_log_prob_\n",
        "\n",
        "#  row_0 is for 'negative' class and row_1 is for 'positive' class\n",
        "negative_features = class_features[0]\n",
        "positive_features = class_features[1]\n",
        "\n",
        "# Getting all feature names\n",
        "feature_names = tf_idf_vect.get_feature_names()\n",
        "\n",
        "# Sorting 'negative_features' and 'positive_features' in descending order using argsort() function\n",
        "sorted_negative_features = np.argsort(negative_features)[::-1]\n",
        "sorted_positive_features = np.argsort(positive_features)[::-1]\n",
        "\n",
        "print(\"Top 20 Important Features and their log probabilities For Negative Class :\\n\\n\")\n",
        "for i in list(sorted_negative_features[0:20]):\n",
        "    print(\"%s\\t -->\\t%f  \"%(feature_names[i],negative_features[i]))\n",
        "    \n",
        "print(\"\\n\\nTop 20 Important Features and their log probabilities For Positive Class :\\n\\n\")\n",
        "for i in list(sorted_positive_features[0:20]):\n",
        "    print(\"%s\\t -->\\t%f  \"%(feature_names[i],positive_features[i]))"
      ],
      "execution_count": 0,
      "outputs": [
        {
          "output_type": "stream",
          "text": [
            "Top 20 Important Features and their log probabilities For Negative Class :\n",
            "\n",
            "\n",
            "like\t -->\t-0.993330  \n",
            "tast\t -->\t-0.994180  \n",
            "product\t -->\t-1.227683  \n",
            "one\t -->\t-1.338246  \n",
            "would\t -->\t-1.425257  \n",
            "tri\t -->\t-1.458505  \n",
            "good\t -->\t-1.513398  \n",
            "flavor\t -->\t-1.522728  \n",
            "buy\t -->\t-1.606140  \n",
            "get\t -->\t-1.684356  \n",
            "use\t -->\t-1.738329  \n",
            "dont\t -->\t-1.742811  \n",
            "even\t -->\t-1.821283  \n",
            "much\t -->\t-1.880330  \n",
            "order\t -->\t-1.893822  \n",
            "eat\t -->\t-1.961920  \n",
            "love\t -->\t-1.986836  \n",
            "make\t -->\t-1.986836  \n",
            "realli\t -->\t-2.014745  \n",
            "time\t -->\t-2.028997  \n",
            "\n",
            "\n",
            "Top 20 Important Features and their log probabilities For Positive Class :\n",
            "\n",
            "\n",
            "like\t -->\t-1.158691  \n",
            "tast\t -->\t-1.226573  \n",
            "love\t -->\t-1.237236  \n",
            "good\t -->\t-1.260061  \n",
            "great\t -->\t-1.300803  \n",
            "flavor\t -->\t-1.403495  \n",
            "one\t -->\t-1.446373  \n",
            "tri\t -->\t-1.524197  \n",
            "use\t -->\t-1.599096  \n",
            "product\t -->\t-1.615431  \n",
            "get\t -->\t-1.679769  \n",
            "make\t -->\t-1.680354  \n",
            "buy\t -->\t-1.927472  \n",
            "time\t -->\t-1.946784  \n",
            "best\t -->\t-1.961613  \n",
            "would\t -->\t-1.965501  \n",
            "amazon\t -->\t-1.967060  \n",
            "realli\t -->\t-1.973715  \n",
            "eat\t -->\t-1.980020  \n",
            "find\t -->\t-2.000585  \n"
          ],
          "name": "stdout"
        }
      ]
    },
    {
      "metadata": {
        "id": "6ZGzSkQtuACF",
        "colab_type": "code",
        "outputId": "afb1fec3-d588-4ad3-9a28-4b066b5976cc",
        "colab": {
          "base_uri": "https://localhost:8080/",
          "height": 119
        }
      },
      "cell_type": "code",
      "source": [
        "# evaluate precision\n",
        "acc = precision_score(y_test, y_test_pred, pos_label = 1) \n",
        "print('\\nThe Test Precision for alpha (%.3f) is %f' % (optimal_alpha, acc))\n",
        "\n",
        "# evaluate recall\n",
        "acc = recall_score(y_test, y_test_pred, pos_label = 1)\n",
        "print('\\nThe Test Recall for alpha (%.3f) is %f' % (optimal_alpha, acc))\n",
        "\n",
        "# evaluate f1-score\n",
        "acc = f1_score(y_test, y_test_pred, pos_label = 1)\n",
        "print('\\nThe Test F1-Score for alpha (%.3f) is %f' % (optimal_alpha, acc))"
      ],
      "execution_count": 0,
      "outputs": [
        {
          "output_type": "stream",
          "text": [
            "\n",
            "The Test Precision for alpha (0.001) is 0.861881\n",
            "\n",
            "The Test Recall for alpha (0.001) is 0.994122\n",
            "\n",
            "The Test F1-Score for alpha (0.001) is 0.923290\n"
          ],
          "name": "stdout"
        }
      ]
    },
    {
      "metadata": {
        "id": "y-9hptCCJSxQ",
        "colab_type": "code",
        "outputId": "ed8f5ea0-4f71-448f-f206-eadb8ac577d0",
        "colab": {
          "base_uri": "https://localhost:8080/",
          "height": 119
        }
      },
      "cell_type": "code",
      "source": [
        "#evaluating confusion matrix for train and test\n",
        "from sklearn.metrics import confusion_matrix\n",
        "print(\"Train confusion matrix\")\n",
        "print(confusion_matrix(y_train, bnb.predict(tf_idf_x_train)))\n",
        "print(\"Test confusion matrix\")\n",
        "print(confusion_matrix(y_test, bnb.predict(tf_idf_x_test)))"
      ],
      "execution_count": 0,
      "outputs": [
        {
          "output_type": "stream",
          "text": [
            "Train confusion matrix\n",
            "[[ 6309    50]\n",
            " [    4 36645]]\n",
            "Test confusion matrix\n",
            "[[ 1088  3469]\n",
            " [  128 21647]]\n"
          ],
          "name": "stdout"
        }
      ]
    },
    {
      "metadata": {
        "id": "cvkDxx7rN2vi",
        "colab_type": "text"
      },
      "cell_type": "markdown",
      "source": [
        "####Observation : \n",
        "1. Hyperparameter (alpha) = 0.001\n",
        "2. Train Accuracy = 0.9987444196428571\n",
        "3. Test Accuracy = 0.8633981467416072\n",
        "4. Test Precision = 0.861881\n",
        "5. Test Recall = 0.994122\n",
        "6. F1-Score = 0.923290"
      ]
    },
    {
      "metadata": {
        "id": "jwYYqP2Xl75k",
        "colab_type": "text"
      },
      "cell_type": "markdown",
      "source": [
        "##5. Applying Multinomial Naive Bayes\n",
        "\n",
        "###5.1. on Bag of Words"
      ]
    },
    {
      "metadata": {
        "id": "tMQLBx_14VPQ",
        "colab_type": "code",
        "outputId": "ebac4f93-2deb-446f-d4f8-db2d58befaec",
        "colab": {
          "base_uri": "https://localhost:8080/",
          "height": 317
        }
      },
      "cell_type": "code",
      "source": [
        "from sklearn.naive_bayes import MultinomialNB\n",
        "\n",
        "#taking alpha values from 10^-3 to 10^3\n",
        "alpha_values = []\n",
        "i = 0.001\n",
        "while(i<=1000):\n",
        "    alpha_values.append(np.round(i,3))\n",
        "    i *= 3\n",
        "    \n",
        "cv_scores = [] #list to keep cross validate score\n",
        "for k in tqdm(alpha_values):\n",
        "    bnb = MultinomialNB(alpha=k)\n",
        "    scores = cross_val_score(bnb, bow_x_train, y_train, cv=10, scoring='accuracy', n_jobs=-1) #cv = 10 to perform 10 fold cross validation \n",
        "    cv_scores.append(scores.mean())\n",
        "\n",
        "#calculating Mssclassification error    \n",
        "error = [1 - x for x in cv_scores]\n",
        "\n",
        "#determing optimal alpha with least missclassification error value\n",
        "optimal_alpha = alpha_values[error.index(min(error))]\n",
        "print(optimal_alpha)\n",
        "\n",
        "#graph between missclassification error and hyperparameter values \n",
        "plt.plot(alpha_values, error)\n",
        "xy = (optimal_alpha, min(error))\n",
        "plt.annotate('(%s, %s)' % xy, xy = xy, textcoords='data')\n",
        "plt.xlabel(\"Number of neighbours 'k'\")\n",
        "plt.ylabel(\"Misclassification Error\")\n",
        "plt.show()\n",
        "    "
      ],
      "execution_count": 0,
      "outputs": [
        {
          "output_type": "stream",
          "text": [
            "100%|██████████| 13/13 [00:05<00:00,  2.44it/s]\n"
          ],
          "name": "stderr"
        },
        {
          "output_type": "stream",
          "text": [
            "2.187\n"
          ],
          "name": "stdout"
        },
        {
          "output_type": "display_data",
          "data": {
            "image/png": "[encoded data removed]",
            "text/plain": [
              "<Figure size 432x288 with 1 Axes>"
            ]
          },
          "metadata": {
            "tags": []
          }
        }
      ]
    },
    {
      "metadata": {
        "id": "5P3DvFI7mgZx",
        "colab_type": "code",
        "outputId": "38a6fbad-8e01-4ce4-d2ae-310eb669c7ef",
        "colab": {
          "base_uri": "https://localhost:8080/",
          "height": 119
        }
      },
      "cell_type": "code",
      "source": [
        "#applying Bernoulli Naive Bayes on the optimal alpha calculated (2.187)\n",
        "\n",
        "#initiate model\n",
        "bnb = MultinomialNB(alpha = optimal_alpha)\n",
        "\n",
        "#fit model\n",
        "bnb.fit(bow_x_train, y_train)\n",
        "\n",
        "#predicting values for test data\n",
        "y_test_pred =  bnb.predict(bow_x_test)\n",
        "\n",
        "#calculating accuracy of model\n",
        "train_acc = bnb.score(bow_x_train, y_train) #train accuracy\n",
        "train_error = 1 - train_acc #train error\n",
        "test_acc = accuracy_score(y_test, y_test_pred) #test accuracy\n",
        "test_error = 1 - test_acc #test error\n",
        "\n",
        "print(\"_\" * 101)\n",
        "print(\"Training Accuracy: \", train_acc)\n",
        "print(\"Train Error: \", train_error)\n",
        "print(\"Test Accuracy: \", test_acc)\n",
        "print(\"Test Error: \", test_error)\n",
        "print(\"_\" * 101)"
      ],
      "execution_count": 0,
      "outputs": [
        {
          "output_type": "stream",
          "text": [
            "_____________________________________________________________________________________________________\n",
            "Training Accuracy:  0.9144577752976191\n",
            "Train Error:  0.08554222470238093\n",
            "Test Accuracy:  0.8888424730366095\n",
            "Test Error:  0.11115752696339054\n",
            "_____________________________________________________________________________________________________\n"
          ],
          "name": "stdout"
        }
      ]
    },
    {
      "metadata": {
        "id": "uvhtYwHxmrJg",
        "colab_type": "code",
        "outputId": "dbfb0774-166d-4b30-9d27-08886291ab92",
        "colab": {
          "base_uri": "https://localhost:8080/",
          "height": 833
        }
      },
      "cell_type": "code",
      "source": [
        "# Now we can find log probabilities of different features for both the classes\n",
        "class_features = bnb.feature_log_prob_\n",
        "\n",
        "#  row_0 is for 'negative' class and row_1 is for 'positive' class\n",
        "negative_features = class_features[0]\n",
        "positive_features = class_features[1]\n",
        "\n",
        "# Getting all feature names\n",
        "feature_names = count_vect.get_feature_names()\n",
        "\n",
        "# Sorting 'negative_features' and 'positive_features' in descending order using argsort() function\n",
        "sorted_negative_features = np.argsort(negative_features)[::-1]\n",
        "sorted_positive_features = np.argsort(positive_features)[::-1]\n",
        "\n",
        "print(\"Top 20 Important Features and their log probabilities For Negative Class :\\n\\n\")\n",
        "for i in list(sorted_negative_features[0:20]):\n",
        "    print(\"%s\\t -->\\t%f  \"%(feature_names[i],negative_features[i]))\n",
        "    \n",
        "print(\"\\n\\nTop 20 Important Features and their log probabilities For Positive Class :\\n\\n\")\n",
        "for i in list(sorted_positive_features[0:20]):\n",
        "    print(\"%s\\t -->\\t%f  \"%(feature_names[i],positive_features[i]))"
      ],
      "execution_count": 0,
      "outputs": [
        {
          "output_type": "stream",
          "text": [
            "Top 20 Important Features and their log probabilities For Negative Class :\n",
            "\n",
            "\n",
            "tast\t -->\t-4.403103  \n",
            "like\t -->\t-4.461006  \n",
            "product\t -->\t-4.662734  \n",
            "one\t -->\t-4.885442  \n",
            "flavor\t -->\t-4.960417  \n",
            "tri\t -->\t-5.073391  \n",
            "would\t -->\t-5.081022  \n",
            "good\t -->\t-5.203079  \n",
            "use\t -->\t-5.302484  \n",
            "food\t -->\t-5.303759  \n",
            "buy\t -->\t-5.329614  \n",
            "get\t -->\t-5.369013  \n",
            "coffe\t -->\t-5.369013  \n",
            "order\t -->\t-5.450579  \n",
            "dont\t -->\t-5.473754  \n",
            "tea\t -->\t-5.481346  \n",
            "dog\t -->\t-5.492073  \n",
            "even\t -->\t-5.524165  \n",
            "eat\t -->\t-5.548317  \n",
            "much\t -->\t-5.580613  \n",
            "\n",
            "\n",
            "Top 20 Important Features and their log probabilities For Positive Class :\n",
            "\n",
            "\n",
            "like\t -->\t-4.432665  \n",
            "tast\t -->\t-4.562481  \n",
            "good\t -->\t-4.652056  \n",
            "flavor\t -->\t-4.687535  \n",
            "love\t -->\t-4.692107  \n",
            "great\t -->\t-4.757440  \n",
            "one\t -->\t-4.798893  \n",
            "tea\t -->\t-4.857972  \n",
            "use\t -->\t-4.902497  \n",
            "tri\t -->\t-4.938976  \n",
            "product\t -->\t-4.962320  \n",
            "food\t -->\t-5.081653  \n",
            "get\t -->\t-5.101583  \n",
            "make\t -->\t-5.101814  \n",
            "coffe\t -->\t-5.135393  \n",
            "eat\t -->\t-5.348350  \n",
            "dog\t -->\t-5.357817  \n",
            "would\t -->\t-5.409829  \n",
            "buy\t -->\t-5.429274  \n",
            "time\t -->\t-5.429594  \n"
          ],
          "name": "stdout"
        }
      ]
    },
    {
      "metadata": {
        "id": "YFTPAbG1mzYH",
        "colab_type": "code",
        "outputId": "55687853-b211-4402-86a3-35f159ba8c2c",
        "colab": {
          "base_uri": "https://localhost:8080/",
          "height": 119
        }
      },
      "cell_type": "code",
      "source": [
        "# evaluate precision\n",
        "acc = precision_score(y_test, y_test_pred, pos_label = 1) \n",
        "print('\\nThe Test Precision for alpha (%.3f) is %f' % (optimal_alpha, acc))\n",
        "\n",
        "# evaluate recall\n",
        "acc = recall_score(y_test, y_test_pred, pos_label = 1)\n",
        "print('\\nThe Test Recall for alpha (%.3f) is %f' % (optimal_alpha, acc))\n",
        "\n",
        "# evaluate f1-score\n",
        "acc = f1_score(y_test, y_test_pred, pos_label = 1)\n",
        "print('\\nThe Test F1-Score alpha (%.3f) is %f' % (optimal_alpha, acc))"
      ],
      "execution_count": 0,
      "outputs": [
        {
          "output_type": "stream",
          "text": [
            "\n",
            "The Test Precision for alpha (2.187) is 0.897436\n",
            "\n",
            "The Test Recall for alpha (2.187) is 0.977268\n",
            "\n",
            "The Test F1-Score alpha (2.187) is 0.935652\n"
          ],
          "name": "stdout"
        }
      ]
    },
    {
      "metadata": {
        "id": "9LVTx50Wm53p",
        "colab_type": "code",
        "outputId": "50c50f87-3576-4e2a-bd39-4108d36a19b8",
        "colab": {
          "base_uri": "https://localhost:8080/",
          "height": 119
        }
      },
      "cell_type": "code",
      "source": [
        "#evaluating confusion matrix for train and test\n",
        "from sklearn.metrics import confusion_matrix\n",
        "print(\"Train confusion matrix\")\n",
        "print(confusion_matrix(y_train, bnb.predict(bow_x_train)))\n",
        "print(\"Test confusion matrix\")\n",
        "print(confusion_matrix(y_test, bnb.predict(bow_x_test)))"
      ],
      "execution_count": 0,
      "outputs": [
        {
          "output_type": "stream",
          "text": [
            "Train confusion matrix\n",
            "[[ 3463  2896]\n",
            " [  783 35866]]\n",
            "Test confusion matrix\n",
            "[[ 2125  2432]\n",
            " [  495 21280]]\n"
          ],
          "name": "stdout"
        }
      ]
    },
    {
      "metadata": {
        "id": "QNgt-U3QOQaO",
        "colab_type": "text"
      },
      "cell_type": "markdown",
      "source": [
        "####Observation : \n",
        "1. Hyperparameter (alpha) = 2.187\n",
        "2. Train Accuracy =0.9144577752976191\n",
        "3. Test Accuracy = 0.8888424730366095\n",
        "4. Test Precision = 0.897436\n",
        "5. Test Recall = 0.977268\n",
        "6. F1-Score = 0.935652"
      ]
    },
    {
      "metadata": {
        "id": "V508zifpncTE",
        "colab_type": "text"
      },
      "cell_type": "markdown",
      "source": [
        "###5.2. on TF-IDF"
      ]
    },
    {
      "metadata": {
        "id": "YhnudmzOm_6x",
        "colab_type": "code",
        "outputId": "a271bc83-e2ca-43f9-c548-711a70ba5baa",
        "colab": {
          "base_uri": "https://localhost:8080/",
          "height": 318
        }
      },
      "cell_type": "code",
      "source": [
        "#taking alpha values from 10^-3 to 10^3\n",
        "alpha_values = []\n",
        "i = 0.001\n",
        "while(i<=1000):\n",
        "    alpha_values.append(np.round(i,3))\n",
        "    i *= 3\n",
        "    \n",
        "cv_scores = [] #list to keep cross validate score\n",
        "for k in tqdm(alpha_values):\n",
        "    bnb = MultinomialNB(alpha=k)\n",
        "    scores = cross_val_score(bnb, tf_idf_x_train, y_train, cv=10, scoring='accuracy', n_jobs=-1) #cv = 10 to perform 10 fold cross validation \n",
        "    cv_scores.append(scores.mean())\n",
        "\n",
        "#calculating Mssclassification error    \n",
        "error = [1 - x for x in cv_scores]\n",
        "\n",
        "#determing optimal alpha with least missclassification error value\n",
        "optimal_alpha = alpha_values[error.index(min(error))]\n",
        "print(optimal_alpha)\n",
        "\n",
        "#graph between missclassification error and hyperparameter values \n",
        "plt.plot(alpha_values, error)\n",
        "xy = (optimal_alpha, min(error))\n",
        "plt.annotate('(%s, %s)' % xy, xy = xy, textcoords='data')\n",
        "plt.xlabel(\"Number of neighbours 'k'\")\n",
        "plt.ylabel(\"Misclassification Error\")\n",
        "plt.show()"
      ],
      "execution_count": 0,
      "outputs": [
        {
          "output_type": "stream",
          "text": [
            "100%|██████████| 13/13 [00:23<00:00,  1.78s/it]\n"
          ],
          "name": "stderr"
        },
        {
          "output_type": "stream",
          "text": [
            "0.081\n"
          ],
          "name": "stdout"
        },
        {
          "output_type": "display_data",
          "data": {
            "image/png": "[encoded data removed]",
            "text/plain": [
              "<Figure size 432x288 with 1 Axes>"
            ]
          },
          "metadata": {
            "tags": []
          }
        }
      ]
    },
    {
      "metadata": {
        "id": "8xHnAU_4nuYD",
        "colab_type": "code",
        "outputId": "f28668ad-77ec-42b2-e8cc-c768f7a4ec20",
        "colab": {
          "base_uri": "https://localhost:8080/",
          "height": 119
        }
      },
      "cell_type": "code",
      "source": [
        "#applying Bernoulli Naive Bayes on the optimal alpha calculated (0.081)\n",
        "\n",
        "#initiate model\n",
        "bnb = MultinomialNB(alpha = optimal_alpha)\n",
        "\n",
        "#fit model\n",
        "bnb.fit(tf_idf_x_train, y_train)\n",
        "\n",
        "#predicting values for test data\n",
        "y_test_pred =  bnb.predict(tf_idf_x_test)\n",
        "\n",
        "#calculating accuracy of model\n",
        "train_acc = bnb.score(tf_idf_x_train, y_train) #train accuracy\n",
        "train_error = 1 - train_acc #train error\n",
        "test_acc = accuracy_score(y_test, y_test_pred) #test accuracy\n",
        "test_error = 1 - test_acc #test error\n",
        "\n",
        "print(\"_\" * 101)\n",
        "print(\"Training Accuracy: \", train_acc)\n",
        "print(\"Train Error: \", train_error)\n",
        "print(\"Test Accuracy: \", test_acc)\n",
        "print(\"Test Error: \", test_error)\n",
        "print(\"_\" * 101)"
      ],
      "execution_count": 0,
      "outputs": [
        {
          "output_type": "stream",
          "text": [
            "_____________________________________________________________________________________________________\n",
            "Training Accuracy:  0.9918852306547619\n",
            "Train Error:  0.008114769345238138\n",
            "Test Accuracy:  0.8433085219504785\n",
            "Test Error:  0.15669147804952155\n",
            "_____________________________________________________________________________________________________\n"
          ],
          "name": "stdout"
        }
      ]
    },
    {
      "metadata": {
        "id": "DIswRRuHoBJe",
        "colab_type": "code",
        "outputId": "fa6233e7-6770-45a0-9697-e77412ed57b5",
        "colab": {
          "base_uri": "https://localhost:8080/",
          "height": 833
        }
      },
      "cell_type": "code",
      "source": [
        "# Now we can find log probabilities of different features for both the classes\n",
        "class_features = bnb.feature_log_prob_\n",
        "\n",
        "#  row_0 is for 'negative' class and row_1 is for 'positive' class\n",
        "negative_features = class_features[0]\n",
        "positive_features = class_features[1]\n",
        "\n",
        "# Getting all feature names\n",
        "feature_names = tf_idf_vect.get_feature_names()\n",
        "\n",
        "# Sorting 'negative_features' and 'positive_features' in descending order using argsort() function\n",
        "sorted_negative_features = np.argsort(negative_features)[::-1]\n",
        "sorted_positive_features = np.argsort(positive_features)[::-1]\n",
        "\n",
        "print(\"Top 20 Important Features and their log probabilities For Negative Class :\\n\\n\")\n",
        "for i in list(sorted_negative_features[0:20]):\n",
        "    print(\"%s\\t -->\\t%f  \"%(feature_names[i],negative_features[i]))\n",
        "    \n",
        "print(\"\\n\\nTop 20 Important Features and their log probabilities For Positive Class :\\n\\n\")\n",
        "for i in list(sorted_positive_features[0:20]):\n",
        "    print(\"%s\\t -->\\t%f  \"%(feature_names[i],positive_features[i]))"
      ],
      "execution_count": 0,
      "outputs": [
        {
          "output_type": "stream",
          "text": [
            "Top 20 Important Features and their log probabilities For Negative Class :\n",
            "\n",
            "\n",
            "tast\t -->\t-6.706301  \n",
            "like\t -->\t-6.832726  \n",
            "product\t -->\t-6.888743  \n",
            "flavor\t -->\t-7.190229  \n",
            "would\t -->\t-7.191447  \n",
            "one\t -->\t-7.211831  \n",
            "coffe\t -->\t-7.227719  \n",
            "tri\t -->\t-7.322998  \n",
            "buy\t -->\t-7.351409  \n",
            "order\t -->\t-7.380114  \n",
            "box\t -->\t-7.474927  \n",
            "good\t -->\t-7.495073  \n",
            "tea\t -->\t-7.511908  \n",
            "dont\t -->\t-7.515440  \n",
            "dog\t -->\t-7.517353  \n",
            "food\t -->\t-7.524783  \n",
            "get\t -->\t-7.556695  \n",
            "even\t -->\t-7.600037  \n",
            "use\t -->\t-7.605432  \n",
            "disappoint\t -->\t-7.618333  \n",
            "\n",
            "\n",
            "Top 20 Important Features and their log probabilities For Positive Class :\n",
            "\n",
            "\n",
            "love\t -->\t-6.343956  \n",
            "tea\t -->\t-6.366774  \n",
            "great\t -->\t-6.367763  \n",
            "like\t -->\t-6.390321  \n",
            "good\t -->\t-6.412959  \n",
            "tast\t -->\t-6.425736  \n",
            "flavor\t -->\t-6.478522  \n",
            "coffe\t -->\t-6.562965  \n",
            "product\t -->\t-6.656564  \n",
            "one\t -->\t-6.663039  \n",
            "use\t -->\t-6.693179  \n",
            "tri\t -->\t-6.741379  \n",
            "dog\t -->\t-6.824744  \n",
            "make\t -->\t-6.826880  \n",
            "food\t -->\t-6.829414  \n",
            "get\t -->\t-6.858564  \n",
            "best\t -->\t-6.918483  \n",
            "price\t -->\t-6.972441  \n",
            "buy\t -->\t-6.981092  \n",
            "amazon\t -->\t-6.989335  \n"
          ],
          "name": "stdout"
        }
      ]
    },
    {
      "metadata": {
        "id": "4gYw1m5roFl9",
        "colab_type": "code",
        "outputId": "a722ad2b-1ba4-4ac1-d58b-92b67acd6371",
        "colab": {
          "base_uri": "https://localhost:8080/",
          "height": 119
        }
      },
      "cell_type": "code",
      "source": [
        "# evaluate precision\n",
        "acc = precision_score(y_test, y_test_pred, pos_label = 1) \n",
        "print('\\nThe Test Precision for alpha (%.3f) is %f' % (optimal_alpha, acc))\n",
        "\n",
        "# evaluate recall\n",
        "acc = recall_score(y_test, y_test_pred, pos_label = 1)\n",
        "print('\\nThe Test Recall for alpha (%.3f) is %f' % (optimal_alpha, acc))\n",
        "\n",
        "# evaluate f1-score\n",
        "acc = f1_score(y_test, y_test_pred, pos_label = 1)\n",
        "print('\\nThe Test F1-Score for alpha (%.3f) is %f' % (optimal_alpha, acc))"
      ],
      "execution_count": 0,
      "outputs": [
        {
          "output_type": "stream",
          "text": [
            "\n",
            "The Test Precision for alpha (0.081) is 0.840964\n",
            "\n",
            "The Test Recall for alpha (0.081) is 0.999541\n",
            "\n",
            "The Test F1-Score for alpha (0.081) is 0.913421\n"
          ],
          "name": "stdout"
        }
      ]
    },
    {
      "metadata": {
        "id": "TjFy9YzFoK0y",
        "colab_type": "code",
        "outputId": "491d149b-5c06-4acf-ee4a-e1f0fee97eac",
        "colab": {
          "base_uri": "https://localhost:8080/",
          "height": 119
        }
      },
      "cell_type": "code",
      "source": [
        "#evaluating confusion matrix for train and test\n",
        "from sklearn.metrics import confusion_matrix\n",
        "print(\"Train confusion matrix\")\n",
        "print(confusion_matrix(y_train, bnb.predict(tf_idf_x_train)))\n",
        "print(\"Test confusion matrix\")\n",
        "print(confusion_matrix(y_test, bnb.predict(tf_idf_x_test)))"
      ],
      "execution_count": 0,
      "outputs": [
        {
          "output_type": "stream",
          "text": [
            "Train confusion matrix\n",
            "[[ 6028   331]\n",
            " [   18 36631]]\n",
            "Test confusion matrix\n",
            "[[  441  4116]\n",
            " [   10 21765]]\n"
          ],
          "name": "stdout"
        }
      ]
    },
    {
      "metadata": {
        "id": "I7s1y5P-OxoG",
        "colab_type": "text"
      },
      "cell_type": "markdown",
      "source": [
        "####Observation : \n",
        "1. Hyperparameter (alpha) = 0.081\n",
        "2. Train Accuracy = 0.9918852306547619\n",
        "3. Test Accuracy = 0.8433085219504785\n",
        "4. Test Precision = 0.840964\n",
        "5. Test Recall = 0.999541\n",
        "6. F1-Score = 0.913421"
      ]
    },
    {
      "metadata": {
        "id": "5zHmx1mOL5U6",
        "colab_type": "text"
      },
      "cell_type": "markdown",
      "source": [
        "##6. Conclusion\n"
      ]
    },
    {
      "metadata": {
        "id": "cYbRiPF3Kwh9",
        "colab_type": "code",
        "colab": {}
      },
      "cell_type": "code",
      "source": [
        "!sudo pip3 install PTable"
      ],
      "execution_count": 0,
      "outputs": []
    },
    {
      "metadata": {
        "id": "cuUzlvkYL_cK",
        "colab_type": "code",
        "outputId": "60439cd2-5cfe-4624-827a-8981a4ed3b93",
        "colab": {
          "base_uri": "https://localhost:8080/",
          "height": 153
        }
      },
      "cell_type": "code",
      "source": [
        "from prettytable import PrettyTable\n",
        "    \n",
        "x = PrettyTable()\n",
        "\n",
        "x.field_names = [\"Model\", \"Hyperparameter (alpha)\", \"Train Accuracy\", \"Test Accuracy\", \"Test Precision\",\"Test Recall\",\"F1-Score\"]\n",
        "\n",
        "x.add_row([\"BOW (bernoulliNB)\", 0.009, 0.9331752232142857, 0.8801458301686161, 0.913296, 0.944753, 0.928758])\n",
        "x.add_row([\"TF-IDF (bernoulliNB)\", 0.001, 0.9987444196428571, 0.8633981467416072, 0.861881, 0.994122, 0.923290])\n",
        "x.add_row([\"BOW (MultinomialNB)\", 2.187, 0.9144577752976191, 0.8888424730366095, 0.897436, 0.977268, 0.935652])\n",
        "x.add_row([\"TF-IDF (MultinomialNB)\", 0.081, 0.9918852306547619, 0.8433085219504785, 0.840964, 0.999541, 0.913421])\n",
        "\n",
        "print(x)"
      ],
      "execution_count": 0,
      "outputs": [
        {
          "output_type": "stream",
          "text": [
            "+------------------------+------------------------+--------------------+--------------------+----------------+-------------+----------+\n",
            "|         Model          | Hyperparameter (alpha) |   Train Accuracy   |   Test Accuracy    | Test Precision | Test Recall | F1-Score |\n",
            "+------------------------+------------------------+--------------------+--------------------+----------------+-------------+----------+\n",
            "|   BOW (bernoulliNB)    |         0.009          | 0.9331752232142857 | 0.8801458301686161 |    0.913296    |   0.944753  | 0.928758 |\n",
            "|  TF-IDF (bernoulliNB)  |         0.001          | 0.9987444196428571 | 0.8633981467416072 |    0.861881    |   0.994122  | 0.92329  |\n",
            "|  BOW (MultinomialNB)   |         2.187          | 0.9144577752976191 | 0.8888424730366095 |    0.897436    |   0.977268  | 0.935652 |\n",
            "| TF-IDF (MultinomialNB) |         0.081          | 0.9918852306547619 | 0.8433085219504785 |    0.840964    |   0.999541  | 0.913421 |\n",
            "+------------------------+------------------------+--------------------+--------------------+----------------+-------------+----------+\n"
          ],
          "name": "stdout"
        }
      ]
    },
    {
      "metadata": {
        "id": "lkphzWhjQpq7",
        "colab_type": "text"
      },
      "cell_type": "markdown",
      "source": [
        "After the analysis of 50000 data points we conclude that the best model is when we apply **Multinomial Naive Bayes on BOW** with\n",
        "\n",
        "**Hyperparameter (K) = 2.187**\n",
        "\n",
        "**Training Accuracy = 91.44577752976191%**\n",
        "\n",
        "**Test Accuracy = 88.88424730366095%**"
      ]
    }
  ]
}